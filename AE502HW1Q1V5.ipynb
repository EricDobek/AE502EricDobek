{
 "cells": [
  {
   "cell_type": "code",
   "execution_count": 1,
   "metadata": {},
   "outputs": [],
   "source": [
    "#Importing all necessary modules\n",
    "import numpy as np\n",
    "import sympy as sym\n",
    "import math\n",
    "import matplotlib.pyplot as plt\n",
    "from mpl_toolkits import mplot3d"
   ]
  },
  {
   "cell_type": "code",
   "execution_count": 2,
   "metadata": {},
   "outputs": [
    {
     "name": "stdout",
     "output_type": "stream",
     "text": [
      "0.00029591220821316525\n",
      "600\n",
      "1600\n"
     ]
    }
   ],
   "source": [
    "#Constants\n",
    "Tol = 1.0E-8; #Tolerance\n",
    "mu_S = 1.32712440042E20; #m^3/s^2\n",
    "mu_day = 2.22972472E-24;\n",
    "mu_S = mu_S*mu_day; #AU^3/day^2\n",
    "dt_initial = 600;\n",
    "dt_final = 1600;\n",
    "Iter_initial_1I = 0;\n",
    "Iter_initial_2I = 0;\n",
    "Iter_initial_E = 0;\n",
    "Iter_final_1I = 0;\n",
    "Iter_final_2I = 0;\n",
    "Iter_final_E = 0;\n",
    "print(mu_S)\n",
    "print(dt_initial)\n",
    "print(dt_final)"
   ]
  },
  {
   "cell_type": "code",
   "execution_count": 3,
   "metadata": {},
   "outputs": [
    {
     "name": "stdout",
     "output_type": "stream",
     "text": [
      "[ 0.03515869 -3.16204639  4.49398311]\n",
      "[-0.00231758  0.00984336 -0.01541857]\n",
      "[ 7.24947203 14.61063038 14.24274452]\n",
      "[-0.00824171 -0.01156219 -0.01317136]\n",
      "[-1.79613651e-01  9.66794921e-01 -3.66868102e-05]\n",
      "[-1.72003836e-02 -3.21118620e-03  7.92773674e-07]\n"
     ]
    }
   ],
   "source": [
    "#Problem 1\n",
    "#Initial vectors (AU and AU/day)\n",
    "r_1I = np.array([3.515868886595499E-2,-3.162046390773074,4.493983111703389]);\n",
    "v_1I = np.array([-2.317577766980901E-3,9.843360903693031E-3,-1.541856855538041E-2]);\n",
    "r_2I = np.array([7.249472033259724,14.61063037906177,14.24274452216359]);\n",
    "v_2I = np.array([-8.241709369476881E-3,-1.156219024581502E-2,-1.317135977481448E-2]);\n",
    "r_E = np.array([-1.796136509111975E-1,9.667949206859814E-1,-3.668681017942158E-5]);\n",
    "v_E = np.array([-1.720038360888334E-2,-3.211186197806460E-3,7.927736735960840E-7]);\n",
    "print(r_1I)\n",
    "print(v_1I)\n",
    "print(r_2I)\n",
    "print(v_2I)\n",
    "print(r_E)\n",
    "print(v_E)"
   ]
  },
  {
   "cell_type": "code",
   "execution_count": 4,
   "metadata": {},
   "outputs": [
    {
     "name": "stdout",
     "output_type": "stream",
     "text": [
      "5.495057571953097\n",
      "0.018438958129008327\n",
      "21.653663347299887\n",
      "0.01936736262192\n",
      "0.9833379295053073\n",
      "0.017497568794498722\n"
     ]
    }
   ],
   "source": [
    "#Initial Magnitudes (AU and AU/day)\n",
    "r_1IM = np.sqrt(np.dot(r_1I,r_1I));\n",
    "v_1IM = np.sqrt(np.dot(v_1I,v_1I));\n",
    "r_2IM = np.sqrt(np.dot(r_2I,r_2I));\n",
    "v_2IM = np.sqrt(np.dot(v_2I,v_2I));\n",
    "r_EM = np.sqrt(np.dot(r_E,r_E));\n",
    "v_EM = np.sqrt(np.dot(v_E,v_E));\n",
    "print(r_1IM)\n",
    "print(v_1IM)\n",
    "print(r_2IM)\n",
    "print(v_2IM)\n",
    "print(r_EM)\n",
    "print(v_EM)"
   ]
  },
  {
   "cell_type": "code",
   "execution_count": 5,
   "metadata": {},
   "outputs": [
    {
     "name": "stdout",
     "output_type": "stream",
     "text": [
      "-0.01828869528532203\n",
      "-0.019224240962828414\n",
      "-1.539128816429416e-05\n"
     ]
    }
   ],
   "source": [
    "#Radial component velocities (AU/day)\n",
    "nu_r_1I = (np.dot(r_1I,v_1I))/r_1IM;\n",
    "nu_r_2I = (np.dot(r_2I,v_2I))/r_2IM;\n",
    "nu_r_E = (np.dot(r_E,v_E))/r_EM;\n",
    "print(nu_r_1I)\n",
    "print(nu_r_2I)\n",
    "print(nu_r_E)"
   ]
  },
  {
   "cell_type": "code",
   "execution_count": 6,
   "metadata": {},
   "outputs": [
    {
     "name": "stdout",
     "output_type": "stream",
     "text": [
      "-0.785009703080843\n",
      "-1.1752247768018413\n",
      "0.9992410036177539\n"
     ]
    }
   ],
   "source": [
    "#Alpha (Semi-major axis reciprocal, 1/AU) and Semi-major axis (AU)\n",
    "alpha_1I = (2/r_1IM) - (v_1IM**2 / mu_S);\n",
    "alpha_2I = (2/r_2IM) - (v_2IM**2 / mu_S);\n",
    "alpha_E = (2/r_EM) - (v_EM**2 / mu_S);\n",
    "print(alpha_1I)\n",
    "print(alpha_2I)\n",
    "print(alpha_E)"
   ]
  },
  {
   "cell_type": "code",
   "execution_count": 7,
   "metadata": {},
   "outputs": [
    {
     "name": "stdout",
     "output_type": "stream",
     "text": [
      "8.102288752472534\n",
      "12.129799737937752\n",
      "10.31342557021582\n"
     ]
    }
   ],
   "source": [
    "#Initial Universal Variable (AU^1/2)\n",
    "Chi_initial_1I = np.sqrt(mu_S)*np.abs(alpha_1I)*dt_initial;\n",
    "Chi_initial_2I = np.sqrt(mu_S)*np.abs(alpha_2I)*dt_initial;\n",
    "Chi_initial_E = np.sqrt(mu_S)*np.abs(alpha_E)*dt_initial;\n",
    "print(Chi_initial_1I)\n",
    "print(Chi_initial_2I)\n",
    "print(Chi_initial_E)"
   ]
  },
  {
   "cell_type": "code",
   "execution_count": 8,
   "metadata": {},
   "outputs": [
    {
     "name": "stdout",
     "output_type": "stream",
     "text": [
      "21.606103339926754\n",
      "32.34613263450068\n",
      "27.502468187242187\n"
     ]
    }
   ],
   "source": [
    "#Final Universal Variable (AU^1/2)\n",
    "Chi_final_1I = np.sqrt(mu_S)*np.abs(alpha_1I)*dt_final;\n",
    "Chi_final_2I = np.sqrt(mu_S)*np.abs(alpha_2I)*dt_final;\n",
    "Chi_final_E = np.sqrt(mu_S)*np.abs(alpha_E)*dt_final;\n",
    "print(Chi_final_1I)\n",
    "print(Chi_final_2I)\n",
    "print(Chi_final_E)"
   ]
  },
  {
   "cell_type": "code",
   "execution_count": 9,
   "metadata": {},
   "outputs": [
    {
     "name": "stdout",
     "output_type": "stream",
     "text": [
      "-51.533597156281424\n",
      "-172.91322084668562\n",
      "106.286015016223\n"
     ]
    }
   ],
   "source": [
    "#Initial z terms\n",
    "z_initial_1I = alpha_1I*Chi_initial_1I**2;\n",
    "z_initial_2I = alpha_2I*Chi_initial_2I**2;\n",
    "z_initial_E = alpha_E*Chi_initial_E**2;\n",
    "print(z_initial_1I)\n",
    "print(z_initial_2I)\n",
    "print(z_initial_E)"
   ]
  },
  {
   "cell_type": "code",
   "execution_count": 10,
   "metadata": {},
   "outputs": [
    {
     "name": "stdout",
     "output_type": "stream",
     "text": [
      "-366.46113533355674\n",
      "-1229.6051260208758\n",
      "755.8116623375859\n"
     ]
    }
   ],
   "source": [
    "#Final z terms\n",
    "z_final_1I = alpha_1I*Chi_final_1I**2;\n",
    "z_final_2I = alpha_2I*Chi_final_2I**2;\n",
    "z_final_E = alpha_E*Chi_final_E**2;\n",
    "print(z_final_1I)\n",
    "print(z_final_2I)\n",
    "print(z_final_E)"
   ]
  },
  {
   "cell_type": "code",
   "execution_count": 11,
   "metadata": {},
   "outputs": [
    {
     "name": "stdout",
     "output_type": "stream",
     "text": [
      "12.70230444148628\n",
      "1485.7964654091058\n",
      "0.015368872003262271\n"
     ]
    }
   ],
   "source": [
    "#Initial C functions\n",
    "C_initial_1I = (np.cosh(np.sqrt(-z_initial_1I)) - 1)/-z_initial_1I;\n",
    "C_initial_2I = (np.cosh(np.sqrt(-z_initial_2I)) - 1)/-z_initial_2I;\n",
    "C_initial_E = (1 - np.cos(np.sqrt(z_initial_E)))/z_initial_E;\n",
    "print(C_initial_1I)\n",
    "print(C_initial_2I)\n",
    "print(C_initial_E)"
   ]
  },
  {
   "cell_type": "code",
   "execution_count": 12,
   "metadata": {},
   "outputs": [
    {
     "name": "stdout",
     "output_type": "stream",
     "text": [
      "281007.0333484178\n",
      "688740400927.8279\n",
      "0.0022615299666585583\n"
     ]
    }
   ],
   "source": [
    "#Final C functions\n",
    "C_final_1I = (np.cosh(np.sqrt(-z_final_1I)) - 1)/-z_final_1I;\n",
    "C_final_2I = (np.cosh(np.sqrt(-z_final_2I)) - 1)/-z_final_2I;\n",
    "C_final_E = (1 - np.cos(np.sqrt(z_final_E)))/z_final_E;\n",
    "print(C_final_1I)\n",
    "print(C_final_2I)\n",
    "print(C_final_E)"
   ]
  },
  {
   "cell_type": "code",
   "execution_count": 13,
   "metadata": {},
   "outputs": [
    {
     "name": "stdout",
     "output_type": "stream",
     "text": [
      "1.7527421335961526\n",
      "112.98601256145113\n",
      "0.01011470467398887\n"
     ]
    }
   ],
   "source": [
    "#Initial S functions\n",
    "S_initial_1I = (np.sinh(np.sqrt(-z_initial_1I)) - np.sqrt(-z_initial_1I))/(np.sqrt(-z_initial_1I)**3);\n",
    "S_initial_2I = (np.sinh(np.sqrt(-z_initial_2I)) - np.sqrt(-z_initial_2I))/(np.sqrt(-z_initial_2I)**3);\n",
    "S_initial_E = (np.sqrt(z_initial_E) - np.sin(np.sqrt(z_initial_E)))/(np.sqrt(z_initial_E)**3);\n",
    "print(S_initial_1I)\n",
    "print(S_initial_2I)\n",
    "print(S_initial_E)"
   ]
  },
  {
   "cell_type": "code",
   "execution_count": 14,
   "metadata": {},
   "outputs": [
    {
     "name": "stdout",
     "output_type": "stream",
     "text": [
      "14679.225839495928\n",
      "19641412951.691013\n",
      "0.001289156154631272\n"
     ]
    }
   ],
   "source": [
    "#Final S functions\n",
    "S_final_1I = (np.sinh(np.sqrt(-z_final_1I)) - np.sqrt(-z_final_1I))/(np.sqrt(-z_final_1I)**3);\n",
    "S_final_2I = (np.sinh(np.sqrt(-z_final_2I)) - np.sqrt(-z_final_2I))/(np.sqrt(-z_final_2I)**3);\n",
    "S_final_E = (np.sqrt(z_final_E) - np.sin(np.sqrt(z_final_E)))/(np.sqrt(z_final_E)**3);\n",
    "print(S_final_1I)\n",
    "print(S_final_2I)\n",
    "print(S_final_E)"
   ]
  },
  {
   "cell_type": "code",
   "execution_count": 15,
   "metadata": {},
   "outputs": [
    {
     "name": "stdout",
     "output_type": "stream",
     "text": [
      "116.37520436850168\n",
      "43197.94501610339\n",
      "0.01204676002369176\n"
     ]
    }
   ],
   "source": [
    "#f initial (AU^1/2)\n",
    "f_initial_1I = ((r_1IM*nu_r_1I)/np.sqrt(mu_S))*(Chi_initial_1I**2)*(C_initial_1I) + (1 - alpha_1I*r_1IM)*(Chi_initial_1I**3)*(S_initial_1I) + (r_1IM*Chi_initial_1I) - np.sqrt(mu_S)*dt_initial;\n",
    "f_initial_2I = ((r_2IM*nu_r_2I)/np.sqrt(mu_S))*(Chi_initial_2I**2)*(C_initial_2I) + (1 - alpha_2I*r_2IM)*(Chi_initial_2I**3)*(S_initial_2I) + (r_2IM*Chi_initial_2I) - np.sqrt(mu_S)*dt_initial;\n",
    "f_initial_E = ((r_EM*nu_r_E)/np.sqrt(mu_S))*(Chi_initial_E**2)*(C_initial_E) + (1 - alpha_E*r_EM)*(Chi_initial_E**3)*(S_initial_E) + (r_EM*Chi_initial_E) - np.sqrt(mu_S)*dt_initial;\n",
    "print(f_initial_1I)\n",
    "print(f_initial_2I)\n",
    "print(f_initial_E)"
   ]
  },
  {
   "cell_type": "code",
   "execution_count": 16,
   "metadata": {},
   "outputs": [
    {
     "name": "stdout",
     "output_type": "stream",
     "text": [
      "20354050.09231681\n",
      "142395287789182.88\n",
      "-0.013790478720107302\n"
     ]
    }
   ],
   "source": [
    "#f final (AU^1/2)\n",
    "f_final_1I = ((r_1IM*nu_r_1I)/np.sqrt(mu_S))*(Chi_final_1I**2)*(C_final_1I) + (1 - alpha_1I*r_1IM)*(Chi_final_1I**3)*(S_final_1I) + (r_1IM*Chi_final_1I) - np.sqrt(mu_S)*dt_final;\n",
    "f_final_2I = ((r_2IM*nu_r_2I)/np.sqrt(mu_S))*(Chi_final_2I**2)*(C_final_2I) + (1 - alpha_2I*r_2IM)*(Chi_final_2I**3)*(S_final_2I) + (r_2IM*Chi_final_2I) - np.sqrt(mu_S)*dt_final;\n",
    "f_final_E = ((r_EM*nu_r_E)/np.sqrt(mu_S))*(Chi_final_E**2)*(C_final_E) + (1 - alpha_E*r_EM)*(Chi_final_E**3)*(S_final_E) + (r_EM*Chi_final_E) - np.sqrt(mu_S)*dt_final;\n",
    "print(f_final_1I)\n",
    "print(f_final_2I)\n",
    "print(f_final_E)"
   ]
  },
  {
   "cell_type": "code",
   "execution_count": 17,
   "metadata": {},
   "outputs": [
    {
     "name": "stdout",
     "output_type": "stream",
     "text": [
      "113.54128018761274\n",
      "46829.14019421005\n",
      "1.0124771365481888\n"
     ]
    }
   ],
   "source": [
    "#fprime initial (AU^2/3)\n",
    "fprime_initial_1I = ((r_1IM*nu_r_1I)/np.sqrt(mu_S))*Chi_initial_1I*(1 - alpha_1I*(Chi_initial_1I**2)*S_initial_1I) + (1 - alpha_1I*r_1IM)*(Chi_initial_1I**2)*C_initial_1I + r_1IM;\n",
    "fprime_initial_2I = ((r_2IM*nu_r_2I)/np.sqrt(mu_S))*Chi_initial_2I*(1 - alpha_2I*(Chi_initial_2I**2)*S_initial_2I) + (1 - alpha_2I*r_2IM)*(Chi_initial_2I**2)*C_initial_2I + r_2IM;\n",
    "fprime_initial_E = ((r_EM*nu_r_E)/np.sqrt(mu_S))*Chi_initial_E*(1 - alpha_E*(Chi_initial_E**2)*S_initial_E) + (1 - alpha_E*r_EM)*(Chi_initial_E**2)*C_initial_E + r_EM;\n",
    "print(fprime_initial_1I)\n",
    "print(fprime_initial_2I)\n",
    "print(fprime_initial_E)"
   ]
  },
  {
   "cell_type": "code",
   "execution_count": 18,
   "metadata": {},
   "outputs": [
    {
     "name": "stdout",
     "output_type": "stream",
     "text": [
      "18033886.685471404\n",
      "154367576907401.66\n",
      "1.0124961446270202\n"
     ]
    }
   ],
   "source": [
    "#fprime final (AU^2/3)\n",
    "fprime_final_1I = ((r_1IM*nu_r_1I)/np.sqrt(mu_S))*Chi_final_1I*(1 - alpha_1I*(Chi_final_1I**2)*S_final_1I) + (1 - alpha_1I*r_1IM)*(Chi_final_1I**2)*C_final_1I + r_1IM;\n",
    "fprime_final_2I = ((r_2IM*nu_r_2I)/np.sqrt(mu_S))*Chi_final_2I*(1 - alpha_2I*(Chi_final_2I**2)*S_final_2I) + (1 - alpha_2I*r_2IM)*(Chi_final_2I**2)*C_final_2I + r_2IM;\n",
    "fprime_final_E = ((r_EM*nu_r_E)/np.sqrt(mu_S))*Chi_final_E*(1 - alpha_E*(Chi_final_E**2)*S_final_E) + (1 - alpha_E*r_EM)*(Chi_final_E**2)*C_final_E + r_EM;\n",
    "print(fprime_final_1I)\n",
    "print(fprime_final_2I)\n",
    "print(fprime_final_E)"
   ]
  },
  {
   "cell_type": "code",
   "execution_count": 19,
   "metadata": {},
   "outputs": [
    {
     "name": "stdout",
     "output_type": "stream",
     "text": [
      "1.0249594171935197\n",
      "0.9224586408580779\n",
      "0.011898303269111296\n"
     ]
    }
   ],
   "source": [
    "#Ratio initial\n",
    "Ratio_initial_1I = f_initial_1I/fprime_initial_1I;\n",
    "Ratio_initial_2I = f_initial_2I/fprime_initial_2I;\n",
    "Ratio_initial_E = f_initial_E/fprime_initial_E;\n",
    "print(Ratio_initial_1I)\n",
    "print(Ratio_initial_2I)\n",
    "print(Ratio_initial_E)"
   ]
  },
  {
   "cell_type": "code",
   "execution_count": 20,
   "metadata": {},
   "outputs": [
    {
     "name": "stdout",
     "output_type": "stream",
     "text": [
      "1.1286557605307896\n",
      "0.922442980850827\n",
      "-0.013620277759366077\n"
     ]
    }
   ],
   "source": [
    "#Ratio final\n",
    "Ratio_final_1I = f_final_1I/fprime_final_1I;\n",
    "Ratio_final_2I = f_final_2I/fprime_final_2I;\n",
    "Ratio_final_E = f_final_E/fprime_final_E;\n",
    "print(Ratio_final_1I)\n",
    "print(Ratio_final_2I)\n",
    "print(Ratio_final_E)"
   ]
  },
  {
   "cell_type": "code",
   "execution_count": 21,
   "metadata": {},
   "outputs": [
    {
     "name": "stdout",
     "output_type": "stream",
     "text": [
      "1.6962750155884766e-12\n",
      "7\n",
      "5.156119158905382\n"
     ]
    }
   ],
   "source": [
    "#1I Initial Loop\n",
    "while np.abs(Ratio_initial_1I) >= Tol:\n",
    "    Chi_i_initial_1I = Chi_initial_1I - Ratio_initial_1I;\n",
    "    z_initial_1I = alpha_1I*Chi_i_initial_1I**2;\n",
    "    C_initial_1I = (np.cosh(np.sqrt(-z_initial_1I)) - 1)/-z_initial_1I;\n",
    "    S_initial_1I = (np.sinh(np.sqrt(-z_initial_1I)) - np.sqrt(-z_initial_1I))/(np.sqrt(-z_initial_1I)**3);\n",
    "    f_initial_1I = ((r_1IM*nu_r_1I)/np.sqrt(mu_S))*(Chi_i_initial_1I**2)*(C_initial_1I) + (1 - alpha_1I*r_1IM)*(Chi_i_initial_1I**3)*(S_initial_1I) + (r_1IM*Chi_i_initial_1I) - np.sqrt(mu_S)*dt_initial;\n",
    "    fprime_initial_1I = ((r_1IM*nu_r_1I)/np.sqrt(mu_S))*Chi_i_initial_1I*(1 - alpha_1I*(Chi_i_initial_1I**2)*S_initial_1I) + (1 - alpha_1I*r_1IM)*(Chi_i_initial_1I**2)*C_initial_1I + r_1IM;\n",
    "    Ratio_initial_1I = f_initial_1I/fprime_initial_1I;\n",
    "    Chi_initial_1I = Chi_i_initial_1I;\n",
    "    Iter_initial_1I += 1;\n",
    "print(Ratio_initial_1I)\n",
    "print(Iter_initial_1I)\n",
    "print(Chi_initial_1I)"
   ]
  },
  {
   "cell_type": "code",
   "execution_count": 22,
   "metadata": {},
   "outputs": [
    {
     "name": "stdout",
     "output_type": "stream",
     "text": [
      "4.4093523592594005e-14\n",
      "18\n",
      "6.382629131986297\n"
     ]
    }
   ],
   "source": [
    "#1I Final Loop\n",
    "while np.abs(Ratio_final_1I) >= Tol:\n",
    "    Chi_i_final_1I = Chi_final_1I - Ratio_final_1I;\n",
    "    z_final_1I = alpha_1I*Chi_i_final_1I**2;\n",
    "    C_final_1I = (np.cosh(np.sqrt(-z_final_1I)) - 1)/-z_final_1I;\n",
    "    S_final_1I = (np.sinh(np.sqrt(-z_final_1I)) - np.sqrt(-z_final_1I))/(np.sqrt(-z_final_1I)**3);\n",
    "    f_final_1I = ((r_1IM*nu_r_1I)/np.sqrt(mu_S))*(Chi_i_final_1I**2)*(C_final_1I) + (1 - alpha_1I*r_1IM)*(Chi_i_final_1I**3)*(S_final_1I) + (r_1IM*Chi_i_final_1I) - np.sqrt(mu_S)*dt_final;\n",
    "    fprime_final_1I = ((r_1IM*nu_r_1I)/np.sqrt(mu_S))*Chi_i_final_1I*(1 - alpha_1I*(Chi_i_final_1I**2)*S_final_1I) + (1 - alpha_1I*r_1IM)*(Chi_i_final_1I**2)*C_final_1I + r_1IM;\n",
    "    Ratio_final_1I = f_final_1I/fprime_final_1I;\n",
    "    Chi_final_1I = Chi_i_final_1I;\n",
    "    Iter_final_1I += 1;\n",
    "print(Ratio_final_1I)\n",
    "print(Iter_final_1I)\n",
    "print(Chi_final_1I)"
   ]
  },
  {
   "cell_type": "code",
   "execution_count": 23,
   "metadata": {},
   "outputs": [
    {
     "name": "stdout",
     "output_type": "stream",
     "text": [
      "-3.310283330448534e-14\n",
      "16\n",
      "0.6825310102435472\n"
     ]
    }
   ],
   "source": [
    "#2I Initial Loop\n",
    "while np.abs(Ratio_initial_2I) >= Tol:\n",
    "    Chi_i_initial_2I = Chi_initial_2I - Ratio_initial_2I;\n",
    "    z_initial_2I = alpha_2I*Chi_i_initial_2I**2;\n",
    "    C_initial_2I = (np.cosh(np.sqrt(-z_initial_2I)) - 1)/-z_initial_2I;\n",
    "    S_initial_2I = (np.sinh(np.sqrt(-z_initial_2I)) - np.sqrt(-z_initial_2I))/(np.sqrt(-z_initial_2I)**3);\n",
    "    f_initial_2I = ((r_2IM*nu_r_2I)/np.sqrt(mu_S))*(Chi_i_initial_2I**2)*(C_initial_2I) + (1 - alpha_2I*r_2IM)*(Chi_i_initial_2I**3)*(S_initial_2I) + (r_2IM*Chi_i_initial_2I) - np.sqrt(mu_S)*dt_initial;\n",
    "    fprime_initial_2I = ((r_2IM*nu_r_2I)/np.sqrt(mu_S))*Chi_i_initial_2I*(1 - alpha_2I*(Chi_i_initial_2I**2)*S_initial_2I) + (1 - alpha_2I*r_2IM)*(Chi_i_initial_2I**2)*C_initial_2I + r_2IM;\n",
    "    Ratio_initial_2I = f_initial_2I/fprime_initial_2I;\n",
    "    Chi_initial_2I = Chi_i_initial_2I;\n",
    "    Iter_initial_2I += 1;\n",
    "print(Ratio_initial_2I)\n",
    "print(Iter_initial_2I)\n",
    "print(Chi_initial_2I)"
   ]
  },
  {
   "cell_type": "code",
   "execution_count": 24,
   "metadata": {},
   "outputs": [
    {
     "name": "stdout",
     "output_type": "stream",
     "text": [
      "6.7074295283888946e-09\n",
      "34\n",
      "4.48847658912458\n"
     ]
    }
   ],
   "source": [
    "#2I Final Loop\n",
    "while np.abs(Ratio_final_2I) >= Tol:\n",
    "    Chi_i_final_2I = Chi_final_2I - Ratio_final_2I;\n",
    "    z_final_2I = alpha_2I*Chi_i_final_2I**2;\n",
    "    C_final_2I = (np.cosh(np.sqrt(-z_final_2I)) - 1)/-z_final_2I;\n",
    "    S_final_2I = (np.sinh(np.sqrt(-z_final_2I)) - np.sqrt(-z_final_2I))/(np.sqrt(-z_final_2I)**3);\n",
    "    f_final_2I = ((r_2IM*nu_r_2I)/np.sqrt(mu_S))*(Chi_i_final_2I**2)*(C_final_2I) + (1 - alpha_2I*r_2IM)*(Chi_i_final_2I**3)*(S_final_2I) + (r_2IM*Chi_i_final_2I) - np.sqrt(mu_S)*dt_final;\n",
    "    fprime_final_2I = ((r_2IM*nu_r_2I)/np.sqrt(mu_S))*Chi_i_final_2I*(1 - alpha_2I*(Chi_i_final_2I**2)*S_final_2I) + (1 - alpha_2I*r_2IM)*(Chi_i_final_2I**2)*C_final_2I + r_2IM;\n",
    "    Ratio_final_2I = f_final_2I/fprime_final_2I;\n",
    "    Chi_final_2I = Chi_i_final_2I;\n",
    "    Iter_final_2I += 1;\n",
    "print(Ratio_final_2I)\n",
    "print(Iter_final_2I)\n",
    "print(Chi_final_2I)"
   ]
  },
  {
   "cell_type": "code",
   "execution_count": 25,
   "metadata": {},
   "outputs": [
    {
     "name": "stdout",
     "output_type": "stream",
     "text": [
      "-5.262603892710835e-15\n",
      "2\n",
      "10.301528166644339\n"
     ]
    }
   ],
   "source": [
    "#E Initial Loop\n",
    "while np.abs(Ratio_initial_E) >= Tol:\n",
    "    Chi_i_initial_E = Chi_initial_E - Ratio_initial_E;\n",
    "    z_initial_E = alpha_E*Chi_i_initial_E**2;\n",
    "    C_initial_E = (1 - np.cos(np.sqrt(z_initial_E)))/z_initial_E;\n",
    "    S_initial_E = (np.sqrt(z_initial_E) - np.sin(np.sqrt(z_initial_E)))/(np.sqrt(z_initial_E)**3);\n",
    "    f_initial_E = ((r_EM*nu_r_E)/np.sqrt(mu_S))*(Chi_i_initial_E**2)*(C_initial_E) + (1 - alpha_E*r_EM)*(Chi_i_initial_E**3)*(S_initial_E) + (r_EM*Chi_i_initial_E) - np.sqrt(mu_S)*dt_initial;\n",
    "    fprime_initial_E = ((r_EM*nu_r_E)/np.sqrt(mu_S))*Chi_i_initial_E*(1 - alpha_E*(Chi_i_initial_E**2)*S_initial_E) + (1 - alpha_E*r_EM)*(Chi_i_initial_E**2)*C_initial_E + r_EM;\n",
    "    Ratio_initial_E = f_initial_E/fprime_initial_E;\n",
    "    Chi_initial_E = Chi_i_initial_E;\n",
    "    Iter_initial_E += 1;\n",
    "print(Ratio_initial_E)\n",
    "print(Iter_initial_E)\n",
    "print(Chi_initial_E)"
   ]
  },
  {
   "cell_type": "code",
   "execution_count": 26,
   "metadata": {},
   "outputs": [
    {
     "name": "stdout",
     "output_type": "stream",
     "text": [
      "1.0524784226222152e-14\n",
      "2\n",
      "27.51608728829896\n"
     ]
    }
   ],
   "source": [
    "#E Final Loop\n",
    "while np.abs(Ratio_final_E) >= Tol:\n",
    "    Chi_i_final_E = Chi_final_E - Ratio_final_E;\n",
    "    z_final_E = alpha_E*Chi_i_final_E**2;\n",
    "    C_final_E = (1 - np.cos(np.sqrt(z_final_E)))/z_final_E;\n",
    "    S_final_E = (np.sqrt(z_final_E) - np.sin(np.sqrt(z_final_E)))/(np.sqrt(z_final_E)**3);\n",
    "    f_final_E = ((r_EM*nu_r_E)/np.sqrt(mu_S))*(Chi_i_final_E**2)*(C_final_E) + (1 - alpha_E*r_EM)*(Chi_i_final_E**3)*(S_final_E) + (r_EM*Chi_i_final_E) - np.sqrt(mu_S)*dt_final;\n",
    "    fprime_final_E = ((r_EM*nu_r_E)/np.sqrt(mu_S))*Chi_i_final_E*(1 - alpha_E*(Chi_i_final_E**2)*S_final_E) + (1 - alpha_E*r_EM)*(Chi_i_final_E**2)*C_final_E + r_EM;\n",
    "    Ratio_final_E = f_final_E/fprime_final_E;\n",
    "    Chi_final_E = Chi_i_final_E;\n",
    "    Iter_final_E += 1;\n",
    "print(Ratio_final_E)\n",
    "print(Iter_final_E)\n",
    "print(Chi_final_E)"
   ]
  },
  {
   "cell_type": "code",
   "execution_count": 27,
   "metadata": {},
   "outputs": [
    {
     "name": "stdout",
     "output_type": "stream",
     "text": [
      "-9.941535256802489\n",
      "0.9887433898238898\n",
      "-0.6717558438930185\n"
     ]
    }
   ],
   "source": [
    "#Initial f functions\n",
    "f_func_initial_1I = 1 - ((Chi_initial_1I**2)/r_1IM)*C_initial_1I;\n",
    "f_func_initial_2I = 1 - ((Chi_initial_2I**2)/r_2IM)*C_initial_2I;\n",
    "f_func_initial_E = 1 - ((Chi_initial_E**2)/r_EM)*C_initial_E;\n",
    "print(f_func_initial_1I)\n",
    "print(f_func_initial_2I)\n",
    "print(f_func_initial_E)"
   ]
  },
  {
   "cell_type": "code",
   "execution_count": 28,
   "metadata": {},
   "outputs": [
    {
     "name": "stdout",
     "output_type": "stream",
     "text": [
      "-31.888067816866688\n",
      "-1.5108131669967277\n",
      "-0.7492734656019839\n"
     ]
    }
   ],
   "source": [
    "#Final f functions\n",
    "f_func_final_1I = 1 - ((Chi_final_1I**2)/r_1IM)*C_final_1I;\n",
    "f_func_final_2I = 1 - ((Chi_final_2I**2)/r_2IM)*C_final_2I;\n",
    "f_func_final_E = 1 - ((Chi_final_E**2)/r_EM)*C_final_E;\n",
    "print(f_func_final_1I)\n",
    "print(f_func_final_2I)\n",
    "print(f_func_final_E)"
   ]
  },
  {
   "cell_type": "code",
   "execution_count": 29,
   "metadata": {},
   "outputs": [
    {
     "name": "stdout",
     "output_type": "stream",
     "text": [
      "-3045.746351144728\n",
      "596.8339706383401\n",
      "-43.897192381605464\n"
     ]
    }
   ],
   "source": [
    "#Initial g functions\n",
    "g_func_initial_1I = dt_initial - (1/np.sqrt(mu_S))*(Chi_initial_1I**3)*S_initial_1I;\n",
    "g_func_initial_2I = dt_initial - (1/np.sqrt(mu_S))*(Chi_initial_2I**3)*S_initial_2I;\n",
    "g_func_initial_E = dt_initial - (1/np.sqrt(mu_S))*(Chi_initial_E**3)*S_initial_E;\n",
    "print(g_func_initial_1I)\n",
    "print(g_func_initial_2I)\n",
    "print(g_func_initial_E)"
   ]
  },
  {
   "cell_type": "code",
   "execution_count": 30,
   "metadata": {},
   "outputs": [
    {
     "name": "stdout",
     "output_type": "stream",
     "text": [
      "-9868.093966419072\n",
      "-1138.6931114916033\n",
      "39.66711246519503\n"
     ]
    }
   ],
   "source": [
    "#Final g functions\n",
    "g_func_final_1I = dt_final - (1/np.sqrt(mu_S))*(Chi_final_1I**3)*S_final_1I;\n",
    "g_func_final_2I = dt_final - (1/np.sqrt(mu_S))*(Chi_final_2I**3)*S_final_2I;\n",
    "g_func_final_E = dt_final - (1/np.sqrt(mu_S))*(Chi_final_E**3)*S_final_E;\n",
    "print(g_func_final_1I)\n",
    "print(g_func_final_2I)\n",
    "print(g_func_final_E)"
   ]
  },
  {
   "cell_type": "code",
   "execution_count": 31,
   "metadata": {},
   "outputs": [
    {
     "name": "stdout",
     "output_type": "stream",
     "text": [
      "[6.70922268 1.45521512 2.28395737]\n",
      "[2.24893542 7.54545629 6.22130455]\n",
      "[ 8.75705068e-01 -5.08488080e-01 -1.01559593e-05]\n"
     ]
    }
   ],
   "source": [
    "#Initial position vectors\n",
    "r_initial_1I = f_func_initial_1I*r_1I + g_func_initial_1I*v_1I;\n",
    "r_initial_2I = f_func_initial_2I*r_2I + g_func_initial_2I*v_2I;\n",
    "r_initial_E = f_func_initial_E*r_E + g_func_initial_E*v_E;\n",
    "print(r_initial_1I)\n",
    "print(r_initial_2I)\n",
    "print(r_initial_E)"
   ]
  },
  {
   "cell_type": "code",
   "execution_count": 32,
   "metadata": {},
   "outputs": [
    {
     "name": "stdout",
     "output_type": "stream",
     "text": [
      "[21.74893252  3.69633941  8.8474451 ]\n",
      "[-1.56782012 -8.90814637 -6.51998931]\n",
      "[-5.47709808e-01 -8.51772265e-01  5.89354959e-05]\n"
     ]
    }
   ],
   "source": [
    "#Final position vectors\n",
    "r_final_1I = f_func_final_1I*r_1I + g_func_final_1I*v_1I;\n",
    "r_final_2I = f_func_final_2I*r_2I + g_func_final_2I*v_2I;\n",
    "r_final_E = f_func_final_E*r_E + g_func_final_E*v_E;\n",
    "print(r_final_1I)\n",
    "print(r_final_2I)\n",
    "print(r_final_E)"
   ]
  },
  {
   "cell_type": "code",
   "execution_count": 33,
   "metadata": {},
   "outputs": [
    {
     "name": "stdout",
     "output_type": "stream",
     "text": [
      "7.235176660999482\n",
      "10.0347521891072\n",
      "1.0126299882805065\n"
     ]
    }
   ],
   "source": [
    "#Initial position vector magnitudes\n",
    "r_initial_1IM = np.sqrt(np.dot(r_initial_1I,r_initial_1I));\n",
    "r_initial_2IM = np.sqrt(np.dot(r_initial_2I,r_initial_2I));\n",
    "r_initial_EM = np.sqrt(np.dot(r_initial_E,r_initial_E));\n",
    "print(r_initial_1IM)\n",
    "print(r_initial_2IM)\n",
    "print(r_initial_EM)"
   ]
  },
  {
   "cell_type": "code",
   "execution_count": 34,
   "metadata": {},
   "outputs": [
    {
     "name": "stdout",
     "output_type": "stream",
     "text": [
      "23.7688088829032\n",
      "11.150040012580032\n",
      "1.0126707405408886\n"
     ]
    }
   ],
   "source": [
    "#Final position vector magnitudes\n",
    "r_final_1IM = np.sqrt(np.dot(r_final_1I,r_final_1I));\n",
    "r_final_2IM = np.sqrt(np.dot(r_final_2I,r_final_2I));\n",
    "r_final_EM = np.sqrt(np.dot(r_final_E,r_final_E));\n",
    "print(r_final_1IM)\n",
    "print(r_final_2IM)\n",
    "print(r_final_EM)"
   ]
  },
  {
   "cell_type": "code",
   "execution_count": 35,
   "metadata": {},
   "outputs": [
    {
     "name": "stdout",
     "output_type": "stream",
     "text": [
      "-0.023532060969045778\n",
      "-5.91009502028427e-05\n",
      "0.013240690244398532\n"
     ]
    }
   ],
   "source": [
    "#Initial fdot functions\n",
    "fdot_initial_1I = (np.sqrt(mu_S)/(r_1IM*r_initial_1IM))*(alpha_1I*(Chi_initial_1I**3)*S_initial_1I - Chi_initial_1I);\n",
    "fdot_initial_2I = (np.sqrt(mu_S)/(r_2IM*r_initial_2IM))*(alpha_2I*(Chi_initial_2I**3)*S_initial_2I - Chi_initial_2I);\n",
    "fdot_initial_E = (np.sqrt(mu_S)/(r_EM*r_initial_EM))*(alpha_E*(Chi_initial_E**3)*S_initial_E - Chi_initial_E);\n",
    "print(fdot_initial_1I)\n",
    "print(fdot_initial_2I)\n",
    "print(fdot_initial_E)"
   ]
  },
  {
   "cell_type": "code",
   "execution_count": 36,
   "metadata": {},
   "outputs": [
    {
     "name": "stdout",
     "output_type": "stream",
     "text": [
      "-0.021236833703424135\n",
      "-0.004264544777268291\n",
      "-0.01201383844455548\n"
     ]
    }
   ],
   "source": [
    "#Final fdot functions\n",
    "fdot_final_1I = (np.sqrt(mu_S)/(r_1IM*r_final_1IM))*(alpha_1I*(Chi_final_1I**3)*S_final_1I - Chi_final_1I);\n",
    "fdot_final_2I = (np.sqrt(mu_S)/(r_2IM*r_final_2IM))*(alpha_2I*(Chi_final_2I**3)*S_final_2I - Chi_final_2I);\n",
    "fdot_final_E = (np.sqrt(mu_S)/(r_EM*r_final_EM))*(alpha_E*(Chi_final_E**3)*S_final_E - Chi_final_E);\n",
    "print(fdot_final_1I)\n",
    "print(fdot_final_2I)\n",
    "print(fdot_final_E)"
   ]
  },
  {
   "cell_type": "code",
   "execution_count": 37,
   "metadata": {},
   "outputs": [
    {
     "name": "stdout",
     "output_type": "stream",
     "text": [
      "-7.3100066492887255\n",
      "0.9757097292895911\n",
      "-0.6233974395362116\n"
     ]
    }
   ],
   "source": [
    "#Initial gdot functions\n",
    "gdot_initial_1I = 1 - ((Chi_initial_1I**2)/r_initial_1IM)*C_initial_1I;\n",
    "gdot_initial_2I = 1 - ((Chi_initial_2I**2)/r_initial_2IM)*C_initial_2I;\n",
    "gdot_initial_E = 1 - ((Chi_initial_E**2)/r_initial_EM)*C_initial_E;\n",
    "print(gdot_initial_1I)\n",
    "print(gdot_initial_2I)\n",
    "print(gdot_initial_E)"
   ]
  },
  {
   "cell_type": "code",
   "execution_count": 38,
   "metadata": {},
   "outputs": [
    {
     "name": "stdout",
     "output_type": "stream",
     "text": [
      "-6.603318574956974\n",
      "-3.876063492577064\n",
      "-0.6986043725178361\n"
     ]
    }
   ],
   "source": [
    "#Final gdot functions\n",
    "gdot_final_1I = 1 - ((Chi_final_1I**2)/r_final_1IM)*C_final_1I;\n",
    "gdot_final_2I = 1 - ((Chi_final_2I**2)/r_final_2IM)*C_final_2I;\n",
    "gdot_final_E = 1 - ((Chi_final_E**2)/r_final_EM)*C_final_E;\n",
    "print(gdot_final_1I)\n",
    "print(gdot_final_2I)\n",
    "print(gdot_final_E)"
   ]
  },
  {
   "cell_type": "code",
   "execution_count": 39,
   "metadata": {},
   "outputs": [
    {
     "name": "stdout",
     "output_type": "stream",
     "text": [
      "[0.01611415 0.00245443 0.00695715]\n",
      "[-0.00846997 -0.01214484 -0.01369318]\n",
      "[ 8.34446639e-03  1.48028773e-02 -9.79971768e-07]\n"
     ]
    }
   ],
   "source": [
    "#Initial velocity vectors\n",
    "v_initial_1I = fdot_initial_1I*r_1I + gdot_initial_1I*v_1I;\n",
    "v_initial_2I = fdot_initial_2I*r_2I + gdot_initial_2I*v_2I;\n",
    "v_initial_E = fdot_initial_E*r_E + gdot_initial_E*v_E;\n",
    "print(v_initial_1I)\n",
    "print(v_initial_2I)\n",
    "print(v_initial_E)"
   ]
  },
  {
   "cell_type": "code",
   "execution_count": 40,
   "metadata": {},
   "outputs": [
    {
     "name": "stdout",
     "output_type": "stream",
     "text": [
      "[0.01455705 0.00215301 0.00637575]\n",
      "[ 0.00102969 -0.0174919  -0.00968579]\n",
      "[ 1.41741126e-02 -9.37156927e-03 -1.13085744e-07]\n"
     ]
    }
   ],
   "source": [
    "#Final velocity vectors\n",
    "v_final_1I = fdot_final_1I*r_1I + gdot_final_1I*v_1I;\n",
    "v_final_2I = fdot_final_2I*r_2I + gdot_final_2I*v_2I;\n",
    "v_final_E = fdot_final_E*r_E + gdot_final_E*v_E;\n",
    "print(v_final_1I)\n",
    "print(v_final_2I)\n",
    "print(v_final_E)"
   ]
  },
  {
   "cell_type": "code",
   "execution_count": 41,
   "metadata": {},
   "outputs": [
    {
     "name": "stdout",
     "output_type": "stream",
     "text": [
      "0.017722645208019597\n",
      "0.020167816957524155\n",
      "0.016992801340955817\n"
     ]
    }
   ],
   "source": [
    "#Initial velocity vector magnitudes\n",
    "v_initial_1IM = np.sqrt(np.dot(v_initial_1I,v_initial_1I));\n",
    "v_initial_2IM = np.sqrt(np.dot(v_initial_2I,v_initial_2I));\n",
    "v_initial_EM = np.sqrt(np.dot(v_initial_E,v_initial_E));\n",
    "print(v_initial_1IM)\n",
    "print(v_initial_2IM)\n",
    "print(v_initial_EM)"
   ]
  },
  {
   "cell_type": "code",
   "execution_count": 42,
   "metadata": {},
   "outputs": [
    {
     "name": "stdout",
     "output_type": "stream",
     "text": [
      "0.01603724285861022\n",
      "0.020021028747810588\n",
      "0.016992109287881328\n"
     ]
    }
   ],
   "source": [
    "#Final velocity vector magnitudes\n",
    "v_final_1IM = np.sqrt(np.dot(v_final_1I,v_final_1I));\n",
    "v_final_2IM = np.sqrt(np.dot(v_final_2I,v_final_2I));\n",
    "v_final_EM = np.sqrt(np.dot(v_final_E,v_final_E));\n",
    "print(v_final_1IM)\n",
    "print(v_final_2IM)\n",
    "print(v_final_EM)"
   ]
  }
 ],
 "metadata": {
  "kernelspec": {
   "display_name": "Python 3",
   "language": "python",
   "name": "python3"
  },
  "language_info": {
   "codemirror_mode": {
    "name": "ipython",
    "version": 3
   },
   "file_extension": ".py",
   "mimetype": "text/x-python",
   "name": "python",
   "nbconvert_exporter": "python",
   "pygments_lexer": "ipython3",
   "version": "3.8.3"
  },
  "vscode": {
   "interpreter": {
    "hash": "31f2aee4e71d21fbe5cf8b01ff0e069b9275f58929596ceb00d14d90e3e16cd6"
   }
  }
 },
 "nbformat": 4,
 "nbformat_minor": 4
}

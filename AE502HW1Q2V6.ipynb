{
 "cells": [
  {
   "cell_type": "code",
   "execution_count": 1,
   "metadata": {},
   "outputs": [],
   "source": [
    "#Importing all necessary modules\n",
    "import numpy as np\n",
    "import sympy as sym\n",
    "import math\n",
    "import matplotlib.pyplot as plt\n",
    "from mpl_toolkits import mplot3d"
   ]
  },
  {
   "cell_type": "code",
   "execution_count": 2,
   "metadata": {},
   "outputs": [
    {
     "name": "stdout",
     "output_type": "stream",
     "text": [
      "0.00029591220821316525\n",
      "1000\n"
     ]
    }
   ],
   "source": [
    "#Constants\n",
    "Tol = 1.0E-8; #Tolerance\n",
    "mu_S = 1.32712440042E20; #m^3/s^2\n",
    "mu_day = 2.22972472E-24;\n",
    "mu_S = mu_S*mu_day; #AU^3/day^2\n",
    "dt_initial = 600;\n",
    "dt_final = 1600;\n",
    "dt = dt_final - dt_initial;\n",
    "Iter_initial_1I = 0;\n",
    "Iter_initial_2I = 0;\n",
    "Iter_initial_E = 0;\n",
    "Iter_final_1I = 0;\n",
    "Iter_final_2I = 0;\n",
    "Iter_final_E = 0;\n",
    "Iter_1I_pg = 0;\n",
    "Iter_2I_pg = 0;\n",
    "Iter_E_pg = 0;\n",
    "Iter_1I_rg = 0;\n",
    "Iter_2I_rg = 0;\n",
    "Iter_E_rg = 0;\n",
    "Z_1I_pg = 1.5;\n",
    "Z_2I_pg = Z_1I_pg;\n",
    "Z_E_pg = Z_1I_pg;\n",
    "Z_1I_rg = Z_1I_pg;\n",
    "Z_2I_rg = Z_1I_rg;\n",
    "Z_E_rg = Z_1I_rg;\n",
    "print(mu_S)\n",
    "print(dt)"
   ]
  },
  {
   "cell_type": "code",
   "execution_count": 3,
   "metadata": {},
   "outputs": [
    {
     "name": "stdout",
     "output_type": "stream",
     "text": [
      "[ 0.03515869 -3.16204639  4.49398311]\n",
      "[-0.00231758  0.00984336 -0.01541857]\n",
      "[ 7.24947203 14.61063038 14.24274452]\n",
      "[-0.00824171 -0.01156219 -0.01317136]\n",
      "[-1.79613651e-01  9.66794921e-01 -3.66868102e-05]\n",
      "[-1.72003836e-02 -3.21118620e-03  7.92773674e-07]\n"
     ]
    }
   ],
   "source": [
    "#Problem 1\n",
    "#Initial vectors (AU and AU/day)\n",
    "r_1I = np.array([3.515868886595499E-2,-3.162046390773074,4.493983111703389]);\n",
    "v_1I = np.array([-2.317577766980901E-3,9.843360903693031E-3,-1.541856855538041E-2]);\n",
    "r_2I = np.array([7.249472033259724,14.61063037906177,14.24274452216359]);\n",
    "v_2I = np.array([-8.241709369476881E-3,-1.156219024581502E-2,-1.317135977481448E-2]);\n",
    "r_E = np.array([-1.796136509111975E-1,9.667949206859814E-1,-3.668681017942158E-5]);\n",
    "v_E = np.array([-1.720038360888334E-2,-3.211186197806460E-3,7.927736735960840E-7]);\n",
    "print(r_1I)\n",
    "print(v_1I)\n",
    "print(r_2I)\n",
    "print(v_2I)\n",
    "print(r_E)\n",
    "print(v_E)"
   ]
  },
  {
   "cell_type": "code",
   "execution_count": 4,
   "metadata": {},
   "outputs": [
    {
     "name": "stdout",
     "output_type": "stream",
     "text": [
      "5.495057571953097\n",
      "0.018438958129008327\n",
      "21.653663347299887\n",
      "0.01936736262192\n",
      "0.9833379295053073\n",
      "0.017497568794498722\n"
     ]
    }
   ],
   "source": [
    "#Initial Magnitudes (AU and AU/day)\n",
    "r_1IM = np.sqrt(np.dot(r_1I,r_1I));\n",
    "v_1IM = np.sqrt(np.dot(v_1I,v_1I));\n",
    "r_2IM = np.sqrt(np.dot(r_2I,r_2I));\n",
    "v_2IM = np.sqrt(np.dot(v_2I,v_2I));\n",
    "r_EM = np.sqrt(np.dot(r_E,r_E));\n",
    "v_EM = np.sqrt(np.dot(v_E,v_E));\n",
    "print(r_1IM)\n",
    "print(v_1IM)\n",
    "print(r_2IM)\n",
    "print(v_2IM)\n",
    "print(r_EM)\n",
    "print(v_EM)"
   ]
  },
  {
   "cell_type": "code",
   "execution_count": 5,
   "metadata": {},
   "outputs": [
    {
     "name": "stdout",
     "output_type": "stream",
     "text": [
      "-0.01828869528532203\n",
      "-0.019224240962828414\n",
      "-1.539128816429416e-05\n"
     ]
    }
   ],
   "source": [
    "#Radial component velocities (AU/day)\n",
    "nu_r_1I = (np.dot(r_1I,v_1I))/r_1IM;\n",
    "nu_r_2I = (np.dot(r_2I,v_2I))/r_2IM;\n",
    "nu_r_E = (np.dot(r_E,v_E))/r_EM;\n",
    "print(nu_r_1I)\n",
    "print(nu_r_2I)\n",
    "print(nu_r_E)"
   ]
  },
  {
   "cell_type": "code",
   "execution_count": 6,
   "metadata": {
    "scrolled": true
   },
   "outputs": [
    {
     "name": "stdout",
     "output_type": "stream",
     "text": [
      "-0.785009703080843\n",
      "-1.1752247768018413\n",
      "0.9992410036177539\n"
     ]
    }
   ],
   "source": [
    "#Alpha (Semi-major axis reciprocal, 1/AU) and Semi-major axis (AU)\n",
    "alpha_1I = (2/r_1IM) - (v_1IM**2 / mu_S);\n",
    "alpha_2I = (2/r_2IM) - (v_2IM**2 / mu_S);\n",
    "alpha_E = (2/r_EM) - (v_EM**2 / mu_S);\n",
    "print(alpha_1I)\n",
    "print(alpha_2I)\n",
    "print(alpha_E)"
   ]
  },
  {
   "cell_type": "code",
   "execution_count": 7,
   "metadata": {},
   "outputs": [
    {
     "name": "stdout",
     "output_type": "stream",
     "text": [
      "8.102288752472534\n",
      "12.129799737937752\n",
      "10.31342557021582\n"
     ]
    }
   ],
   "source": [
    "#Initial Universal Variable (AU^1/2)\n",
    "Chi_initial_1I = np.sqrt(mu_S)*np.abs(alpha_1I)*dt_initial;\n",
    "Chi_initial_2I = np.sqrt(mu_S)*np.abs(alpha_2I)*dt_initial;\n",
    "Chi_initial_E = np.sqrt(mu_S)*np.abs(alpha_E)*dt_initial;\n",
    "print(Chi_initial_1I)\n",
    "print(Chi_initial_2I)\n",
    "print(Chi_initial_E)"
   ]
  },
  {
   "cell_type": "code",
   "execution_count": 8,
   "metadata": {},
   "outputs": [
    {
     "name": "stdout",
     "output_type": "stream",
     "text": [
      "21.606103339926754\n",
      "32.34613263450068\n",
      "27.502468187242187\n"
     ]
    }
   ],
   "source": [
    "#Final Universal Variable (AU^1/2)\n",
    "Chi_final_1I = np.sqrt(mu_S)*np.abs(alpha_1I)*dt_final;\n",
    "Chi_final_2I = np.sqrt(mu_S)*np.abs(alpha_2I)*dt_final;\n",
    "Chi_final_E = np.sqrt(mu_S)*np.abs(alpha_E)*dt_final;\n",
    "print(Chi_final_1I)\n",
    "print(Chi_final_2I)\n",
    "print(Chi_final_E)"
   ]
  },
  {
   "cell_type": "code",
   "execution_count": 9,
   "metadata": {},
   "outputs": [
    {
     "name": "stdout",
     "output_type": "stream",
     "text": [
      "-51.533597156281424\n",
      "-172.91322084668562\n",
      "106.286015016223\n"
     ]
    }
   ],
   "source": [
    "#Initial z terms\n",
    "z_initial_1I = alpha_1I*Chi_initial_1I**2;\n",
    "z_initial_2I = alpha_2I*Chi_initial_2I**2;\n",
    "z_initial_E = alpha_E*Chi_initial_E**2;\n",
    "print(z_initial_1I)\n",
    "print(z_initial_2I)\n",
    "print(z_initial_E)"
   ]
  },
  {
   "cell_type": "code",
   "execution_count": 10,
   "metadata": {},
   "outputs": [
    {
     "name": "stdout",
     "output_type": "stream",
     "text": [
      "-366.46113533355674\n",
      "-1229.6051260208758\n",
      "755.8116623375859\n"
     ]
    }
   ],
   "source": [
    "#Final z terms\n",
    "z_final_1I = alpha_1I*Chi_final_1I**2;\n",
    "z_final_2I = alpha_2I*Chi_final_2I**2;\n",
    "z_final_E = alpha_E*Chi_final_E**2;\n",
    "print(z_final_1I)\n",
    "print(z_final_2I)\n",
    "print(z_final_E)"
   ]
  },
  {
   "cell_type": "code",
   "execution_count": 11,
   "metadata": {},
   "outputs": [
    {
     "name": "stdout",
     "output_type": "stream",
     "text": [
      "12.70230444148628\n",
      "1485.7964654091058\n",
      "0.015368872003262271\n"
     ]
    }
   ],
   "source": [
    "#Initial C functions\n",
    "C_initial_1I = (np.cosh(np.sqrt(-z_initial_1I)) - 1)/-z_initial_1I;\n",
    "C_initial_2I = (np.cosh(np.sqrt(-z_initial_2I)) - 1)/-z_initial_2I;\n",
    "C_initial_E = (1 - np.cos(np.sqrt(z_initial_E)))/z_initial_E;\n",
    "print(C_initial_1I)\n",
    "print(C_initial_2I)\n",
    "print(C_initial_E)"
   ]
  },
  {
   "cell_type": "code",
   "execution_count": 12,
   "metadata": {},
   "outputs": [
    {
     "name": "stdout",
     "output_type": "stream",
     "text": [
      "281007.0333484178\n",
      "688740400927.8279\n",
      "0.0022615299666585583\n"
     ]
    }
   ],
   "source": [
    "#Final C functions\n",
    "C_final_1I = (np.cosh(np.sqrt(-z_final_1I)) - 1)/-z_final_1I;\n",
    "C_final_2I = (np.cosh(np.sqrt(-z_final_2I)) - 1)/-z_final_2I;\n",
    "C_final_E = (1 - np.cos(np.sqrt(z_final_E)))/z_final_E;\n",
    "print(C_final_1I)\n",
    "print(C_final_2I)\n",
    "print(C_final_E)"
   ]
  },
  {
   "cell_type": "code",
   "execution_count": 13,
   "metadata": {},
   "outputs": [
    {
     "name": "stdout",
     "output_type": "stream",
     "text": [
      "1.7527421335961526\n",
      "112.98601256145113\n",
      "0.01011470467398887\n"
     ]
    }
   ],
   "source": [
    "#Initial S functions\n",
    "S_initial_1I = (np.sinh(np.sqrt(-z_initial_1I)) - np.sqrt(-z_initial_1I))/(np.sqrt(-z_initial_1I)**3);\n",
    "S_initial_2I = (np.sinh(np.sqrt(-z_initial_2I)) - np.sqrt(-z_initial_2I))/(np.sqrt(-z_initial_2I)**3);\n",
    "S_initial_E = (np.sqrt(z_initial_E) - np.sin(np.sqrt(z_initial_E)))/(np.sqrt(z_initial_E)**3);\n",
    "print(S_initial_1I)\n",
    "print(S_initial_2I)\n",
    "print(S_initial_E)"
   ]
  },
  {
   "cell_type": "code",
   "execution_count": 14,
   "metadata": {},
   "outputs": [
    {
     "name": "stdout",
     "output_type": "stream",
     "text": [
      "14679.225839495928\n",
      "19641412951.691013\n",
      "0.001289156154631272\n"
     ]
    }
   ],
   "source": [
    "#Final S functions\n",
    "S_final_1I = (np.sinh(np.sqrt(-z_final_1I)) - np.sqrt(-z_final_1I))/(np.sqrt(-z_final_1I)**3);\n",
    "S_final_2I = (np.sinh(np.sqrt(-z_final_2I)) - np.sqrt(-z_final_2I))/(np.sqrt(-z_final_2I)**3);\n",
    "S_final_E = (np.sqrt(z_final_E) - np.sin(np.sqrt(z_final_E)))/(np.sqrt(z_final_E)**3);\n",
    "print(S_final_1I)\n",
    "print(S_final_2I)\n",
    "print(S_final_E)"
   ]
  },
  {
   "cell_type": "code",
   "execution_count": 15,
   "metadata": {},
   "outputs": [
    {
     "name": "stdout",
     "output_type": "stream",
     "text": [
      "116.37520436850168\n",
      "43197.94501610339\n",
      "0.01204676002369176\n"
     ]
    }
   ],
   "source": [
    "#f initial (AU^1/2)\n",
    "f_initial_1I = ((r_1IM*nu_r_1I)/np.sqrt(mu_S))*(Chi_initial_1I**2)*(C_initial_1I) + (1 - alpha_1I*r_1IM)*(Chi_initial_1I**3)*(S_initial_1I) + (r_1IM*Chi_initial_1I) - np.sqrt(mu_S)*dt_initial;\n",
    "f_initial_2I = ((r_2IM*nu_r_2I)/np.sqrt(mu_S))*(Chi_initial_2I**2)*(C_initial_2I) + (1 - alpha_2I*r_2IM)*(Chi_initial_2I**3)*(S_initial_2I) + (r_2IM*Chi_initial_2I) - np.sqrt(mu_S)*dt_initial;\n",
    "f_initial_E = ((r_EM*nu_r_E)/np.sqrt(mu_S))*(Chi_initial_E**2)*(C_initial_E) + (1 - alpha_E*r_EM)*(Chi_initial_E**3)*(S_initial_E) + (r_EM*Chi_initial_E) - np.sqrt(mu_S)*dt_initial;\n",
    "print(f_initial_1I)\n",
    "print(f_initial_2I)\n",
    "print(f_initial_E)"
   ]
  },
  {
   "cell_type": "code",
   "execution_count": 16,
   "metadata": {},
   "outputs": [
    {
     "name": "stdout",
     "output_type": "stream",
     "text": [
      "20354050.09231681\n",
      "142395287789182.88\n",
      "-0.013790478720107302\n"
     ]
    }
   ],
   "source": [
    "#f final (AU^1/2)\n",
    "f_final_1I = ((r_1IM*nu_r_1I)/np.sqrt(mu_S))*(Chi_final_1I**2)*(C_final_1I) + (1 - alpha_1I*r_1IM)*(Chi_final_1I**3)*(S_final_1I) + (r_1IM*Chi_final_1I) - np.sqrt(mu_S)*dt_final;\n",
    "f_final_2I = ((r_2IM*nu_r_2I)/np.sqrt(mu_S))*(Chi_final_2I**2)*(C_final_2I) + (1 - alpha_2I*r_2IM)*(Chi_final_2I**3)*(S_final_2I) + (r_2IM*Chi_final_2I) - np.sqrt(mu_S)*dt_final;\n",
    "f_final_E = ((r_EM*nu_r_E)/np.sqrt(mu_S))*(Chi_final_E**2)*(C_final_E) + (1 - alpha_E*r_EM)*(Chi_final_E**3)*(S_final_E) + (r_EM*Chi_final_E) - np.sqrt(mu_S)*dt_final;\n",
    "print(f_final_1I)\n",
    "print(f_final_2I)\n",
    "print(f_final_E)"
   ]
  },
  {
   "cell_type": "code",
   "execution_count": 17,
   "metadata": {},
   "outputs": [
    {
     "name": "stdout",
     "output_type": "stream",
     "text": [
      "113.54128018761274\n",
      "46829.14019421005\n",
      "1.0124771365481888\n"
     ]
    }
   ],
   "source": [
    "#fprime initial (AU^2/3)\n",
    "fprime_initial_1I = ((r_1IM*nu_r_1I)/np.sqrt(mu_S))*Chi_initial_1I*(1 - alpha_1I*(Chi_initial_1I**2)*S_initial_1I) + (1 - alpha_1I*r_1IM)*(Chi_initial_1I**2)*C_initial_1I + r_1IM;\n",
    "fprime_initial_2I = ((r_2IM*nu_r_2I)/np.sqrt(mu_S))*Chi_initial_2I*(1 - alpha_2I*(Chi_initial_2I**2)*S_initial_2I) + (1 - alpha_2I*r_2IM)*(Chi_initial_2I**2)*C_initial_2I + r_2IM;\n",
    "fprime_initial_E = ((r_EM*nu_r_E)/np.sqrt(mu_S))*Chi_initial_E*(1 - alpha_E*(Chi_initial_E**2)*S_initial_E) + (1 - alpha_E*r_EM)*(Chi_initial_E**2)*C_initial_E + r_EM;\n",
    "print(fprime_initial_1I)\n",
    "print(fprime_initial_2I)\n",
    "print(fprime_initial_E)"
   ]
  },
  {
   "cell_type": "code",
   "execution_count": 18,
   "metadata": {},
   "outputs": [
    {
     "name": "stdout",
     "output_type": "stream",
     "text": [
      "18033886.685471404\n",
      "154367576907401.66\n",
      "1.0124961446270202\n"
     ]
    }
   ],
   "source": [
    "#fprime final (AU^2/3)\n",
    "fprime_final_1I = ((r_1IM*nu_r_1I)/np.sqrt(mu_S))*Chi_final_1I*(1 - alpha_1I*(Chi_final_1I**2)*S_final_1I) + (1 - alpha_1I*r_1IM)*(Chi_final_1I**2)*C_final_1I + r_1IM;\n",
    "fprime_final_2I = ((r_2IM*nu_r_2I)/np.sqrt(mu_S))*Chi_final_2I*(1 - alpha_2I*(Chi_final_2I**2)*S_final_2I) + (1 - alpha_2I*r_2IM)*(Chi_final_2I**2)*C_final_2I + r_2IM;\n",
    "fprime_final_E = ((r_EM*nu_r_E)/np.sqrt(mu_S))*Chi_final_E*(1 - alpha_E*(Chi_final_E**2)*S_final_E) + (1 - alpha_E*r_EM)*(Chi_final_E**2)*C_final_E + r_EM;\n",
    "print(fprime_final_1I)\n",
    "print(fprime_final_2I)\n",
    "print(fprime_final_E)"
   ]
  },
  {
   "cell_type": "code",
   "execution_count": 19,
   "metadata": {},
   "outputs": [
    {
     "name": "stdout",
     "output_type": "stream",
     "text": [
      "1.0249594171935197\n",
      "0.9224586408580779\n",
      "0.011898303269111296\n"
     ]
    }
   ],
   "source": [
    "#Ratio initial\n",
    "Ratio_initial_1I = f_initial_1I/fprime_initial_1I;\n",
    "Ratio_initial_2I = f_initial_2I/fprime_initial_2I;\n",
    "Ratio_initial_E = f_initial_E/fprime_initial_E;\n",
    "print(Ratio_initial_1I)\n",
    "print(Ratio_initial_2I)\n",
    "print(Ratio_initial_E)"
   ]
  },
  {
   "cell_type": "code",
   "execution_count": 20,
   "metadata": {},
   "outputs": [
    {
     "name": "stdout",
     "output_type": "stream",
     "text": [
      "1.1286557605307896\n",
      "0.922442980850827\n",
      "-0.013620277759366077\n"
     ]
    }
   ],
   "source": [
    "#Ratio final\n",
    "Ratio_final_1I = f_final_1I/fprime_final_1I;\n",
    "Ratio_final_2I = f_final_2I/fprime_final_2I;\n",
    "Ratio_final_E = f_final_E/fprime_final_E;\n",
    "print(Ratio_final_1I)\n",
    "print(Ratio_final_2I)\n",
    "print(Ratio_final_E)"
   ]
  },
  {
   "cell_type": "code",
   "execution_count": 21,
   "metadata": {},
   "outputs": [
    {
     "name": "stdout",
     "output_type": "stream",
     "text": [
      "1.6962750155884766e-12\n",
      "7\n",
      "5.156119158905382\n"
     ]
    }
   ],
   "source": [
    "#1I Initial Loop\n",
    "while np.abs(Ratio_initial_1I) >= Tol:\n",
    "    Chi_i_initial_1I = Chi_initial_1I - Ratio_initial_1I;\n",
    "    z_initial_1I = alpha_1I*Chi_i_initial_1I**2;\n",
    "    C_initial_1I = (np.cosh(np.sqrt(-z_initial_1I)) - 1)/-z_initial_1I;\n",
    "    S_initial_1I = (np.sinh(np.sqrt(-z_initial_1I)) - np.sqrt(-z_initial_1I))/(np.sqrt(-z_initial_1I)**3);\n",
    "    f_initial_1I = ((r_1IM*nu_r_1I)/np.sqrt(mu_S))*(Chi_i_initial_1I**2)*(C_initial_1I) + (1 - alpha_1I*r_1IM)*(Chi_i_initial_1I**3)*(S_initial_1I) + (r_1IM*Chi_i_initial_1I) - np.sqrt(mu_S)*dt_initial;\n",
    "    fprime_initial_1I = ((r_1IM*nu_r_1I)/np.sqrt(mu_S))*Chi_i_initial_1I*(1 - alpha_1I*(Chi_i_initial_1I**2)*S_initial_1I) + (1 - alpha_1I*r_1IM)*(Chi_i_initial_1I**2)*C_initial_1I + r_1IM;\n",
    "    Ratio_initial_1I = f_initial_1I/fprime_initial_1I;\n",
    "    Chi_initial_1I = Chi_i_initial_1I;\n",
    "    Iter_initial_1I += 1;\n",
    "print(Ratio_initial_1I)\n",
    "print(Iter_initial_1I)\n",
    "print(Chi_initial_1I)"
   ]
  },
  {
   "cell_type": "code",
   "execution_count": 22,
   "metadata": {},
   "outputs": [
    {
     "name": "stdout",
     "output_type": "stream",
     "text": [
      "4.4093523592594005e-14\n",
      "18\n",
      "6.382629131986297\n"
     ]
    }
   ],
   "source": [
    "#1I Final Loop\n",
    "while np.abs(Ratio_final_1I) >= Tol:\n",
    "    Chi_i_final_1I = Chi_final_1I - Ratio_final_1I;\n",
    "    z_final_1I = alpha_1I*Chi_i_final_1I**2;\n",
    "    C_final_1I = (np.cosh(np.sqrt(-z_final_1I)) - 1)/-z_final_1I;\n",
    "    S_final_1I = (np.sinh(np.sqrt(-z_final_1I)) - np.sqrt(-z_final_1I))/(np.sqrt(-z_final_1I)**3);\n",
    "    f_final_1I = ((r_1IM*nu_r_1I)/np.sqrt(mu_S))*(Chi_i_final_1I**2)*(C_final_1I) + (1 - alpha_1I*r_1IM)*(Chi_i_final_1I**3)*(S_final_1I) + (r_1IM*Chi_i_final_1I) - np.sqrt(mu_S)*dt_final;\n",
    "    fprime_final_1I = ((r_1IM*nu_r_1I)/np.sqrt(mu_S))*Chi_i_final_1I*(1 - alpha_1I*(Chi_i_final_1I**2)*S_final_1I) + (1 - alpha_1I*r_1IM)*(Chi_i_final_1I**2)*C_final_1I + r_1IM;\n",
    "    Ratio_final_1I = f_final_1I/fprime_final_1I;\n",
    "    Chi_final_1I = Chi_i_final_1I;\n",
    "    Iter_final_1I += 1;\n",
    "print(Ratio_final_1I)\n",
    "print(Iter_final_1I)\n",
    "print(Chi_final_1I)"
   ]
  },
  {
   "cell_type": "code",
   "execution_count": 23,
   "metadata": {},
   "outputs": [
    {
     "name": "stdout",
     "output_type": "stream",
     "text": [
      "-3.310283330448534e-14\n",
      "16\n",
      "0.6825310102435472\n"
     ]
    }
   ],
   "source": [
    "#2I Initial Loop\n",
    "while np.abs(Ratio_initial_2I) >= Tol:\n",
    "    Chi_i_initial_2I = Chi_initial_2I - Ratio_initial_2I;\n",
    "    z_initial_2I = alpha_2I*Chi_i_initial_2I**2;\n",
    "    C_initial_2I = (np.cosh(np.sqrt(-z_initial_2I)) - 1)/-z_initial_2I;\n",
    "    S_initial_2I = (np.sinh(np.sqrt(-z_initial_2I)) - np.sqrt(-z_initial_2I))/(np.sqrt(-z_initial_2I)**3);\n",
    "    f_initial_2I = ((r_2IM*nu_r_2I)/np.sqrt(mu_S))*(Chi_i_initial_2I**2)*(C_initial_2I) + (1 - alpha_2I*r_2IM)*(Chi_i_initial_2I**3)*(S_initial_2I) + (r_2IM*Chi_i_initial_2I) - np.sqrt(mu_S)*dt_initial;\n",
    "    fprime_initial_2I = ((r_2IM*nu_r_2I)/np.sqrt(mu_S))*Chi_i_initial_2I*(1 - alpha_2I*(Chi_i_initial_2I**2)*S_initial_2I) + (1 - alpha_2I*r_2IM)*(Chi_i_initial_2I**2)*C_initial_2I + r_2IM;\n",
    "    Ratio_initial_2I = f_initial_2I/fprime_initial_2I;\n",
    "    Chi_initial_2I = Chi_i_initial_2I;\n",
    "    Iter_initial_2I += 1;\n",
    "print(Ratio_initial_2I)\n",
    "print(Iter_initial_2I)\n",
    "print(Chi_initial_2I)"
   ]
  },
  {
   "cell_type": "code",
   "execution_count": 24,
   "metadata": {},
   "outputs": [
    {
     "name": "stdout",
     "output_type": "stream",
     "text": [
      "6.7074295283888946e-09\n",
      "34\n",
      "4.48847658912458\n"
     ]
    }
   ],
   "source": [
    "#2I Final Loop\n",
    "while np.abs(Ratio_final_2I) >= Tol:\n",
    "    Chi_i_final_2I = Chi_final_2I - Ratio_final_2I;\n",
    "    z_final_2I = alpha_2I*Chi_i_final_2I**2;\n",
    "    C_final_2I = (np.cosh(np.sqrt(-z_final_2I)) - 1)/-z_final_2I;\n",
    "    S_final_2I = (np.sinh(np.sqrt(-z_final_2I)) - np.sqrt(-z_final_2I))/(np.sqrt(-z_final_2I)**3);\n",
    "    f_final_2I = ((r_2IM*nu_r_2I)/np.sqrt(mu_S))*(Chi_i_final_2I**2)*(C_final_2I) + (1 - alpha_2I*r_2IM)*(Chi_i_final_2I**3)*(S_final_2I) + (r_2IM*Chi_i_final_2I) - np.sqrt(mu_S)*dt_final;\n",
    "    fprime_final_2I = ((r_2IM*nu_r_2I)/np.sqrt(mu_S))*Chi_i_final_2I*(1 - alpha_2I*(Chi_i_final_2I**2)*S_final_2I) + (1 - alpha_2I*r_2IM)*(Chi_i_final_2I**2)*C_final_2I + r_2IM;\n",
    "    Ratio_final_2I = f_final_2I/fprime_final_2I;\n",
    "    Chi_final_2I = Chi_i_final_2I;\n",
    "    Iter_final_2I += 1;\n",
    "print(Ratio_final_2I)\n",
    "print(Iter_final_2I)\n",
    "print(Chi_final_2I)"
   ]
  },
  {
   "cell_type": "code",
   "execution_count": 25,
   "metadata": {},
   "outputs": [
    {
     "name": "stdout",
     "output_type": "stream",
     "text": [
      "-5.262603892710835e-15\n",
      "2\n",
      "10.301528166644339\n"
     ]
    }
   ],
   "source": [
    "#E Initial Loop\n",
    "while np.abs(Ratio_initial_E) >= Tol:\n",
    "    Chi_i_initial_E = Chi_initial_E - Ratio_initial_E;\n",
    "    z_initial_E = alpha_E*Chi_i_initial_E**2;\n",
    "    C_initial_E = (1 - np.cos(np.sqrt(z_initial_E)))/z_initial_E;\n",
    "    S_initial_E = (np.sqrt(z_initial_E) - np.sin(np.sqrt(z_initial_E)))/(np.sqrt(z_initial_E)**3);\n",
    "    f_initial_E = ((r_EM*nu_r_E)/np.sqrt(mu_S))*(Chi_i_initial_E**2)*(C_initial_E) + (1 - alpha_E*r_EM)*(Chi_i_initial_E**3)*(S_initial_E) + (r_EM*Chi_i_initial_E) - np.sqrt(mu_S)*dt_initial;\n",
    "    fprime_initial_E = ((r_EM*nu_r_E)/np.sqrt(mu_S))*Chi_i_initial_E*(1 - alpha_E*(Chi_i_initial_E**2)*S_initial_E) + (1 - alpha_E*r_EM)*(Chi_i_initial_E**2)*C_initial_E + r_EM;\n",
    "    Ratio_initial_E = f_initial_E/fprime_initial_E;\n",
    "    Chi_initial_E = Chi_i_initial_E;\n",
    "    Iter_initial_E += 1;\n",
    "print(Ratio_initial_E)\n",
    "print(Iter_initial_E)\n",
    "print(Chi_initial_E)"
   ]
  },
  {
   "cell_type": "code",
   "execution_count": 26,
   "metadata": {},
   "outputs": [
    {
     "name": "stdout",
     "output_type": "stream",
     "text": [
      "1.0524784226222152e-14\n",
      "2\n",
      "27.51608728829896\n"
     ]
    }
   ],
   "source": [
    "#E Final Loop\n",
    "while np.abs(Ratio_final_E) >= Tol:\n",
    "    Chi_i_final_E = Chi_final_E - Ratio_final_E;\n",
    "    z_final_E = alpha_E*Chi_i_final_E**2;\n",
    "    C_final_E = (1 - np.cos(np.sqrt(z_final_E)))/z_final_E;\n",
    "    S_final_E = (np.sqrt(z_final_E) - np.sin(np.sqrt(z_final_E)))/(np.sqrt(z_final_E)**3);\n",
    "    f_final_E = ((r_EM*nu_r_E)/np.sqrt(mu_S))*(Chi_i_final_E**2)*(C_final_E) + (1 - alpha_E*r_EM)*(Chi_i_final_E**3)*(S_final_E) + (r_EM*Chi_i_final_E) - np.sqrt(mu_S)*dt_final;\n",
    "    fprime_final_E = ((r_EM*nu_r_E)/np.sqrt(mu_S))*Chi_i_final_E*(1 - alpha_E*(Chi_i_final_E**2)*S_final_E) + (1 - alpha_E*r_EM)*(Chi_i_final_E**2)*C_final_E + r_EM;\n",
    "    Ratio_final_E = f_final_E/fprime_final_E;\n",
    "    Chi_final_E = Chi_i_final_E;\n",
    "    Iter_final_E += 1;\n",
    "print(Ratio_final_E)\n",
    "print(Iter_final_E)\n",
    "print(Chi_final_E)"
   ]
  },
  {
   "cell_type": "code",
   "execution_count": 27,
   "metadata": {},
   "outputs": [
    {
     "name": "stdout",
     "output_type": "stream",
     "text": [
      "-9.941535256802489\n",
      "0.9887433898238898\n",
      "-0.6717558438930185\n"
     ]
    }
   ],
   "source": [
    "#Initial f functions\n",
    "f_func_initial_1I = 1 - ((Chi_initial_1I**2)/r_1IM)*C_initial_1I;\n",
    "f_func_initial_2I = 1 - ((Chi_initial_2I**2)/r_2IM)*C_initial_2I;\n",
    "f_func_initial_E = 1 - ((Chi_initial_E**2)/r_EM)*C_initial_E;\n",
    "print(f_func_initial_1I)\n",
    "print(f_func_initial_2I)\n",
    "print(f_func_initial_E)"
   ]
  },
  {
   "cell_type": "code",
   "execution_count": 28,
   "metadata": {},
   "outputs": [
    {
     "name": "stdout",
     "output_type": "stream",
     "text": [
      "-31.888067816866688\n",
      "-1.5108131669967277\n",
      "-0.7492734656019839\n"
     ]
    }
   ],
   "source": [
    "#Final f functions\n",
    "f_func_final_1I = 1 - ((Chi_final_1I**2)/r_1IM)*C_final_1I;\n",
    "f_func_final_2I = 1 - ((Chi_final_2I**2)/r_2IM)*C_final_2I;\n",
    "f_func_final_E = 1 - ((Chi_final_E**2)/r_EM)*C_final_E;\n",
    "print(f_func_final_1I)\n",
    "print(f_func_final_2I)\n",
    "print(f_func_final_E)"
   ]
  },
  {
   "cell_type": "code",
   "execution_count": 29,
   "metadata": {},
   "outputs": [
    {
     "name": "stdout",
     "output_type": "stream",
     "text": [
      "-3045.746351144728\n",
      "596.8339706383401\n",
      "-43.897192381605464\n"
     ]
    }
   ],
   "source": [
    "#Initial g functions\n",
    "g_func_initial_1I = dt_initial - (1/np.sqrt(mu_S))*(Chi_initial_1I**3)*S_initial_1I;\n",
    "g_func_initial_2I = dt_initial - (1/np.sqrt(mu_S))*(Chi_initial_2I**3)*S_initial_2I;\n",
    "g_func_initial_E = dt_initial - (1/np.sqrt(mu_S))*(Chi_initial_E**3)*S_initial_E;\n",
    "print(g_func_initial_1I)\n",
    "print(g_func_initial_2I)\n",
    "print(g_func_initial_E)"
   ]
  },
  {
   "cell_type": "code",
   "execution_count": 30,
   "metadata": {},
   "outputs": [
    {
     "name": "stdout",
     "output_type": "stream",
     "text": [
      "-9868.093966419072\n",
      "-1138.6931114916033\n",
      "39.66711246519503\n"
     ]
    }
   ],
   "source": [
    "#Final g functions\n",
    "g_func_final_1I = dt_final - (1/np.sqrt(mu_S))*(Chi_final_1I**3)*S_final_1I;\n",
    "g_func_final_2I = dt_final - (1/np.sqrt(mu_S))*(Chi_final_2I**3)*S_final_2I;\n",
    "g_func_final_E = dt_final - (1/np.sqrt(mu_S))*(Chi_final_E**3)*S_final_E;\n",
    "print(g_func_final_1I)\n",
    "print(g_func_final_2I)\n",
    "print(g_func_final_E)"
   ]
  },
  {
   "cell_type": "code",
   "execution_count": 31,
   "metadata": {},
   "outputs": [
    {
     "name": "stdout",
     "output_type": "stream",
     "text": [
      "[6.70922268 1.45521512 2.28395737]\n",
      "[2.24893542 7.54545629 6.22130455]\n",
      "[ 8.75705068e-01 -5.08488080e-01 -1.01559593e-05]\n"
     ]
    }
   ],
   "source": [
    "#Initial position vectors\n",
    "r_initial_1I = f_func_initial_1I*r_1I + g_func_initial_1I*v_1I;\n",
    "r_initial_2I = f_func_initial_2I*r_2I + g_func_initial_2I*v_2I;\n",
    "r_initial_E = f_func_initial_E*r_E + g_func_initial_E*v_E;\n",
    "print(r_initial_1I)\n",
    "print(r_initial_2I)\n",
    "print(r_initial_E)"
   ]
  },
  {
   "cell_type": "code",
   "execution_count": 32,
   "metadata": {},
   "outputs": [
    {
     "name": "stdout",
     "output_type": "stream",
     "text": [
      "[21.74893252  3.69633941  8.8474451 ]\n",
      "[-1.56782012 -8.90814637 -6.51998931]\n",
      "[-5.47709808e-01 -8.51772265e-01  5.89354959e-05]\n"
     ]
    }
   ],
   "source": [
    "#Final position vectors\n",
    "r_final_1I = f_func_final_1I*r_1I + g_func_final_1I*v_1I;\n",
    "r_final_2I = f_func_final_2I*r_2I + g_func_final_2I*v_2I;\n",
    "r_final_E = f_func_final_E*r_E + g_func_final_E*v_E;\n",
    "print(r_final_1I)\n",
    "print(r_final_2I)\n",
    "print(r_final_E)"
   ]
  },
  {
   "cell_type": "code",
   "execution_count": 33,
   "metadata": {},
   "outputs": [
    {
     "name": "stdout",
     "output_type": "stream",
     "text": [
      "7.235176660999482\n",
      "10.0347521891072\n",
      "1.0126299882805065\n"
     ]
    }
   ],
   "source": [
    "#Initial position vector magnitudes\n",
    "r_initial_1IM = np.sqrt(np.dot(r_initial_1I,r_initial_1I));\n",
    "r_initial_2IM = np.sqrt(np.dot(r_initial_2I,r_initial_2I));\n",
    "r_initial_EM = np.sqrt(np.dot(r_initial_E,r_initial_E));\n",
    "print(r_initial_1IM)\n",
    "print(r_initial_2IM)\n",
    "print(r_initial_EM)"
   ]
  },
  {
   "cell_type": "code",
   "execution_count": 34,
   "metadata": {},
   "outputs": [
    {
     "name": "stdout",
     "output_type": "stream",
     "text": [
      "23.7688088829032\n",
      "11.150040012580032\n",
      "1.0126707405408886\n"
     ]
    }
   ],
   "source": [
    "#Final position vector magnitudes\n",
    "r_final_1IM = np.sqrt(np.dot(r_final_1I,r_final_1I));\n",
    "r_final_2IM = np.sqrt(np.dot(r_final_2I,r_final_2I));\n",
    "r_final_EM = np.sqrt(np.dot(r_final_E,r_final_E));\n",
    "print(r_final_1IM)\n",
    "print(r_final_2IM)\n",
    "print(r_final_EM)"
   ]
  },
  {
   "cell_type": "code",
   "execution_count": 35,
   "metadata": {},
   "outputs": [
    {
     "name": "stdout",
     "output_type": "stream",
     "text": [
      "-0.023532060969045778\n",
      "-5.91009502028427e-05\n",
      "0.013240690244398532\n"
     ]
    }
   ],
   "source": [
    "#Initial fdot functions\n",
    "fdot_initial_1I = (np.sqrt(mu_S)/(r_1IM*r_initial_1IM))*(alpha_1I*(Chi_initial_1I**3)*S_initial_1I - Chi_initial_1I);\n",
    "fdot_initial_2I = (np.sqrt(mu_S)/(r_2IM*r_initial_2IM))*(alpha_2I*(Chi_initial_2I**3)*S_initial_2I - Chi_initial_2I);\n",
    "fdot_initial_E = (np.sqrt(mu_S)/(r_EM*r_initial_EM))*(alpha_E*(Chi_initial_E**3)*S_initial_E - Chi_initial_E);\n",
    "print(fdot_initial_1I)\n",
    "print(fdot_initial_2I)\n",
    "print(fdot_initial_E)"
   ]
  },
  {
   "cell_type": "code",
   "execution_count": 36,
   "metadata": {},
   "outputs": [
    {
     "name": "stdout",
     "output_type": "stream",
     "text": [
      "-0.021236833703424135\n",
      "-0.004264544777268291\n",
      "-0.01201383844455548\n"
     ]
    }
   ],
   "source": [
    "#Final fdot functions\n",
    "fdot_final_1I = (np.sqrt(mu_S)/(r_1IM*r_final_1IM))*(alpha_1I*(Chi_final_1I**3)*S_final_1I - Chi_final_1I);\n",
    "fdot_final_2I = (np.sqrt(mu_S)/(r_2IM*r_final_2IM))*(alpha_2I*(Chi_final_2I**3)*S_final_2I - Chi_final_2I);\n",
    "fdot_final_E = (np.sqrt(mu_S)/(r_EM*r_final_EM))*(alpha_E*(Chi_final_E**3)*S_final_E - Chi_final_E);\n",
    "print(fdot_final_1I)\n",
    "print(fdot_final_2I)\n",
    "print(fdot_final_E)"
   ]
  },
  {
   "cell_type": "code",
   "execution_count": 37,
   "metadata": {},
   "outputs": [
    {
     "name": "stdout",
     "output_type": "stream",
     "text": [
      "-7.3100066492887255\n",
      "0.9757097292895911\n",
      "-0.6233974395362116\n"
     ]
    }
   ],
   "source": [
    "#Initial gdot functions\n",
    "gdot_initial_1I = 1 - ((Chi_initial_1I**2)/r_initial_1IM)*C_initial_1I;\n",
    "gdot_initial_2I = 1 - ((Chi_initial_2I**2)/r_initial_2IM)*C_initial_2I;\n",
    "gdot_initial_E = 1 - ((Chi_initial_E**2)/r_initial_EM)*C_initial_E;\n",
    "print(gdot_initial_1I)\n",
    "print(gdot_initial_2I)\n",
    "print(gdot_initial_E)"
   ]
  },
  {
   "cell_type": "code",
   "execution_count": 38,
   "metadata": {},
   "outputs": [
    {
     "name": "stdout",
     "output_type": "stream",
     "text": [
      "-6.603318574956974\n",
      "-3.876063492577064\n",
      "-0.6986043725178361\n"
     ]
    }
   ],
   "source": [
    "#Final gdot functions\n",
    "gdot_final_1I = 1 - ((Chi_final_1I**2)/r_final_1IM)*C_final_1I;\n",
    "gdot_final_2I = 1 - ((Chi_final_2I**2)/r_final_2IM)*C_final_2I;\n",
    "gdot_final_E = 1 - ((Chi_final_E**2)/r_final_EM)*C_final_E;\n",
    "print(gdot_final_1I)\n",
    "print(gdot_final_2I)\n",
    "print(gdot_final_E)"
   ]
  },
  {
   "cell_type": "code",
   "execution_count": 39,
   "metadata": {},
   "outputs": [
    {
     "name": "stdout",
     "output_type": "stream",
     "text": [
      "[0.01611415 0.00245443 0.00695715]\n",
      "[-0.00846997 -0.01214484 -0.01369318]\n",
      "[ 8.34446639e-03  1.48028773e-02 -9.79971768e-07]\n"
     ]
    }
   ],
   "source": [
    "#Initial velocity vectors\n",
    "v_initial_1I = fdot_initial_1I*r_1I + gdot_initial_1I*v_1I;\n",
    "v_initial_2I = fdot_initial_2I*r_2I + gdot_initial_2I*v_2I;\n",
    "v_initial_E = fdot_initial_E*r_E + gdot_initial_E*v_E;\n",
    "print(v_initial_1I)\n",
    "print(v_initial_2I)\n",
    "print(v_initial_E)"
   ]
  },
  {
   "cell_type": "code",
   "execution_count": 40,
   "metadata": {},
   "outputs": [
    {
     "name": "stdout",
     "output_type": "stream",
     "text": [
      "[0.01455705 0.00215301 0.00637575]\n",
      "[ 0.00102969 -0.0174919  -0.00968579]\n",
      "[ 1.41741126e-02 -9.37156927e-03 -1.13085744e-07]\n"
     ]
    }
   ],
   "source": [
    "#Final velocity vectors\n",
    "v_final_1I = fdot_final_1I*r_1I + gdot_final_1I*v_1I;\n",
    "v_final_2I = fdot_final_2I*r_2I + gdot_final_2I*v_2I;\n",
    "v_final_E = fdot_final_E*r_E + gdot_final_E*v_E;\n",
    "print(v_final_1I)\n",
    "print(v_final_2I)\n",
    "print(v_final_E)"
   ]
  },
  {
   "cell_type": "code",
   "execution_count": 41,
   "metadata": {},
   "outputs": [
    {
     "name": "stdout",
     "output_type": "stream",
     "text": [
      "0.017722645208019597\n",
      "0.020167816957524155\n",
      "0.016992801340955817\n"
     ]
    }
   ],
   "source": [
    "#Initial velocity vector magnitudes\n",
    "v_initial_1IM = np.sqrt(np.dot(v_initial_1I,v_initial_1I));\n",
    "v_initial_2IM = np.sqrt(np.dot(v_initial_2I,v_initial_2I));\n",
    "v_initial_EM = np.sqrt(np.dot(v_initial_E,v_initial_E));\n",
    "print(v_initial_1IM)\n",
    "print(v_initial_2IM)\n",
    "print(v_initial_EM)"
   ]
  },
  {
   "cell_type": "code",
   "execution_count": 42,
   "metadata": {},
   "outputs": [
    {
     "name": "stdout",
     "output_type": "stream",
     "text": [
      "0.01603724285861022\n",
      "0.020021028747810588\n",
      "0.016992109287881328\n"
     ]
    }
   ],
   "source": [
    "#Final velocity vector magnitudes\n",
    "v_final_1IM = np.sqrt(np.dot(v_final_1I,v_final_1I));\n",
    "v_final_2IM = np.sqrt(np.dot(v_final_2I,v_final_2I));\n",
    "v_final_EM = np.sqrt(np.dot(v_final_E,v_final_E));\n",
    "print(v_final_1IM)\n",
    "print(v_final_2IM)\n",
    "print(v_final_EM)"
   ]
  },
  {
   "cell_type": "code",
   "execution_count": 43,
   "metadata": {},
   "outputs": [
    {
     "name": "stdout",
     "output_type": "stream",
     "text": [
      "[ 4.43265427 -9.68584463 -6.84981131]\n",
      "[ 6.22399709  4.90914852 -8.20392778]\n",
      "[-3.86185616e-05 -4.60475939e-05 -1.02440520e+00]\n"
     ]
    }
   ],
   "source": [
    "#Problem 2\n",
    "#Position cross products (AU^2)\n",
    "r1r2_cross_1I = np.cross(r_initial_1I,r_final_1I);\n",
    "r1r2_cross_2I = np.cross(r_initial_2I,r_final_2I);\n",
    "r1r2_cross_E = np.cross(r_initial_E,r_final_E);\n",
    "print(r1r2_cross_1I)\n",
    "print(r1r2_cross_2I)\n",
    "print(r1r2_cross_E)"
   ]
  },
  {
   "cell_type": "code",
   "execution_count": 44,
   "metadata": {},
   "outputs": [
    {
     "name": "stdout",
     "output_type": "stream",
     "text": [
      "171.50458783621474\n",
      "-111.3047944441092\n",
      "-0.0465162124420952\n"
     ]
    }
   ],
   "source": [
    "#Position dot products (AU^2)\n",
    "r1r2_dot_1I = np.dot(r_initial_1I,r_final_1I);\n",
    "r1r2_dot_2I = np.dot(r_initial_2I,r_final_2I);\n",
    "r1r2_dot_E = np.dot(r_initial_E,r_final_E);\n",
    "print(r1r2_dot_1I)\n",
    "print(r1r2_dot_2I)\n",
    "print(r1r2_dot_E)"
   ]
  },
  {
   "cell_type": "code",
   "execution_count": 45,
   "metadata": {},
   "outputs": [
    {
     "name": "stdout",
     "output_type": "stream",
     "text": [
      "171.9715312893384\n",
      "111.88788842487035\n",
      "1.0254607601259318\n"
     ]
    }
   ],
   "source": [
    "#Position multiplications (AU^2)\n",
    "r1r2_1IM = r_initial_1IM*r_final_1IM;\n",
    "r1r2_2IM = r_initial_2IM*r_final_2IM;\n",
    "r1r2_EM = r_initial_EM*r_final_EM;\n",
    "print(r1r2_1IM)\n",
    "print(r1r2_2IM)\n",
    "print(r1r2_EM)"
   ]
  },
  {
   "cell_type": "code",
   "execution_count": 46,
   "metadata": {},
   "outputs": [],
   "source": [
    "#Validity checks\n",
    "dtheta_1I_in = r1r2_dot_1I/r1r2_1IM;\n",
    "dtheta_2I_in = r1r2_dot_2I/r1r2_2IM;\n",
    "dtheta_E_in = r1r2_dot_E/r1r2_EM;\n",
    "if dtheta_1I_in >= 1:\n",
    "    dtheta_1I_in = 0.99;\n",
    "if dtheta_1I_in <= -1:\n",
    "    dtheta_1I_in = -0.99;\n",
    "if dtheta_2I_in >= 1:\n",
    "    dtheta_2I_in = 0.99;\n",
    "if dtheta_2I_in <= -1:\n",
    "    dtheta_2I_in = -0.99;\n",
    "if dtheta_E_in >= 1:\n",
    "    dtheta_E_in = 0.99;\n",
    "if dtheta_E_in <= -1:\n",
    "    dtheta_E_in = -0.99;"
   ]
  },
  {
   "cell_type": "code",
   "execution_count": 47,
   "metadata": {},
   "outputs": [
    {
     "name": "stdout",
     "output_type": "stream",
     "text": [
      "6.209476873807698\n"
     ]
    }
   ],
   "source": [
    "#Prograde change in true anomaly, 1I (Rad)\n",
    "if r1r2_cross_1I[2] >= 0:\n",
    "    dtheta_1I_pg = np.arccos(dtheta_1I_in);\n",
    "else:\n",
    "    dtheta_1I_pg = 2*np.pi - np.arccos(dtheta_1I_in);\n",
    "print(dtheta_1I_pg)"
   ]
  },
  {
   "cell_type": "code",
   "execution_count": 48,
   "metadata": {},
   "outputs": [
    {
     "name": "stdout",
     "output_type": "stream",
     "text": [
      "3.0394560232066845\n"
     ]
    }
   ],
   "source": [
    "#Retrograde change in true anomaly, 1I (Rad)\n",
    "if r1r2_cross_1I[2] < 0:\n",
    "    dtheta_1I_rg = np.arccos(dtheta_2I_in);\n",
    "else:\n",
    "    dtheta_1I_rg = 2*np.pi - np.arccos(dtheta_2I_in);\n",
    "print(dtheta_1I_rg)"
   ]
  },
  {
   "cell_type": "code",
   "execution_count": 49,
   "metadata": {},
   "outputs": [
    {
     "name": "stdout",
     "output_type": "stream",
     "text": [
      "4.667012129943819\n"
     ]
    }
   ],
   "source": [
    "#Prograde change in true anomaly, 2I (Rad)\n",
    "if r1r2_cross_2I[2] >= 0:\n",
    "    dtheta_2I_pg = np.arccos(dtheta_E_in);\n",
    "else:\n",
    "    dtheta_2I_pg = 2*np.pi - np.arccos(dtheta_E_in);\n",
    "print(dtheta_2I_pg)"
   ]
  },
  {
   "cell_type": "code",
   "execution_count": 50,
   "metadata": {},
   "outputs": [
    {
     "name": "stdout",
     "output_type": "stream",
     "text": [
      "3.0394560232066845\n"
     ]
    }
   ],
   "source": [
    "#Retrograde change in true anomaly, 2I (Rad)\n",
    "if r1r2_cross_2I[2] < 0:\n",
    "    dtheta_2I_rg = np.arccos(r1r2_dot_2I/r1r2_2IM);\n",
    "else:\n",
    "    dtheta_2I_rg = 2*np.pi - np.arccos(r1r2_dot_2I/r1r2_2IM);\n",
    "print(dtheta_2I_rg)"
   ]
  },
  {
   "cell_type": "code",
   "execution_count": 51,
   "metadata": {},
   "outputs": [
    {
     "name": "stdout",
     "output_type": "stream",
     "text": [
      "4.667012129943819\n"
     ]
    }
   ],
   "source": [
    "#Prograde change in true anomaly, E (Rad)\n",
    "if r1r2_cross_E[2] >= 0:\n",
    "    dtheta_E_pg = np.arccos(r1r2_dot_E/r1r2_EM);\n",
    "else:\n",
    "    dtheta_E_pg = 2*np.pi - np.arccos(r1r2_dot_E/r1r2_EM);\n",
    "print(dtheta_E_pg)"
   ]
  },
  {
   "cell_type": "code",
   "execution_count": 52,
   "metadata": {},
   "outputs": [
    {
     "name": "stdout",
     "output_type": "stream",
     "text": [
      "1.6161731772357677\n"
     ]
    }
   ],
   "source": [
    "#Retrograde change in true anomaly, E (Rad)\n",
    "if r1r2_cross_E[2] < 0:\n",
    "    dtheta_E_rg = np.arccos(r1r2_dot_E/r1r2_EM);\n",
    "else:\n",
    "    dtheta_E_rg = 2*np.pi - np.arccos(r1r2_dot_E/r1r2_EM);\n",
    "print(dtheta_E_rg)"
   ]
  },
  {
   "cell_type": "code",
   "execution_count": 53,
   "metadata": {},
   "outputs": [
    {
     "name": "stdout",
     "output_type": "stream",
     "text": [
      "-18.533108728045388\n",
      "-10.335013817803434\n",
      "-0.9894162661306093\n"
     ]
    }
   ],
   "source": [
    "#Prograde A, constant\n",
    "A_1I_pg = np.sin(dtheta_1I_pg)*np.sqrt((r1r2_1IM)/(1 - np.cos(dtheta_1I_pg)));\n",
    "A_2I_pg = np.sin(dtheta_2I_pg)*np.sqrt((r1r2_2IM)/(1 - np.cos(dtheta_2I_pg)));\n",
    "A_E_pg = np.sin(dtheta_E_pg)*np.sqrt((r1r2_EM)/(1 - np.cos(dtheta_E_pg)));\n",
    "print(A_1I_pg)\n",
    "print(A_2I_pg)\n",
    "print(A_E_pg)"
   ]
  },
  {
   "cell_type": "code",
   "execution_count": 54,
   "metadata": {},
   "outputs": [
    {
     "name": "stdout",
     "output_type": "stream",
     "text": [
      "0.9466861411993047\n",
      "0.763605906709177\n",
      "0.9894162661306092\n"
     ]
    }
   ],
   "source": [
    "#Retrograde A, constant\n",
    "A_1I_rg = np.sin(dtheta_1I_rg)*np.sqrt((r1r2_1IM)/(1 - np.cos(dtheta_1I_rg)));\n",
    "A_2I_rg = np.sin(dtheta_2I_rg)*np.sqrt((r1r2_2IM)/(1 - np.cos(dtheta_2I_rg)));\n",
    "A_E_rg = np.sin(dtheta_E_rg)*np.sqrt((r1r2_EM)/(1 - np.cos(dtheta_E_rg)));\n",
    "print(A_1I_rg)\n",
    "print(A_2I_rg)\n",
    "print(A_E_rg)"
   ]
  },
  {
   "cell_type": "code",
   "execution_count": 55,
   "metadata": {},
   "outputs": [
    {
     "name": "stdout",
     "output_type": "stream",
     "text": [
      "0.4405426740087018\n",
      "0.4405426740087018\n",
      "0.4405426740087018\n"
     ]
    }
   ],
   "source": [
    "#Prograde C Constants\n",
    "if Z_1I_pg > 0:\n",
    "    C_1I_pg = (1 - np.cos(np.sqrt(Z_1I_pg)))/Z_1I_pg;\n",
    "if Z_1I_pg < 0:\n",
    "    C_1I_pg = (np.cosh(np.sqrt(-Z_1I_pg)) - 1)/-Z_1I_pg;\n",
    "if Z_1I_pg == 0:\n",
    "    C_1I_pg = 0.5;\n",
    "if Z_2I_pg > 0:\n",
    "    C_2I_pg = (1 - np.cos(np.sqrt(Z_2I_pg)))/Z_2I_pg;\n",
    "if Z_2I_pg < 0:\n",
    "    C_2I_pg = (np.cosh(np.sqrt(-Z_2I_pg)) - 1)/-Z_2I_pg;\n",
    "if Z_2I_pg == 0:\n",
    "    C_2I_pg = 0.5;\n",
    "if Z_E_pg > 0:\n",
    "    C_E_pg = (1 - np.cos(np.sqrt(Z_E_pg)))/Z_E_pg;\n",
    "if Z_E_pg < 0:\n",
    "    C_E_pg = (np.cosh(np.sqrt(-Z_E_pg)) - 1)/-Z_E_pg;\n",
    "if Z_E_pg == 0:\n",
    "    C_E_pg = 0.5;\n",
    "print(C_1I_pg)\n",
    "print(C_2I_pg)\n",
    "print(C_E_pg)"
   ]
  },
  {
   "cell_type": "code",
   "execution_count": 56,
   "metadata": {},
   "outputs": [
    {
     "name": "stdout",
     "output_type": "stream",
     "text": [
      "0.4405426740087018\n",
      "0.4405426740087018\n",
      "0.4405426740087018\n"
     ]
    }
   ],
   "source": [
    "#Retrograde C Constants\n",
    "if Z_1I_rg > 0:\n",
    "    C_1I_rg = (1 - np.cos(np.sqrt(Z_1I_rg)))/Z_1I_rg;\n",
    "if Z_1I_rg < 0:\n",
    "    C_1I_rg = (np.cosh(np.sqrt(-Z_1I_rg)) - 1)/-Z_1I_rg;\n",
    "if Z_1I_rg == 0:\n",
    "    C_1I_rg = 0.5;\n",
    "if Z_2I_rg > 0:\n",
    "    C_2I_rg = (1 - np.cos(np.sqrt(Z_2I_rg)))/Z_2I_rg;\n",
    "if Z_2I_rg < 0:\n",
    "    C_2I_rg = (np.cosh(np.sqrt(-Z_2I_rg)) - 1)/-Z_2I_rg;\n",
    "if Z_2I_rg == 0:\n",
    "    C_2I_rg = 0.5;\n",
    "if Z_E_rg > 0:\n",
    "    C_E_rg = (1 - np.cos(np.sqrt(Z_E_rg)))/Z_E_rg;\n",
    "if Z_E_rg < 0:\n",
    "    C_E_rg = (np.cosh(np.sqrt(-Z_E_rg)) - 1)/-Z_E_rg;\n",
    "if Z_E_rg == 0:\n",
    "    C_E_rg = 0.5;\n",
    "print(C_1I_rg)\n",
    "print(C_2I_rg)\n",
    "print(C_E_rg)"
   ]
  },
  {
   "cell_type": "code",
   "execution_count": 57,
   "metadata": {},
   "outputs": [
    {
     "name": "stdout",
     "output_type": "stream",
     "text": [
      "0.15460392025833494\n",
      "0.15460392025833494\n",
      "0.15460392025833494\n"
     ]
    }
   ],
   "source": [
    "#Prograde S Constants\n",
    "if Z_1I_pg > 0:\n",
    "    S_1I_pg = (np.sqrt(Z_1I_pg) - np.sin(np.sqrt(Z_1I_pg)))/(np.sqrt(Z_1I_pg)**3);\n",
    "if Z_1I_pg < 0:\n",
    "    S_1I_pg = (np.sinh(np.sqrt(-Z_1I_pg)) - np.sqrt(-Z_1I_pg))/(np.sqrt(-Z_1I_pg)**3);\n",
    "if Z_1I_pg == 0:\n",
    "    S_1I_pg = 1/6;\n",
    "if Z_2I_pg > 0:\n",
    "    S_2I_pg = (np.sqrt(Z_2I_pg) - np.sin(np.sqrt(Z_2I_pg)))/(np.sqrt(Z_2I_pg)**3);\n",
    "if Z_2I_pg < 0:\n",
    "    S_2I_pg = (np.sinh(np.sqrt(-Z_2I_pg)) - np.sqrt(-Z_2I_pg))/(np.sqrt(-Z_2I_pg)**3);\n",
    "if Z_2I_pg == 0:\n",
    "    S_2I_pg = 1/6;\n",
    "if Z_E_pg > 0:\n",
    "    S_E_pg = (np.sqrt(Z_E_pg) - np.sin(np.sqrt(Z_E_pg)))/(np.sqrt(Z_E_pg)**3);\n",
    "if Z_E_pg < 0:\n",
    "    S_E_pg = (np.sinh(np.sqrt(-Z_E_pg)) - np.sqrt(-Z_E_pg))/(np.sqrt(-Z_E_pg)**3);\n",
    "if Z_E_pg == 0:\n",
    "    S_E_pg = 1/6;\n",
    "print(S_1I_pg)\n",
    "print(S_2I_pg)\n",
    "print(S_E_pg)"
   ]
  },
  {
   "cell_type": "code",
   "execution_count": 58,
   "metadata": {},
   "outputs": [
    {
     "name": "stdout",
     "output_type": "stream",
     "text": [
      "0.15460392025833494\n",
      "0.15460392025833494\n",
      "0.15460392025833494\n"
     ]
    }
   ],
   "source": [
    "#Retrograde S Constants\n",
    "if Z_1I_rg > 0:\n",
    "    S_1I_rg = (np.sqrt(Z_1I_rg) - np.sin(np.sqrt(Z_1I_rg)))/(np.sqrt(Z_1I_rg)**3);\n",
    "if Z_1I_rg < 0:\n",
    "    S_1I_rg = (np.sinh(np.sqrt(-Z_1I_rg)) - np.sqrt(-Z_1I_rg))/(np.sqrt(-Z_1I_rg)**3);\n",
    "if Z_1I_rg == 0:\n",
    "    S_1I_rg = 1/6;\n",
    "if Z_2I_rg > 0:\n",
    "    S_2I_rg = (np.sqrt(Z_2I_rg) - np.sin(np.sqrt(Z_2I_rg)))/(np.sqrt(Z_2I_rg)**3);\n",
    "if Z_2I_rg < 0:\n",
    "    S_2I_rg = (np.sinh(np.sqrt(-Z_2I_rg)) - np.sqrt(-Z_2I_rg))/(np.sqrt(-Z_2I_rg)**3);\n",
    "if Z_2I_rg == 0:\n",
    "    S_2I_rg = 1/6;\n",
    "if Z_E_rg > 0:\n",
    "    S_E_rg = (np.sqrt(Z_E_rg) - np.sin(np.sqrt(Z_E_rg)))/(np.sqrt(Z_E_rg)**3);\n",
    "if Z_E_rg < 0:\n",
    "    S_E_rg = (np.sinh(np.sqrt(-Z_E_rg)) - np.sqrt(-Z_E_rg))/(np.sqrt(-Z_E_rg)**3);\n",
    "if Z_E_rg == 0:\n",
    "    S_E_rg = 1/6;\n",
    "print(S_1I_rg)\n",
    "print(S_2I_rg)\n",
    "print(S_E_rg)"
   ]
  },
  {
   "cell_type": "code",
   "execution_count": 59,
   "metadata": {},
   "outputs": [
    {
     "name": "stdout",
     "output_type": "stream",
     "text": [
      "50.71097363238845\n",
      "44.763712459501875\n",
      "3.1409928717945688\n"
     ]
    }
   ],
   "source": [
    "#Prograde y functions\n",
    "y_1I_pg = r_1IM + r_final_1IM + A_1I_pg*((Z_1I_pg*S_1I_pg - 1)/np.sqrt(C_1I_pg));\n",
    "y_2I_pg = r_2IM + r_final_2IM + A_2I_pg*((Z_2I_pg*S_2I_pg - 1)/np.sqrt(C_2I_pg));\n",
    "y_E_pg = r_EM + r_final_EM + A_E_pg*((Z_E_pg*S_E_pg - 1)/np.sqrt(C_E_pg));\n",
    "print(y_1I_pg)\n",
    "print(y_2I_pg)\n",
    "print(y_E_pg)"
   ]
  },
  {
   "cell_type": "code",
   "execution_count": 60,
   "metadata": {},
   "outputs": [
    {
     "name": "stdout",
     "output_type": "stream",
     "text": [
      "29.908450011698033\n",
      "20.30112298229688\n",
      "0.880316527073022\n"
     ]
    }
   ],
   "source": [
    "#Retrograde y functions\n",
    "y_1I_rg = r_initial_1IM + r_final_1IM + A_1I_rg*((Z_1I_rg*S_1I_rg - 1)/np.sqrt(C_1I_rg));\n",
    "y_2I_rg = r_initial_2IM + r_final_2IM + A_2I_rg*((Z_2I_rg*S_2I_rg - 1)/np.sqrt(C_2I_rg));\n",
    "y_E_rg = r_initial_EM + r_final_EM + A_E_rg*((Z_E_rg*S_E_rg - 1)/np.sqrt(C_E_rg));\n",
    "print(y_1I_rg)\n",
    "print(y_2I_rg)\n",
    "print(y_E_rg)"
   ]
  },
  {
   "cell_type": "code",
   "execution_count": 61,
   "metadata": {},
   "outputs": [
    {
     "name": "stdout",
     "output_type": "stream",
     "text": [
      "41.758194300242366\n",
      "72.00428100938738\n",
      "-16.012296234148383\n"
     ]
    }
   ],
   "source": [
    "#Prograde Fs\n",
    "F_1I_pg = ((y_1I_pg/C_1I_pg)**1.5)*S_1I_pg + A_1I_pg*np.sqrt(y_1I_pg) - np.sqrt(mu_S)*dt;\n",
    "F_2I_pg = ((y_2I_pg/C_2I_pg)**1.5)*S_2I_pg + A_2I_pg*np.sqrt(y_2I_pg) - np.sqrt(mu_S)*dt;\n",
    "F_E_pg = ((y_E_pg/C_E_pg)**1.5)*S_E_pg + A_E_pg*np.sqrt(y_E_pg) - np.sqrt(mu_S)*dt;\n",
    "print(F_1I_pg)\n",
    "print(F_2I_pg)\n",
    "print(F_E_pg)"
   ]
  },
  {
   "cell_type": "code",
   "execution_count": 62,
   "metadata": {},
   "outputs": [
    {
     "name": "stdout",
     "output_type": "stream",
     "text": [
      "74.45792598381334\n",
      "34.60206235436736\n",
      "-15.837063615943078\n"
     ]
    }
   ],
   "source": [
    "#Retrograde Fs\n",
    "F_1I_rg = ((y_1I_rg/C_1I_rg)**1.5)*S_1I_rg + A_1I_rg*np.sqrt(y_1I_rg) - np.sqrt(mu_S)*dt;\n",
    "F_2I_rg = ((y_2I_rg/C_2I_rg)**1.5)*S_2I_rg + A_2I_rg*np.sqrt(y_2I_rg) - np.sqrt(mu_S)*dt;\n",
    "F_E_rg = ((y_E_rg/C_E_rg)**1.5)*S_E_rg + A_E_rg*np.sqrt(y_E_rg) - np.sqrt(mu_S)*dt;\n",
    "print(F_1I_rg)\n",
    "print(F_2I_rg)\n",
    "print(F_E_rg)"
   ]
  },
  {
   "cell_type": "code",
   "execution_count": 63,
   "metadata": {},
   "outputs": [
    {
     "name": "stdout",
     "output_type": "stream",
     "text": [
      "1.5400423519070223\n",
      "4.5875358921145715\n",
      "0.04485018050709211\n"
     ]
    }
   ],
   "source": [
    "#Prograde Fprimes\n",
    "if Z_1I_pg != 0:\n",
    "    Fprime_1I_pg = ((y_1I_pg/C_1I_pg)**1.5)*((1/(2*Z_1I_pg))*(C_1I_pg - 1.5*(S_1I_pg/C_1I_pg)) + 0.75*((S_1I_pg**2)/C_1I_pg)) + (A_1I_pg/8)*(3*(S_1I_pg/C_1I_pg)*np.sqrt(y_1I_pg) + A_1I_pg*np.sqrt(C_1I_pg/y_1I_pg));\n",
    "else:\n",
    "    Fprime_1I_pg = (np.sqrt(2)/40)*y_1I_pg + (A_1I_pg/8)*(np.sqrt(y_1I_pg) + A_1I_pg*np.sqrt(1/(2*y_1I_pg)));\n",
    "if Z_2I_pg != 0:\n",
    "    Fprime_2I_pg = ((y_2I_pg/C_2I_pg)**1.5)*((1/(2*Z_2I_pg))*(C_2I_pg - 1.5*(S_2I_pg/C_2I_pg)) + 0.75*((S_2I_pg**2)/C_2I_pg)) + (A_2I_pg/8)*(3*(S_2I_pg/C_2I_pg)*np.sqrt(y_2I_pg) + A_2I_pg*np.sqrt(C_2I_pg/y_2I_pg));\n",
    "else:\n",
    "    Fprime_2I_pg = (np.sqrt(2)/40)*y_2I_pg + (A_2I_pg/8)*(np.sqrt(y_2I_pg) + A_2I_pg*np.sqrt(1/(2*y_2I_pg)));\n",
    "if Z_E_pg != 0:\n",
    "    Fprime_E_pg = ((y_E_pg/C_E_pg)**1.5)*((1/(2*Z_E_pg))*(C_E_pg - 1.5*(S_E_pg/C_E_pg)) + 0.75*((S_E_pg**2)/C_E_pg)) + (A_E_pg/8)*(3*(S_E_pg/C_E_pg)*np.sqrt(y_E_pg) + A_E_pg*np.sqrt(C_E_pg/y_E_pg));\n",
    "else:\n",
    "    Fprime_E_pg = (np.sqrt(2)/40)*y_E_pg + (A_E_pg/8)*(np.sqrt(y_E_pg) + A_E_pg*np.sqrt(1/(2*y_E_pg)));\n",
    "print(Fprime_1I_pg)\n",
    "print(Fprime_2I_pg)\n",
    "print(Fprime_E_pg)"
   ]
  },
  {
   "cell_type": "code",
   "execution_count": 64,
   "metadata": {},
   "outputs": [
    {
     "name": "stdout",
     "output_type": "stream",
     "text": [
      "7.446795330967194\n",
      "4.239352059943604\n",
      "0.24282940088477625\n"
     ]
    }
   ],
   "source": [
    "#Retrograde Fprimes\n",
    "if Z_1I_rg != 0:\n",
    "    Fprime_1I_rg = ((y_1I_rg/C_1I_rg)**1.5)*((1/(2*Z_1I_rg))*(C_1I_rg - 1.5*(S_1I_rg/C_1I_rg)) + 0.75*((S_1I_rg**2)/C_1I_rg)) + (A_1I_rg/8)*(3*(S_1I_rg/C_1I_rg)*np.sqrt(y_1I_rg) + A_1I_rg*np.sqrt(C_1I_rg/y_1I_rg));\n",
    "else:\n",
    "    Fprime_1I_rg = (np.sqrt(2)/40)*y_1I_rg + (A_1I_rg/8)*(np.sqrt(y_1I_rg) + A_1I_rg*np.sqrt(1/(2*y_1I_rg)));\n",
    "if Z_2I_rg != 0:\n",
    "    Fprime_2I_rg = ((y_2I_rg/C_2I_rg)**1.5)*((1/(2*Z_2I_rg))*(C_2I_rg - 1.5*(S_2I_rg/C_2I_rg)) + 0.75*((S_2I_rg**2)/C_2I_rg)) + (A_2I_rg/8)*(3*(S_2I_rg/C_2I_rg)*np.sqrt(y_2I_rg) + A_2I_rg*np.sqrt(C_2I_rg/y_2I_rg));\n",
    "else:\n",
    "    Fprime_2I_rg = (np.sqrt(2)/40)*y_2I_rg + (A_2I_rg/8)*(np.sqrt(y_2I_rg) + A_2I_rg*np.sqrt(1/(2*y_2I_rg)));\n",
    "if Z_E_rg != 0:\n",
    "    Fprime_E_rg = ((y_E_rg/C_E_rg)**1.5)*((1/(2*Z_E_rg))*(C_E_rg - 1.5*(S_E_rg/C_E_rg)) + 0.75*((S_E_rg**2)/C_E_rg)) + (A_E_rg/8)*(3*(S_E_rg/C_E_rg)*np.sqrt(y_E_rg) + A_E_rg*np.sqrt(C_E_rg/y_E_rg));\n",
    "else:\n",
    "    Fprime_E_rg = (np.sqrt(2)/40)*y_E_rg + (A_E_rg/8)*(np.sqrt(y_E_rg) + A_E_rg*np.sqrt(1/(2*y_E_rg)));\n",
    "print(Fprime_1I_rg)\n",
    "print(Fprime_2I_rg)\n",
    "print(Fprime_E_rg)"
   ]
  },
  {
   "cell_type": "code",
   "execution_count": 65,
   "metadata": {},
   "outputs": [
    {
     "name": "stdout",
     "output_type": "stream",
     "text": [
      "27.114964889461334\n",
      "15.695633277366653\n",
      "-357.01743121449374\n"
     ]
    }
   ],
   "source": [
    "#Prograde Ratios\n",
    "Ratio_1I_pg = F_1I_pg/Fprime_1I_pg;\n",
    "Ratio_2I_pg = F_2I_pg/Fprime_2I_pg;\n",
    "Ratio_E_pg = F_E_pg/Fprime_E_pg;\n",
    "print(Ratio_1I_pg)\n",
    "print(Ratio_2I_pg)\n",
    "print(Ratio_E_pg)"
   ]
  },
  {
   "cell_type": "code",
   "execution_count": 66,
   "metadata": {},
   "outputs": [
    {
     "name": "stdout",
     "output_type": "stream",
     "text": [
      "9.998653471001559\n",
      "8.162111064403478\n",
      "-65.21888847989146\n"
     ]
    }
   ],
   "source": [
    "#Retrograde Ratios\n",
    "Ratio_1I_rg = F_1I_rg/Fprime_1I_rg;\n",
    "Ratio_2I_rg = F_2I_rg/Fprime_2I_rg;\n",
    "Ratio_E_rg = F_E_rg/Fprime_E_rg;\n",
    "print(Ratio_1I_rg)\n",
    "print(Ratio_2I_rg)\n",
    "print(Ratio_E_rg)"
   ]
  },
  {
   "cell_type": "code",
   "execution_count": 67,
   "metadata": {},
   "outputs": [
    {
     "name": "stdout",
     "output_type": "stream",
     "text": [
      "1.093171414272865e-10\n",
      "6\n",
      "-74.44693333426181\n"
     ]
    }
   ],
   "source": [
    "#Prograde 1I Loop\n",
    "while np.abs(Ratio_1I_pg) >= Tol:\n",
    "    Z_i_1I_pg = Z_1I_pg - Ratio_1I_pg;\n",
    "    if Z_i_1I_pg > 0:\n",
    "        C_i_1I_pg = (1 - np.cos(np.sqrt(Z_i_1I_pg)))/Z_i_1I_pg;\n",
    "    if Z_i_1I_pg < 0:\n",
    "        C_i_1I_pg = (np.cosh(np.sqrt(-Z_i_1I_pg)) - 1)/-Z_i_1I_pg;\n",
    "    if Z_i_1I_pg == 0:\n",
    "        C_i_1I_pg = 0.5;\n",
    "    if Z_i_1I_pg > 0:\n",
    "        S_i_1I_pg = (np.sqrt(Z_i_1I_pg) - np.sin(np.sqrt(Z_i_1I_pg)))/(np.sqrt(Z_i_1I_pg)**3);\n",
    "    if Z_i_1I_pg < 0:\n",
    "        S_i_1I_pg = (np.sinh(np.sqrt(-Z_i_1I_pg)) - np.sqrt(-Z_i_1I_pg))/(np.sqrt(-Z_i_1I_pg)**3);\n",
    "    if Z_i_1I_pg == 0:\n",
    "        S_i_1I_pg = 1/6;\n",
    "    y_i_1I_pg = r_initial_1IM + r_final_1IM + A_1I_pg*((Z_i_1I_pg*S_i_1I_pg - 1)/np.sqrt(C_i_1I_pg));\n",
    "    if y_i_1I_pg <= 0:\n",
    "        Z_1I_pg = Z_1I_pg;\n",
    "        C_1I_pg = C_1I_pg;\n",
    "        S_1I_pg = S_1I_pg;\n",
    "        y_1I_pg = y_1I_pg;\n",
    "        F_1I_pg = F_1I_pg;\n",
    "        Fprime_1I_pg = Fprime_1I_pg;\n",
    "        Ratio_1I_pg = Ratio_1I_pg;\n",
    "        break\n",
    "    if y_i_1I_pg >= 1.0E16:\n",
    "        Z_1I_pg = Z_1I_pg;\n",
    "        C_1I_pg = C_1I_pg;\n",
    "        S_1I_pg = S_1I_pg;\n",
    "        y_1I_pg = y_1I_pg;\n",
    "        F_1I_pg = F_1I_pg;\n",
    "        Fprime_1I_pg = Fprime_1I_pg;\n",
    "        Ratio_1I_pg = Ratio_1I_pg;\n",
    "        break\n",
    "    F_i_1I_pg = ((y_i_1I_pg/C_i_1I_pg)**1.5)*S_i_1I_pg + A_1I_pg*np.sqrt(y_i_1I_pg) - np.sqrt(mu_S)*dt;\n",
    "    if Z_i_1I_pg != 0:\n",
    "        Fprime_i_1I_pg = ((y_i_1I_pg/C_i_1I_pg)**1.5)*((1/(2*Z_i_1I_pg))*(C_i_1I_pg - 1.5*(S_i_1I_pg/C_i_1I_pg)) + 0.75*((S_i_1I_pg**2)/C_i_1I_pg)) + (A_1I_pg/8)*(3*(S_i_1I_pg/C_i_1I_pg)*np.sqrt(y_i_1I_pg) + A_1I_pg*np.sqrt(C_i_1I_pg/y_i_1I_pg));\n",
    "    else:\n",
    "        Fprime_i_1I_pg = (np.sqrt(2)/40)*y_i_1I_pg + (A_1I_pg/8)*(np.sqrt(y_i_1I_pg) + A_1I_pg*np.sqrt(1/(2*y_i_1I_pg)));\n",
    "    Ratio_1I_pg = F_i_1I_pg/Fprime_i_1I_pg;\n",
    "    Z_1I_pg = Z_i_1I_pg;\n",
    "    C_1I_pg = C_i_1I_pg;\n",
    "    S_1I_pg = S_i_1I_pg;\n",
    "    y_1I_pg = y_i_1I_pg;\n",
    "    F_1I_pg = F_i_1I_pg;\n",
    "    Fprime_1I_pg = Fprime_i_1I_pg;\n",
    "    Ratio_1I_pg = Ratio_1I_pg;\n",
    "    Iter_1I_pg += 1;\n",
    "    if Iter_1I_pg >= 100:\n",
    "        Z_1I_pg = Z_1I_pg;\n",
    "        C_1I_pg = C_1I_pg;\n",
    "        S_1I_pg = S_1I_pg;\n",
    "        y_1I_pg = y_1I_pg;\n",
    "        F_1I_pg = F_1I_pg;\n",
    "        Fprime_1I_pg = Fprime_1I_pg;\n",
    "        Ratio_1I_pg = Ratio_1I_pg;\n",
    "        break\n",
    "print(Ratio_1I_pg)\n",
    "print(Iter_1I_pg)\n",
    "print(Z_1I_pg)"
   ]
  },
  {
   "cell_type": "code",
   "execution_count": 68,
   "metadata": {},
   "outputs": [
    {
     "name": "stdout",
     "output_type": "stream",
     "text": [
      "-8.789654559019744e-14\n",
      "6\n",
      "-32.83360382492818\n"
     ]
    }
   ],
   "source": [
    "#Prograde 2I Loop\n",
    "while np.abs(Ratio_2I_pg) >= Tol:\n",
    "    Z_i_2I_pg = Z_2I_pg - Ratio_2I_pg;\n",
    "    if Z_i_2I_pg > 0:\n",
    "        C_i_2I_pg = (1 - np.cos(np.sqrt(Z_i_2I_pg)))/Z_i_2I_pg;\n",
    "    if Z_i_2I_pg < 0:\n",
    "        C_i_2I_pg = (np.cosh(np.sqrt(-Z_i_2I_pg)) - 1)/-Z_i_2I_pg;\n",
    "    if Z_i_2I_pg == 0:\n",
    "        C_i_2I_pg = 0.5;\n",
    "    if Z_i_2I_pg > 0:\n",
    "        S_i_2I_pg = (np.sqrt(Z_i_2I_pg) - np.sin(np.sqrt(Z_i_2I_pg)))/(np.sqrt(Z_i_2I_pg)**3);\n",
    "    if Z_i_2I_pg < 0:\n",
    "        S_i_2I_pg = (np.sinh(np.sqrt(-Z_i_2I_pg)) - np.sqrt(-Z_i_2I_pg))/(np.sqrt(-Z_i_2I_pg)**3);\n",
    "    if Z_i_2I_pg == 0:\n",
    "        S_i_2I_pg = 1/6;\n",
    "    y_i_2I_pg = r_initial_2IM + r_final_2IM + A_2I_pg*((Z_i_2I_pg*S_i_2I_pg - 1)/np.sqrt(C_i_2I_pg));\n",
    "    if y_i_2I_pg <= 0:\n",
    "        Z_2I_pg = Z_2I_pg;\n",
    "        C_2I_pg = C_2I_pg;\n",
    "        S_2I_pg = S_2I_pg;\n",
    "        y_2I_pg = y_2I_pg;\n",
    "        F_2I_pg = F_2I_pg;\n",
    "        Fprime_2I_pg = Fprime_2I_pg;\n",
    "        Ratio_2I_pg = Ratio_2I_pg;\n",
    "        break\n",
    "    if y_i_2I_pg >= 1.0E16:\n",
    "        Z_2I_pg = Z_2I_pg;\n",
    "        C_2I_pg = C_2I_pg;\n",
    "        S_2I_pg = S_2I_pg;\n",
    "        y_2I_pg = y_2I_pg;\n",
    "        F_2I_pg = F_2I_pg;\n",
    "        Fprime_2I_pg = Fprime_2I_pg;\n",
    "        Ratio_2I_pg = Ratio_2I_pg;\n",
    "        break\n",
    "    F_i_2I_pg = ((y_i_2I_pg/C_i_2I_pg)**1.5)*S_i_2I_pg + A_2I_pg*np.sqrt(y_i_2I_pg) - np.sqrt(mu_S)*dt;\n",
    "    if Z_i_2I_pg != 0:\n",
    "        Fprime_i_2I_pg = ((y_i_2I_pg/C_i_2I_pg)**1.5)*((1/(2*Z_i_2I_pg))*(C_i_2I_pg - 1.5*(S_i_2I_pg/C_i_2I_pg)) + 0.75*((S_i_2I_pg**2)/C_i_2I_pg)) + (A_2I_pg/8)*(3*(S_i_2I_pg/C_i_2I_pg)*np.sqrt(y_i_2I_pg) + A_2I_pg*np.sqrt(C_i_2I_pg/y_i_2I_pg));\n",
    "    else:\n",
    "        Fprime_i_2I_pg = (np.sqrt(2)/40)*y_i_2I_pg + (A_2I_pg/8)*(np.sqrt(y_i_2I_pg) + A_2I_pg*np.sqrt(1/(2*y_i_2I_pg)));\n",
    "    Ratio_2I_pg = F_i_2I_pg/Fprime_i_2I_pg;\n",
    "    Z_2I_pg = Z_i_2I_pg;\n",
    "    C_2I_pg = C_i_2I_pg;\n",
    "    S_2I_pg = S_i_2I_pg;\n",
    "    y_2I_pg = y_i_2I_pg;\n",
    "    F_2I_pg = F_i_2I_pg;\n",
    "    Fprime_2I_pg = Fprime_i_2I_pg;\n",
    "    Ratio_2I_pg = Ratio_2I_pg;\n",
    "    Iter_2I_pg += 1;\n",
    "    if Iter_2I_pg >= 100:\n",
    "        Z_2I_pg = Z_2I_pg;\n",
    "        C_2I_pg = C_2I_pg;\n",
    "        S_2I_pg = S_2I_pg;\n",
    "        y_2I_pg = y_2I_pg;\n",
    "        F_2I_pg = F_2I_pg;\n",
    "        Fprime_2I_pg = Fprime_2I_pg;\n",
    "        Ratio_2I_pg = Ratio_2I_pg;\n",
    "        break\n",
    "print(Ratio_2I_pg)\n",
    "print(Iter_2I_pg)\n",
    "print(Z_2I_pg)"
   ]
  },
  {
   "cell_type": "code",
   "execution_count": 69,
   "metadata": {},
   "outputs": [
    {
     "name": "stdout",
     "output_type": "stream",
     "text": [
      "1.093171414272865e-10\n",
      "6\n",
      "-74.44693333426181\n"
     ]
    }
   ],
   "source": [
    "#Prograde E Loop\n",
    "while np.abs(Ratio_E_pg) >= Tol:\n",
    "    Z_i_E_pg = Z_E_pg - Ratio_E_pg;\n",
    "    if Z_i_E_pg > 0:\n",
    "        C_i_E_pg = (1 - np.cos(np.sqrt(Z_i_E_pg)))/Z_i_E_pg;\n",
    "    if Z_i_E_pg < 0:\n",
    "        C_i_E_pg = (np.cosh(np.sqrt(-Z_i_E_pg)) - 1)/-Z_i_E_pg;\n",
    "    if Z_i_E_pg == 0:\n",
    "        C_i_E_pg = 0.5;\n",
    "    if Z_i_E_pg > 0:\n",
    "        S_i_E_pg = (np.sqrt(Z_i_E_pg) - np.sin(np.sqrt(Z_i_E_pg)))/(np.sqrt(Z_i_E_pg)**3);\n",
    "    if Z_i_E_pg < 0:\n",
    "        S_i_E_pg = (np.sinh(np.sqrt(-Z_i_E_pg)) - np.sqrt(-Z_i_E_pg))/(np.sqrt(-Z_i_E_pg)**3);\n",
    "    if Z_i_E_pg == 0:\n",
    "        S_i_E_pg = 1/6;\n",
    "    y_i_E_pg = r_initial_EM + r_final_EM + A_E_pg*((Z_i_E_pg*S_i_E_pg - 1)/np.sqrt(C_i_E_pg));\n",
    "    if y_i_E_pg <= 0:\n",
    "        Z_E_pg = Z_E_pg;\n",
    "        C_E_pg = C_E_pg;\n",
    "        S_E_pg = S_E_pg;\n",
    "        y_E_pg = y_E_pg;\n",
    "        F_E_pg = F_E_pg;\n",
    "        Fprime_E_pg = Fprime_E_pg;\n",
    "        Ratio_E_pg = Ratio_E_pg;\n",
    "        break\n",
    "    if y_i_E_pg >= 1.0E16:\n",
    "        Z_E_pg = Z_E_pg;\n",
    "        C_E_pg = C_E_pg;\n",
    "        S_E_pg = S_E_pg;\n",
    "        y_E_pg = y_E_pg;\n",
    "        F_E_pg = F_E_pg;\n",
    "        Fprime_E_pg = Fprime_E_pg;\n",
    "        Ratio_E_pg = Ratio_E_pg;\n",
    "        break\n",
    "    F_i_E_pg = ((y_i_E_pg/C_i_E_pg)**1.5)*S_i_E_pg + A_E_pg*np.sqrt(y_i_E_pg) - np.sqrt(mu_S)*dt;\n",
    "    if Z_i_E_pg != 0:\n",
    "        Fprime_i_E_pg = ((y_i_E_pg/C_i_E_pg)**1.5)*((1/(2*Z_i_E_pg))*(C_i_E_pg - 1.5*(S_i_E_pg/C_i_E_pg)) + 0.75*((S_i_E_pg**2)/C_i_E_pg)) + (A_E_pg/8)*(3*(S_i_E_pg/C_i_E_pg)*np.sqrt(y_i_E_pg) + A_E_pg*np.sqrt(C_i_E_pg/y_i_E_pg));\n",
    "    else:\n",
    "        Fprime_i_E_pg = (np.sqrt(2)/40)*y_i_E_pg + (A_E_pg/8)*(np.sqrt(y_i_E_pg) + A_E_pg*np.sqrt(1/(2*y_i_E_pg)));\n",
    "    Ratio_E_pg = F_i_E_pg/Fprime_i_E_pg;\n",
    "    Z_E_pg = Z_i_E_pg;\n",
    "    C_E_pg = C_i_E_pg;\n",
    "    S_E_pg = S_i_E_pg;\n",
    "    y_E_pg = y_i_E_pg;\n",
    "    F_E_pg = F_i_E_pg;\n",
    "    Fprime_E_pg = Fprime_i_E_pg;\n",
    "    Ratio_E_pg = Ratio_E_pg;\n",
    "    Iter_E_pg += 1;\n",
    "    if Iter_E_pg >= 100:\n",
    "        Z_E_pg = Z_E_pg;\n",
    "        C_E_pg = C_E_pg;\n",
    "        S_E_pg = S_E_pg;\n",
    "        y_E_pg = y_E_pg;\n",
    "        F_E_pg = F_E_pg;\n",
    "        Fprime_E_pg = Fprime_E_pg;\n",
    "        Ratio_E_pg = Ratio_E_pg;\n",
    "        break\n",
    "print(Ratio_1I_pg)\n",
    "print(Iter_1I_pg)\n",
    "print(Z_1I_pg)"
   ]
  },
  {
   "cell_type": "code",
   "execution_count": 70,
   "metadata": {},
   "outputs": [
    {
     "name": "stdout",
     "output_type": "stream",
     "text": [
      "1.1587878355673313e-10\n",
      "6\n",
      "-24.295403517512252\n"
     ]
    }
   ],
   "source": [
    "#Retrograde 1I Loop\n",
    "while np.abs(Ratio_1I_rg) >= Tol:\n",
    "    Z_i_1I_rg = Z_1I_rg - Ratio_1I_rg;\n",
    "    if Z_i_1I_rg > 0:\n",
    "        C_i_1I_rg = (1 - np.cos(np.sqrt(Z_i_1I_rg)))/Z_i_1I_rg;\n",
    "    if Z_i_1I_rg < 0:\n",
    "        C_i_1I_rg = (np.cosh(np.sqrt(-Z_i_1I_rg)) - 1)/-Z_i_1I_rg;\n",
    "    if Z_i_1I_rg == 0:\n",
    "        C_i_1I_rg = 0.5;\n",
    "    if Z_i_1I_rg > 0:\n",
    "        S_i_1I_rg = (np.sqrt(Z_i_1I_rg) - np.sin(np.sqrt(Z_i_1I_rg)))/(np.sqrt(Z_i_1I_rg)**3);\n",
    "    if Z_i_1I_rg < 0:\n",
    "        S_i_1I_rg = (np.sinh(np.sqrt(-Z_i_1I_rg)) - np.sqrt(-Z_i_1I_rg))/(np.sqrt(-Z_i_1I_rg)**3);\n",
    "    if Z_i_1I_rg == 0:\n",
    "        S_i_1I_rg = 1/6;\n",
    "    y_i_1I_rg = r_initial_1IM + r_final_1IM + A_1I_rg*((Z_i_1I_rg*S_i_1I_rg - 1)/np.sqrt(C_i_1I_rg));\n",
    "    if y_i_1I_rg >= 1.0E16:\n",
    "        Z_1I_rg = Z_1I_rg;\n",
    "        C_1I_rg = C_1I_rg;\n",
    "        S_1I_rg = S_1I_rg;\n",
    "        y_1I_rg = y_1I_rg;\n",
    "        F_1I_rg = F_1I_rg;\n",
    "        Fprime_1I_rg = Fprime_1I_rg;\n",
    "        Ratio_1I_rg = Ratio_1I_rg;\n",
    "        break\n",
    "    F_i_1I_rg = ((y_i_1I_rg/C_i_1I_rg)**1.5)*S_i_1I_rg + A_1I_rg*np.sqrt(y_i_1I_rg) - np.sqrt(mu_S)*dt;\n",
    "    if Z_i_1I_rg != 0:\n",
    "        Fprime_i_1I_rg = ((y_i_1I_rg/C_i_1I_rg)**1.5)*((1/(2*Z_i_1I_rg))*(C_i_1I_rg - 1.5*(S_i_1I_rg/C_i_1I_rg)) + 0.75*((S_i_1I_rg**2)/C_i_1I_rg)) + (A_1I_rg/8)*(3*(S_i_1I_rg/C_i_1I_rg)*np.sqrt(y_i_1I_rg) + A_1I_rg*np.sqrt(C_i_1I_rg/y_i_1I_rg));\n",
    "    else:\n",
    "        Fprime_i_1I_rg = (np.sqrt(2)/40)*y_i_1I_rg + (A_1I_rg/8)*(np.sqrt(y_i_1I_rg) + A_1I_rg*np.sqrt(1/(2*y_i_1I_rg)));\n",
    "    Ratio_1I_rg = F_i_1I_rg/Fprime_i_1I_rg;\n",
    "    Z_1I_rg = Z_i_1I_rg;\n",
    "    C_1I_rg = C_i_1I_rg;\n",
    "    S_1I_rg = S_i_1I_rg;\n",
    "    y_1I_rg = y_i_1I_rg;\n",
    "    F_1I_rg = F_i_1I_rg;\n",
    "    Fprime_1I_rg = Fprime_i_1I_rg;\n",
    "    Ratio_1I_rg = Ratio_1I_rg;\n",
    "    Iter_1I_rg += 1;\n",
    "    if Iter_1I_rg >= 100:\n",
    "        Z_1I_rg = Z_1I_rg;\n",
    "        C_1I_rg = C_1I_rg;\n",
    "        S_1I_rg = S_1I_rg;\n",
    "        y_1I_rg = y_1I_rg;\n",
    "        F_1I_rg = F_1I_rg;\n",
    "        Fprime_1I_rg = Fprime_1I_rg;\n",
    "        Ratio_1I_rg = Ratio_1I_rg;\n",
    "        break\n",
    "print(Ratio_1I_rg)\n",
    "print(Iter_1I_rg)\n",
    "print(Z_1I_rg)"
   ]
  },
  {
   "cell_type": "code",
   "execution_count": 71,
   "metadata": {},
   "outputs": [
    {
     "name": "stdout",
     "output_type": "stream",
     "text": [
      "-3.3290345416008358e-15\n",
      "6\n",
      "-14.185865397459718\n"
     ]
    }
   ],
   "source": [
    "#Retrograde 2I Loop\n",
    "while np.abs(Ratio_2I_rg) >= Tol:\n",
    "    Z_i_2I_rg = Z_2I_rg - Ratio_2I_rg;\n",
    "    if Z_i_2I_rg > 0:\n",
    "        C_i_2I_rg = (1 - np.cos(np.sqrt(Z_i_2I_rg)))/Z_i_2I_rg;\n",
    "    if Z_i_2I_rg < 0:\n",
    "        C_i_2I_rg = (np.cosh(np.sqrt(-Z_i_2I_rg)) - 1)/-Z_i_2I_rg;\n",
    "    if Z_i_2I_rg == 0:\n",
    "        C_i_2I_rg = 0.5;\n",
    "    if Z_i_2I_rg > 0:\n",
    "        S_i_2I_rg = (np.sqrt(Z_i_2I_rg) - np.sin(np.sqrt(Z_i_2I_rg)))/(np.sqrt(Z_i_2I_rg)**3);\n",
    "    if Z_i_2I_rg < 0:\n",
    "        S_i_2I_rg = (np.sinh(np.sqrt(-Z_i_2I_rg)) - np.sqrt(-Z_i_2I_rg))/(np.sqrt(-Z_i_2I_rg)**3);\n",
    "    if Z_i_2I_rg == 0:\n",
    "        S_i_2I_rg = 1/6;\n",
    "    y_i_2I_rg = r_initial_2IM + r_final_2IM + A_2I_rg*((Z_i_2I_rg*S_i_2I_rg - 1)/np.sqrt(C_i_2I_rg));\n",
    "    if y_i_2I_rg <= 0:\n",
    "        Z_2I_rg = Z_2I_rg;\n",
    "        C_2I_rg = C_2I_rg;\n",
    "        S_2I_rg = S_2I_rg;\n",
    "        y_2I_rg = y_2I_rg;\n",
    "        F_2I_rg = F_2I_rg;\n",
    "        Fprime_2I_rg = Fprime_2I_rg;\n",
    "        Ratio_2I_rg = Ratio_2I_rg;\n",
    "        break\n",
    "    if y_i_2I_rg >= 1.0E16:\n",
    "        Z_2I_rg = Z_2I_rg;\n",
    "        C_2I_rg = C_2I_rg;\n",
    "        S_2I_rg = S_2I_rg;\n",
    "        y_2I_rg = y_2I_rg;\n",
    "        F_2I_rg = F_2I_rg;\n",
    "        Fprime_2I_rg = Fprime_2I_rg;\n",
    "        Ratio_2I_rg = Ratio_2I_rg;\n",
    "        break\n",
    "    F_i_2I_rg = ((y_i_2I_rg/C_i_2I_rg)**1.5)*S_i_2I_rg + A_2I_rg*np.sqrt(y_i_2I_rg) - np.sqrt(mu_S)*dt;\n",
    "    if Z_i_2I_rg != 0:\n",
    "        Fprime_i_2I_rg = ((y_i_2I_rg/C_i_2I_rg)**1.5)*((1/(2*Z_i_2I_rg))*(C_i_2I_rg - 1.5*(S_i_2I_rg/C_i_2I_rg)) + 0.75*((S_i_2I_rg**2)/C_i_2I_rg)) + (A_2I_rg/8)*(3*(S_i_2I_rg/C_i_2I_rg)*np.sqrt(y_i_2I_rg) + A_2I_rg*np.sqrt(C_i_2I_rg/y_i_2I_rg));\n",
    "    else:\n",
    "        Fprime_i_2I_rg = (np.sqrt(2)/40)*y_i_2I_rg + (A_2I_rg/8)*(np.sqrt(y_i_2I_rg) + A_2I_rg*np.sqrt(1/(2*y_i_2I_rg)));\n",
    "    Ratio_2I_rg = F_i_2I_rg/Fprime_i_2I_rg;\n",
    "    Z_2I_rg = Z_i_2I_rg;\n",
    "    C_2I_rg = C_i_2I_rg;\n",
    "    S_2I_rg = S_i_2I_rg;\n",
    "    y_2I_rg = y_i_2I_rg;\n",
    "    F_2I_rg = F_i_2I_rg;\n",
    "    Fprime_2I_rg = Fprime_i_2I_rg;\n",
    "    Ratio_2I_rg = Ratio_2I_rg;\n",
    "    Iter_2I_rg += 1;\n",
    "    if Iter_2I_rg >= 100:\n",
    "        Z_2I_rg = Z_2I_rg;\n",
    "        C_2I_rg = C_2I_rg;\n",
    "        S_2I_rg = S_2I_rg;\n",
    "        y_2I_rg = y_2I_rg;\n",
    "        F_2I_rg = F_2I_rg;\n",
    "        Fprime_2I_rg = Fprime_2I_rg;\n",
    "        Ratio_2I_rg = Ratio_2I_rg;\n",
    "        break\n",
    "print(Ratio_2I_rg)\n",
    "print(Iter_2I_rg)\n",
    "print(Z_2I_rg)"
   ]
  },
  {
   "cell_type": "code",
   "execution_count": 72,
   "metadata": {
    "scrolled": false
   },
   "outputs": [
    {
     "name": "stdout",
     "output_type": "stream",
     "text": [
      "154.42652866375911\n",
      "1\n",
      "66.71888847989146\n"
     ]
    }
   ],
   "source": [
    "#Retrograde E Loop\n",
    "while np.abs(Ratio_E_rg) >= Tol:\n",
    "    Z_i_E_rg = Z_E_rg - Ratio_E_rg;\n",
    "    if Z_i_E_rg > 0:\n",
    "        C_i_E_rg = (1 - np.cos(np.sqrt(Z_i_E_rg)))/Z_i_E_rg;\n",
    "    if Z_i_E_rg < 0:\n",
    "        C_i_E_rg = (np.cosh(np.sqrt(-Z_i_E_rg)) - 1)/-Z_i_E_rg;\n",
    "    if Z_i_E_rg == 0:\n",
    "        C_i_E_rg = 0.5;\n",
    "    if Z_i_E_rg > 0:\n",
    "        S_i_E_rg = (np.sqrt(Z_i_E_rg) - np.sin(np.sqrt(Z_i_E_rg)))/(np.sqrt(Z_i_E_rg)**3);\n",
    "    if Z_i_E_rg < 0:\n",
    "        S_i_E_rg = (np.sinh(np.sqrt(-Z_i_E_rg)) - np.sqrt(-Z_i_E_rg))/(np.sqrt(-Z_i_E_rg)**3);\n",
    "    if Z_i_E_rg == 0:\n",
    "        S_i_E_rg = 1/6;\n",
    "    y_i_E_rg = r_initial_EM + r_final_EM + A_E_rg*((Z_i_E_rg*S_i_E_rg - 1)/np.sqrt(C_i_E_rg));\n",
    "    if y_i_E_rg <= 0:\n",
    "        Z_E_rg = Z_E_rg;\n",
    "        C_E_rg = C_E_rg;\n",
    "        S_E_rg = S_E_rg;\n",
    "        y_E_rg = y_E_rg;\n",
    "        F_E_rg = F_E_rg;\n",
    "        Fprime_E_rg = Fprime_E_rg;\n",
    "        Ratio_E_rg = Ratio_E_rg;\n",
    "        break\n",
    "    if y_i_E_rg >= 1.0E16:\n",
    "        Z_E_rg = Z_E_rg;\n",
    "        C_E_rg = C_E_rg;\n",
    "        S_E_rg = S_E_rg;\n",
    "        y_E_rg = y_E_rg;\n",
    "        F_E_rg = F_E_rg;\n",
    "        Fprime_E_rg = Fprime_E_rg;\n",
    "        Ratio_E_rg = Ratio_E_rg;\n",
    "        break\n",
    "    F_i_E_rg = ((y_i_E_rg/C_i_E_rg)**1.5)*S_i_E_rg + A_E_rg*np.sqrt(y_i_E_rg) - np.sqrt(mu_S)*dt;\n",
    "    if Z_i_E_rg != 0:\n",
    "        Fprime_i_E_rg = ((y_i_E_rg/C_i_E_rg)**1.5)*((1/(2*Z_i_E_rg))*(C_i_E_rg - 1.5*(S_i_E_rg/C_i_E_rg)) + 0.75*((S_i_E_rg**2)/C_i_E_rg)) + (A_E_rg/8)*(3*(S_i_E_rg/C_i_E_rg)*np.sqrt(y_i_E_rg) + A_E_rg*np.sqrt(C_i_E_rg/y_i_E_rg));\n",
    "    else:\n",
    "        Fprime_i_E_rg = (np.sqrt(2)/40)*y_i_E_rg + (A_E_rg/8)*(np.sqrt(y_i_E_rg) + A_E_rg*np.sqrt(1/(2*y_i_E_rg)));\n",
    "    Ratio_E_rg = F_i_E_rg/Fprime_i_E_rg;\n",
    "    Z_E_rg = Z_i_E_rg;\n",
    "    C_E_rg = C_i_E_rg;\n",
    "    S_E_rg = S_i_E_rg;\n",
    "    y_E_rg = y_i_E_rg;\n",
    "    F_E_rg = F_i_E_rg;\n",
    "    Fprime_E_rg = Fprime_i_E_rg;\n",
    "    Ratio_E_rg = Ratio_E_rg;\n",
    "    Iter_E_rg += 1;\n",
    "    if Iter_E_rg >= 100:\n",
    "        Z_E_rg = Z_E_rg;\n",
    "        C_E_rg = C_E_rg;\n",
    "        S_E_rg = S_E_rg;\n",
    "        y_E_rg = y_E_rg;\n",
    "        F_E_rg = F_E_rg;\n",
    "        Fprime_E_rg = Fprime_E_rg;\n",
    "        Ratio_E_rg = Ratio_E_rg;\n",
    "        break\n",
    "print(Ratio_E_rg)\n",
    "print(Iter_E_rg)\n",
    "print(Z_E_rg)"
   ]
  },
  {
   "cell_type": "code",
   "execution_count": 73,
   "metadata": {},
   "outputs": [
    {
     "name": "stdout",
     "output_type": "stream",
     "text": [
      "-138.69977577796155\n",
      "-13.93339298991288\n",
      "-0.44795938703569904\n"
     ]
    }
   ],
   "source": [
    "#Prograde f functions\n",
    "f_1I_pg = 1 - y_1I_pg/r_initial_1IM;\n",
    "f_2I_pg = 1 - y_2I_pg/r_initial_2IM;\n",
    "f_E_pg = 1 - y_E_pg/r_initial_EM;\n",
    "print(f_1I_pg)\n",
    "print(f_2I_pg)\n",
    "print(f_E_pg)"
   ]
  },
  {
   "cell_type": "code",
   "execution_count": 74,
   "metadata": {},
   "outputs": [
    {
     "name": "stdout",
     "output_type": "stream",
     "text": [
      "-2.1894553351896393\n",
      "-0.7491941232709161\n",
      "-0.18785460094545803\n"
     ]
    }
   ],
   "source": [
    "#Retrograde f functions\n",
    "f_1I_rg = 1 - y_1I_rg/r_initial_1IM;\n",
    "f_2I_rg = 1 - y_2I_rg/r_initial_2IM;\n",
    "f_E_rg = 1 - y_E_rg/r_initial_EM;\n",
    "print(f_1I_rg)\n",
    "print(f_2I_rg)\n",
    "print(f_E_rg)"
   ]
  },
  {
   "cell_type": "code",
   "execution_count": 75,
   "metadata": {},
   "outputs": [
    {
     "name": "stdout",
     "output_type": "stream",
     "text": [
      "-34252.26194042375\n",
      "-7354.653104364283\n",
      "-69.64680322173389\n"
     ]
    }
   ],
   "source": [
    "#Prograde g functions\n",
    "g_1I_pg = A_1I_pg*np.sqrt(y_1I_pg/mu_S);\n",
    "g_2I_pg = A_2I_pg*np.sqrt(y_2I_pg/mu_S);\n",
    "g_E_pg = A_E_pg*np.sqrt(y_E_pg/mu_S);\n",
    "print(g_1I_pg)\n",
    "print(g_2I_pg)\n",
    "print(g_E_pg)"
   ]
  },
  {
   "cell_type": "code",
   "execution_count": 76,
   "metadata": {},
   "outputs": [
    {
     "name": "stdout",
     "output_type": "stream",
     "text": [
      "264.3671019293445\n",
      "185.97739852486222\n",
      "63.08188159049734\n"
     ]
    }
   ],
   "source": [
    "#Retrograde g functions\n",
    "g_1I_rg = A_1I_rg*np.sqrt(y_1I_rg/mu_S);\n",
    "g_2I_rg = A_2I_rg*np.sqrt(y_2I_rg/mu_S);\n",
    "g_E_rg = A_E_rg*np.sqrt(y_E_rg/mu_S);\n",
    "print(g_1I_rg)\n",
    "print(g_2I_rg)\n",
    "print(g_E_rg)"
   ]
  },
  {
   "cell_type": "code",
   "execution_count": 77,
   "metadata": {},
   "outputs": [
    {
     "name": "stdout",
     "output_type": "stream",
     "text": [
      "-0.16811779020651782\n",
      "-0.023430997762943082\n",
      "0.011477317735644406\n"
     ]
    }
   ],
   "source": [
    "#Prograde fdot functions\n",
    "fdot_1I_pg = (np.sqrt(mu_S)/(r_initial_1IM*r_final_1IM))*np.sqrt(y_1I_pg/C_1I_pg)*(Z_1I_pg*S_1I_pg - 1);\n",
    "fdot_2I_pg = (np.sqrt(mu_S)/(r_initial_2IM*r_final_2IM))*np.sqrt(y_2I_pg/C_2I_pg)*(Z_2I_pg*S_2I_pg - 1);\n",
    "fdot_E_pg = (np.sqrt(mu_S)/(r_initial_EM*r_final_EM))*np.sqrt(y_E_pg/C_E_pg)*(Z_E_pg*S_E_pg - 1);\n",
    "print(fdot_1I_pg)\n",
    "print(fdot_2I_pg)\n",
    "print(fdot_E_pg)"
   ]
  },
  {
   "cell_type": "code",
   "execution_count": 78,
   "metadata": {},
   "outputs": [
    {
     "name": "stdout",
     "output_type": "stream",
     "text": [
      "-0.0040239224388025985\n",
      "-0.00306376002737928\n",
      "-0.015293133375529672\n"
     ]
    }
   ],
   "source": [
    "#Retrograde fdot functions\n",
    "fdot_1I_rg = (np.sqrt(mu_S)/(r_initial_1IM*r_final_1IM))*np.sqrt(y_1I_rg/C_1I_rg)*(Z_1I_rg*S_1I_rg - 1);\n",
    "fdot_2I_rg = (np.sqrt(mu_S)/(r_initial_2IM*r_final_2IM))*np.sqrt(y_2I_rg/C_2I_rg)*(Z_2I_rg*S_2I_rg - 1);\n",
    "fdot_E_rg = (np.sqrt(mu_S)/(r_initial_EM*r_final_EM))*np.sqrt(y_E_rg/C_E_rg)*(Z_E_rg*S_E_rg - 1);\n",
    "print(fdot_1I_rg)\n",
    "print(fdot_2I_rg)\n",
    "print(fdot_E_rg)"
   ]
  },
  {
   "cell_type": "code",
   "execution_count": 79,
   "metadata": {},
   "outputs": [
    {
     "name": "stdout",
     "output_type": "stream",
     "text": [
      "-41.52432514540508\n",
      "-12.43967356415357\n",
      "-0.4479011177329526\n"
     ]
    }
   ],
   "source": [
    "#Prograde gdot functions\n",
    "gdot_1I_pg = 1 - y_1I_pg/r_final_1IM;\n",
    "gdot_2I_pg = 1 - y_2I_pg/r_final_2IM;\n",
    "gdot_E_pg = 1 - y_E_pg/r_final_EM;\n",
    "print(gdot_1I_pg)\n",
    "print(gdot_2I_pg)\n",
    "print(gdot_E_pg)"
   ]
  },
  {
   "cell_type": "code",
   "execution_count": 80,
   "metadata": {},
   "outputs": [
    {
     "name": "stdout",
     "output_type": "stream",
     "text": [
      "0.029136339302933245\n",
      "-0.5742301855295953\n",
      "-0.18780679887312024\n"
     ]
    }
   ],
   "source": [
    "#Retrograde gdot functions\n",
    "gdot_1I_rg = 1 - y_1I_rg/r_final_1IM;\n",
    "gdot_2I_rg = 1 - y_2I_rg/r_final_2IM;\n",
    "gdot_E_rg = 1 - y_E_rg/r_final_EM;\n",
    "print(gdot_1I_rg)\n",
    "print(gdot_2I_rg)\n",
    "print(gdot_E_rg)"
   ]
  },
  {
   "cell_type": "code",
   "execution_count": 81,
   "metadata": {},
   "outputs": [
    {
     "name": "stdout",
     "output_type": "stream",
     "text": [
      "[-0.02780303 -0.00600061 -0.00950687]\n",
      "[-0.00404744 -0.01308364 -0.01089975]\n",
      "[ 2.23168180e-03  1.55004138e-02 -7.80883487e-07]\n"
     ]
    }
   ],
   "source": [
    "#Prograde initial velocity vectors\n",
    "v_1I_pg = (1/g_1I_pg)*(r_final_1I - f_1I_pg*r_initial_1I);\n",
    "v_2I_pg = (1/g_2I_pg)*(r_final_2I - f_2I_pg*r_initial_2I);\n",
    "v_E_pg = (1/g_E_pg)*(r_final_E - f_E_pg*r_initial_E);\n",
    "print(v_1I_pg)\n",
    "print(v_2I_pg)\n",
    "print(v_E_pg)"
   ]
  },
  {
   "cell_type": "code",
   "execution_count": 82,
   "metadata": {},
   "outputs": [
    {
     "name": "stdout",
     "output_type": "stream",
     "text": [
      "0.02998993598224141\n",
      "0.017503372543065766\n",
      "0.01566024373211467\n"
     ]
    }
   ],
   "source": [
    "#Prograde initial velocity vector magnitudes\n",
    "v_1IM_pg = np.sqrt(np.dot(v_1I_pg,v_1I_pg));\n",
    "v_2IM_pg = np.sqrt(np.dot(v_2I_pg,v_2I_pg));\n",
    "v_EM_pg = np.sqrt(np.dot(v_E_pg,v_E_pg));\n",
    "print(v_1IM_pg)\n",
    "print(v_2IM_pg)\n",
    "print(v_EM_pg)"
   ]
  },
  {
   "cell_type": "code",
   "execution_count": 83,
   "metadata": {},
   "outputs": [
    {
     "name": "stdout",
     "output_type": "stream",
     "text": [
      "[0.13783287 0.02603375 0.05238196]\n",
      "[ 0.00062948 -0.01750285 -0.00999597]\n",
      "[-6.07471706e-03 -1.50168966e-02  9.04025859e-07]\n"
     ]
    }
   ],
   "source": [
    "#Retrograde initial velocity vectors\n",
    "v_1I_rg = (1/g_1I_rg)*(r_final_1I - f_1I_rg*r_initial_1I);\n",
    "v_2I_rg = (1/g_2I_rg)*(r_final_2I - f_2I_rg*r_initial_2I);\n",
    "v_E_rg = (1/g_E_rg)*(r_final_E - f_E_rg*r_initial_E);\n",
    "print(v_1I_rg)\n",
    "print(v_2I_rg)\n",
    "print(v_E_rg)"
   ]
  },
  {
   "cell_type": "code",
   "execution_count": 84,
   "metadata": {},
   "outputs": [
    {
     "name": "stdout",
     "output_type": "stream",
     "text": [
      "0.14973151277556773\n",
      "0.020165948674013428\n",
      "0.01619905460797131\n"
     ]
    }
   ],
   "source": [
    "#Retrograde initial velocity vector magnitudes\n",
    "v_1IM_rg = np.sqrt(np.dot(v_1I_rg,v_1I_rg));\n",
    "v_2IM_rg = np.sqrt(np.dot(v_2I_rg,v_2I_rg));\n",
    "v_EM_rg = np.sqrt(np.dot(v_E_rg,v_E_rg));\n",
    "print(v_1IM_rg)\n",
    "print(v_2IM_rg)\n",
    "print(v_EM_rg)"
   ]
  },
  {
   "cell_type": "code",
   "execution_count": 85,
   "metadata": {},
   "outputs": [
    {
     "name": "stdout",
     "output_type": "stream",
     "text": [
      "[0.0265623  0.00452359 0.01079252]\n",
      "[-0.00234603 -0.01404131 -0.01018202]\n",
      "[ 9.05117254e-03 -1.27787319e-02  2.33195414e-07]\n"
     ]
    }
   ],
   "source": [
    "#Prograde final velocity vectors\n",
    "v_final_1I_pg = (1/g_1I_pg)*(gdot_1I_pg*r_final_1I - r_initial_1I);\n",
    "v_final_2I_pg = (1/g_2I_pg)*(gdot_2I_pg*r_final_2I - r_initial_2I);\n",
    "v_final_E_pg = (1/g_E_pg)*(gdot_E_pg*r_final_E - r_initial_E);\n",
    "print(v_final_1I_pg)\n",
    "print(v_final_2I_pg)\n",
    "print(v_final_E_pg)"
   ]
  },
  {
   "cell_type": "code",
   "execution_count": 86,
   "metadata": {},
   "outputs": [
    {
     "name": "stdout",
     "output_type": "stream",
     "text": [
      "0.02902580344375096\n",
      "0.01750245257473441\n",
      "0.015659492788316912\n"
     ]
    }
   ],
   "source": [
    "#Prograde final velocity vector magnitudes\n",
    "v_final_1IM_pg = np.sqrt(np.dot(v_final_1I_pg,v_final_1I_pg));\n",
    "v_final_2IM_pg = np.sqrt(np.dot(v_final_2I_pg,v_final_2I_pg));\n",
    "v_final_EM_pg = np.sqrt(np.dot(v_final_E_pg,v_final_E_pg));\n",
    "print(v_final_1IM_pg)\n",
    "print(v_final_2IM_pg)\n",
    "print(v_final_EM_pg)"
   ]
  },
  {
   "cell_type": "code",
   "execution_count": 87,
   "metadata": {},
   "outputs": [
    {
     "name": "stdout",
     "output_type": "stream",
     "text": [
      "[-0.02298145 -0.00509714 -0.00766425]\n",
      "[-0.00725166 -0.0130668  -0.0133206 ]\n",
      "[-1.22514012e-02  1.05966513e-02 -1.44657620e-08]\n"
     ]
    }
   ],
   "source": [
    "#Retrograde final velocity vectors\n",
    "v_final_1I_rg = (1/g_1I_rg)*(gdot_1I_rg*r_final_1I - r_initial_1I);\n",
    "v_final_2I_rg = (1/g_2I_rg)*(gdot_2I_rg*r_final_2I - r_initial_2I);\n",
    "v_final_E_rg = (1/g_E_rg)*(gdot_E_rg*r_final_E - r_initial_E);\n",
    "print(v_final_1I_rg)\n",
    "print(v_final_2I_rg)\n",
    "print(v_final_E_rg)"
   ]
  },
  {
   "cell_type": "code",
   "execution_count": 88,
   "metadata": {},
   "outputs": [
    {
     "name": "stdout",
     "output_type": "stream",
     "text": [
      "0.024756180483831488\n",
      "0.02001914674664754\n",
      "0.016198328643108495\n"
     ]
    }
   ],
   "source": [
    "#Retrograde final velocity vector magnitudes\n",
    "v_final_1IM_rg = np.sqrt(np.dot(v_final_1I_rg,v_final_1I_rg));\n",
    "v_final_2IM_rg = np.sqrt(np.dot(v_final_2I_rg,v_final_2I_rg));\n",
    "v_final_EM_rg = np.sqrt(np.dot(v_final_E_rg,v_final_E_rg));\n",
    "print(v_final_1IM_rg)\n",
    "print(v_final_2IM_rg)\n",
    "print(v_final_EM_rg)"
   ]
  },
  {
   "cell_type": "code",
   "execution_count": 89,
   "metadata": {},
   "outputs": [
    {
     "name": "stdout",
     "output_type": "stream",
     "text": [
      "[ 0.02433062 -0.01097682  0.0107933 ]\n",
      "[-0.00457771 -0.02954173 -0.01018124]\n",
      "0.028791753694540203\n",
      "0.03158047887534871\n"
     ]
    }
   ],
   "source": [
    "#Prograde Delta Vs and Magnitudes\n",
    "dv_1IE_pg = v_final_1I_pg - v_E_pg;\n",
    "dv_2IE_pg = v_final_2I_pg - v_E_pg;\n",
    "dv_1IEM_pg = np.sqrt(np.dot(dv_1IE_pg,dv_1IE_pg));\n",
    "dv_2IEM_pg = np.sqrt(np.dot(dv_2IE_pg,dv_2IE_pg));\n",
    "print(dv_1IE_pg)\n",
    "print(dv_2IE_pg)\n",
    "print(dv_1IEM_pg)\n",
    "print(dv_2IEM_pg)"
   ]
  },
  {
   "cell_type": "code",
   "execution_count": 90,
   "metadata": {},
   "outputs": [
    {
     "name": "stdout",
     "output_type": "stream",
     "text": [
      "[-0.01690673  0.00991975 -0.00766515]\n",
      "[-0.00117695  0.0019501  -0.0133215 ]\n",
      "0.02104741185890839\n",
      "0.013514823407863684\n"
     ]
    }
   ],
   "source": [
    "#Retrograde Delta Vs and Magnitudes\n",
    "dv_1IE_rg = v_final_1I_rg - v_E_rg;\n",
    "dv_2IE_rg = v_final_2I_rg - v_E_rg;\n",
    "dv_1IEM_rg = np.sqrt(np.dot(dv_1IE_rg,dv_1IE_rg));\n",
    "dv_2IEM_rg = np.sqrt(np.dot(dv_2IE_rg,dv_2IE_rg));\n",
    "print(dv_1IE_rg)\n",
    "print(dv_2IE_rg)\n",
    "print(dv_1IEM_rg)\n",
    "print(dv_2IEM_rg)"
   ]
  },
  {
   "cell_type": "code",
   "execution_count": 91,
   "metadata": {},
   "outputs": [
    {
     "name": "stdout",
     "output_type": "stream",
     "text": [
      "[ 0.05702779 -0.12461209 -0.08812544]\n",
      "[ 0.02709475  0.02137086 -0.03571393]\n",
      "[-1.86293448e-07 -2.22130620e-07 -4.94166455e-03]\n"
     ]
    }
   ],
   "source": [
    "#Initial Orbital Elements\n",
    "#Prograde angular momentums\n",
    "h_1I_pg = np.cross(r_1I,v_1I_pg);\n",
    "h_2I_pg = np.cross(r_2I,v_2I_pg);\n",
    "h_E_pg = np.cross(r_E,v_E_pg);\n",
    "print(h_1I_pg)\n",
    "print(h_2I_pg)\n",
    "print(h_E_pg)"
   ]
  },
  {
   "cell_type": "code",
   "execution_count": 92,
   "metadata": {},
   "outputs": [
    {
     "name": "stdout",
     "output_type": "stream",
     "text": [
      "[-0.28262944  0.6175769   0.43674924]\n",
      "[ 0.10324122  0.08143103 -0.13608354]\n",
      "[3.23085575e-07 3.85237377e-07 8.57024521e-03]\n"
     ]
    }
   ],
   "source": [
    "#Retrograde angular momentums\n",
    "h_1I_rg = np.cross(r_1I,v_1I_rg);\n",
    "h_2I_rg = np.cross(r_2I,v_2I_rg);\n",
    "h_E_rg = np.cross(r_E,v_E_rg);\n",
    "print(h_1I_rg)\n",
    "print(h_2I_rg)\n",
    "print(h_E_rg)"
   ]
  },
  {
   "cell_type": "code",
   "execution_count": 93,
   "metadata": {},
   "outputs": [
    {
     "name": "stdout",
     "output_type": "stream",
     "text": [
      "0.1629307683129114\n",
      "0.04966210149184009\n",
      "0.004941664555630897\n"
     ]
    }
   ],
   "source": [
    "#Prograde angular momentum magnitudes\n",
    "h_1IM_pg = np.sqrt(np.dot(h_1I_pg,h_1I_pg));\n",
    "h_2IM_pg = np.sqrt(np.dot(h_2I_pg,h_2I_pg));\n",
    "h_EM_pg = np.sqrt(np.dot(h_E_pg,h_E_pg));\n",
    "print(h_1IM_pg)\n",
    "print(h_2IM_pg)\n",
    "print(h_EM_pg)"
   ]
  },
  {
   "cell_type": "code",
   "execution_count": 94,
   "metadata": {},
   "outputs": [
    {
     "name": "stdout",
     "output_type": "stream",
     "text": [
      "0.8074840721378354\n",
      "0.18923131923618458\n",
      "0.008570245227913728\n"
     ]
    }
   ],
   "source": [
    "#Retrograde angular momentum magnitudes\n",
    "h_1IM_rg = np.sqrt(np.dot(h_1I_rg,h_1I_rg));\n",
    "h_2IM_rg = np.sqrt(np.dot(h_2I_rg,h_2I_rg));\n",
    "h_EM_rg = np.sqrt(np.dot(h_E_rg,h_E_rg));\n",
    "print(h_1IM_rg)\n",
    "print(h_2IM_rg)\n",
    "print(h_EM_rg)"
   ]
  },
  {
   "cell_type": "code",
   "execution_count": 95,
   "metadata": {},
   "outputs": [
    {
     "name": "stdout",
     "output_type": "stream",
     "text": [
      "2.1422752865992702\n",
      "2.3733581216075863\n",
      "3.1415339873131813\n"
     ]
    }
   ],
   "source": [
    "#Prograde inclinations\n",
    "i_1I_pg = np.arccos(h_1I_pg[2]/h_1IM_pg);\n",
    "i_2I_pg = np.arccos(h_2I_pg[2]/h_2IM_pg);\n",
    "i_E_pg = np.arccos(h_E_pg[2]/h_EM_pg);\n",
    "print(i_1I_pg)\n",
    "print(i_2I_pg)\n",
    "print(i_E_pg)"
   ]
  },
  {
   "cell_type": "code",
   "execution_count": 96,
   "metadata": {},
   "outputs": [
    {
     "name": "stdout",
     "output_type": "stream",
     "text": [
      "0.9993173669905229\n",
      "2.373358121607586\n",
      "5.8666278504200506e-05\n"
     ]
    }
   ],
   "source": [
    "#Retrograde inclinations\n",
    "i_1I_rg = np.arccos(h_1I_rg[2]/h_1IM_rg);\n",
    "i_2I_rg = np.arccos(h_2I_rg[2]/h_2IM_rg);\n",
    "i_E_rg = np.arccos(h_E_rg[2]/h_EM_rg);\n",
    "print(i_1I_rg)\n",
    "print(i_2I_rg)\n",
    "print(i_E_rg)"
   ]
  },
  {
   "cell_type": "code",
   "execution_count": 97,
   "metadata": {},
   "outputs": [
    {
     "name": "stdout",
     "output_type": "stream",
     "text": [
      "[ 0.12461209  0.05702779 -0.        ]\n",
      "[-0.02137086  0.02709475  0.        ]\n",
      "[ 2.22130620e-07 -1.86293448e-07  0.00000000e+00]\n"
     ]
    }
   ],
   "source": [
    "#Prograde node line\n",
    "K_vector = np.array([0,0,1]);\n",
    "N_1I_pg = np.cross(K_vector,h_1I_pg);\n",
    "N_2I_pg = np.cross(K_vector,h_2I_pg);\n",
    "N_E_pg = np.cross(K_vector,h_E_pg);\n",
    "print(N_1I_pg)\n",
    "print(N_2I_pg)\n",
    "print(N_E_pg)"
   ]
  },
  {
   "cell_type": "code",
   "execution_count": 98,
   "metadata": {},
   "outputs": [
    {
     "name": "stdout",
     "output_type": "stream",
     "text": [
      "[-0.6175769  -0.28262944  0.        ]\n",
      "[-0.08143103  0.10324122  0.        ]\n",
      "[-3.85237377e-07  3.23085575e-07  0.00000000e+00]\n"
     ]
    }
   ],
   "source": [
    "#Retrograde node line\n",
    "K_vector = np.array([0,0,1]);\n",
    "N_1I_rg = np.cross(K_vector,h_1I_rg);\n",
    "N_2I_rg = np.cross(K_vector,h_2I_rg);\n",
    "N_E_rg = np.cross(K_vector,h_E_rg);\n",
    "print(N_1I_rg)\n",
    "print(N_2I_rg)\n",
    "print(N_E_rg)"
   ]
  },
  {
   "cell_type": "code",
   "execution_count": 99,
   "metadata": {},
   "outputs": [
    {
     "name": "stdout",
     "output_type": "stream",
     "text": [
      "0.13704138866840032\n",
      "0.03450854088040484\n",
      "2.8990905715283545e-07\n"
     ]
    }
   ],
   "source": [
    "#Prograde node line magnitudes\n",
    "N_1IM_pg = np.sqrt(np.dot(N_1I_pg,N_1I_pg));\n",
    "N_2IM_pg = np.sqrt(np.dot(N_2I_pg,N_2I_pg));\n",
    "N_EM_pg = np.sqrt(np.dot(N_E_pg,N_E_pg));\n",
    "print(N_1IM_pg)\n",
    "print(N_2IM_pg)\n",
    "print(N_EM_pg)"
   ]
  },
  {
   "cell_type": "code",
   "execution_count": 100,
   "metadata": {},
   "outputs": [
    {
     "name": "stdout",
     "output_type": "stream",
     "text": [
      "0.6791764362202087\n",
      "0.1314905434839032\n",
      "5.027843726790253e-07\n"
     ]
    }
   ],
   "source": [
    "#Retrograde node line magnitudes\n",
    "N_1IM_rg = np.sqrt(np.dot(N_1I_rg,N_1I_rg));\n",
    "N_2IM_rg = np.sqrt(np.dot(N_2I_rg,N_2I_rg));\n",
    "N_EM_rg = np.sqrt(np.dot(N_E_rg,N_E_rg));\n",
    "print(N_1IM_rg)\n",
    "print(N_2IM_rg)\n",
    "print(N_EM_rg)"
   ]
  },
  {
   "cell_type": "code",
   "execution_count": 101,
   "metadata": {},
   "outputs": [
    {
     "name": "stdout",
     "output_type": "stream",
     "text": [
      "0.4291912364266985\n",
      "2.238636879308795\n",
      "2.443715341975923\n"
     ]
    }
   ],
   "source": [
    "#Prograde right ascensions\n",
    "if N_1I_pg[1] >= 0:\n",
    "    RA_1I_pg = np.arccos(N_1I_pg[0]/N_1IM_pg);\n",
    "else:\n",
    "    RA_1I_pg = np.pi - np.arccos(N_1I_pg[0]/N_1IM_pg);\n",
    "if N_2I_pg[1] >= 0:\n",
    "    RA_2I_pg = np.arccos(N_2I_pg[0]/N_2IM_pg);\n",
    "else:\n",
    "    RA_2I_pg = np.pi - np.arccos(N_2I_pg[0]/N_2IM_pg);\n",
    "if N_E_pg[1] >= 0:\n",
    "    RA_E_pg = np.arccos(N_E_pg[0]/N_EM_pg);\n",
    "else:\n",
    "    RA_E_pg = np.pi - np.arccos(N_E_pg[0]/N_EM_pg);\n",
    "print(RA_1I_pg)\n",
    "print(RA_2I_pg)\n",
    "print(RA_E_pg)"
   ]
  },
  {
   "cell_type": "code",
   "execution_count": 102,
   "metadata": {},
   "outputs": [
    {
     "name": "stdout",
     "output_type": "stream",
     "text": [
      "0.42919123642669765\n",
      "2.2386368793087943\n",
      "2.4437153419759237\n"
     ]
    }
   ],
   "source": [
    "#Retrograde right ascensions\n",
    "if N_1I_rg[1] >= 0:\n",
    "    RA_1I_rg = np.arccos(N_1I_rg[0]/N_1IM_rg);\n",
    "else:\n",
    "    RA_1I_rg = np.pi - np.arccos(N_1I_rg[0]/N_1IM_rg);\n",
    "if N_2I_rg[1] >= 0:\n",
    "    RA_2I_rg = np.arccos(N_2I_rg[0]/N_2IM_rg);\n",
    "else:\n",
    "    RA_2I_rg = np.pi - np.arccos(N_2I_rg[0]/N_2IM_rg);\n",
    "if N_E_rg[1] >= 0:\n",
    "    RA_E_rg = np.arccos(N_E_rg[0]/N_EM_rg);\n",
    "else:\n",
    "    RA_E_rg = np.pi - np.arccos(N_E_rg[0]/N_EM_rg);\n",
    "print(RA_1I_rg)\n",
    "print(RA_2I_rg)\n",
    "print(RA_E_rg)"
   ]
  },
  {
   "cell_type": "code",
   "execution_count": 103,
   "metadata": {},
   "outputs": [
    {
     "name": "stdout",
     "output_type": "stream",
     "text": [
      "[-2.22281549 -9.53671972 12.04678627]\n",
      "[ 2.03146877 -2.1612499   0.24792502]\n",
      "[-7.61961839e-02 -9.45908116e-01  4.53915891e-05]\n"
     ]
    }
   ],
   "source": [
    "#Prograde eccentricities\n",
    "e_1I_pg = (1/mu_S)*(np.cross(v_1I_pg,h_1I_pg) - mu_S*(r_1I/r_1IM));\n",
    "e_2I_pg = (1/mu_S)*(np.cross(v_2I_pg,h_2I_pg) - mu_S*(r_2I/r_2IM));\n",
    "e_E_pg = (1/mu_S)*(np.cross(v_E_pg,h_E_pg) - mu_S*(r_E/r_EM));\n",
    "print(e_1I_pg)\n",
    "print(e_2I_pg)\n",
    "print(e_E_pg)"
   ]
  },
  {
   "cell_type": "code",
   "execution_count": 104,
   "metadata": {},
   "outputs": [
    {
     "name": "stdout",
     "output_type": "stream",
     "text": [
      "[ -70.90468461 -252.88854196  311.70831936]\n",
      "[10.46514146 -3.87276555  5.62206665]\n",
      "[-2.52264081e-01 -8.07239988e-01  4.57958776e-05]\n"
     ]
    }
   ],
   "source": [
    "#Retrograde eccentricities\n",
    "e_1I_rg = (1/mu_S)*(np.cross(v_1I_rg,h_1I_rg) - mu_S*(r_1I/r_1IM));\n",
    "e_2I_rg = (1/mu_S)*(np.cross(v_2I_rg,h_2I_rg) - mu_S*(r_2I/r_2IM));\n",
    "e_E_rg = (1/mu_S)*(np.cross(v_E_rg,h_E_rg) - mu_S*(r_E/r_EM));\n",
    "print(e_1I_rg)\n",
    "print(e_2I_rg)\n",
    "print(e_E_rg)"
   ]
  },
  {
   "cell_type": "code",
   "execution_count": 105,
   "metadata": {},
   "outputs": [
    {
     "name": "stdout",
     "output_type": "stream",
     "text": [
      "15.52465752014904\n",
      "2.976463222617095\n",
      "0.948972088538028\n"
     ]
    }
   ],
   "source": [
    "#Prograde eccentricity magnitudes\n",
    "e_1IM_pg = np.sqrt(np.dot(e_1I_pg,e_1I_pg));\n",
    "e_2IM_pg = np.sqrt(np.dot(e_2I_pg,e_2I_pg));\n",
    "e_EM_pg = np.sqrt(np.dot(e_E_pg,e_E_pg));\n",
    "print(e_1IM_pg)\n",
    "print(e_2IM_pg)\n",
    "print(e_EM_pg)"
   ]
  },
  {
   "cell_type": "code",
   "execution_count": 106,
   "metadata": {},
   "outputs": [
    {
     "name": "stdout",
     "output_type": "stream",
     "text": [
      "407.60540393000974\n",
      "12.495004292133311\n",
      "0.8457384740732703\n"
     ]
    }
   ],
   "source": [
    "#Retrograde eccentricity magnitudes\n",
    "e_1IM_rg = np.sqrt(np.dot(e_1I_rg,e_1I_rg));\n",
    "e_2IM_rg = np.sqrt(np.dot(e_2I_rg,e_2I_rg));\n",
    "e_EM_rg = np.sqrt(np.dot(e_E_rg,e_E_rg));\n",
    "print(e_1IM_rg)\n",
    "print(e_2IM_rg)\n",
    "print(e_EM_rg)"
   ]
  },
  {
   "cell_type": "code",
   "execution_count": 107,
   "metadata": {},
   "outputs": [
    {
     "name": "stdout",
     "output_type": "stream",
     "text": [
      "-0.8208477422716662\n",
      "2.1275206251625485\n",
      "-0.10197277090881933\n",
      "0.10271340279670355\n",
      "1.5929097911145323e-07\n",
      "2.751156034524168e-07\n"
     ]
    }
   ],
   "source": [
    "#Prograde arguments of perigee numerators and denominators\n",
    "omega_1I_pg_n = np.dot(N_1I_pg,e_1I_pg);\n",
    "omega_1I_pg_d = N_1IM_pg*e_1IM_pg;\n",
    "omega_2I_pg_n = np.dot(N_2I_pg,e_2I_pg);\n",
    "omega_2I_pg_d = N_2IM_pg*e_2IM_pg;\n",
    "omega_E_pg_n = np.dot(N_E_pg,e_E_pg);\n",
    "omega_E_pg_d = N_EM_pg*e_EM_pg;\n",
    "print(omega_1I_pg_n)\n",
    "print(omega_1I_pg_d)\n",
    "print(omega_2I_pg_n)\n",
    "print(omega_2I_pg_d)\n",
    "print(omega_E_pg_n)\n",
    "print(omega_E_pg_d)"
   ]
  },
  {
   "cell_type": "code",
   "execution_count": 108,
   "metadata": {},
   "outputs": [
    {
     "name": "stdout",
     "output_type": "stream",
     "text": [
      "1.1746959110903465\n",
      "0.12016111535413154\n",
      "2.188293722823288\n"
     ]
    }
   ],
   "source": [
    "#Prograde arguments of perigee\n",
    "if e_1I_pg[1] >= 0:\n",
    "    omega_1I_pg = np.arccos(omega_1I_pg_n/omega_1I_pg_d);\n",
    "else:\n",
    "    omega_1I_pg = np.pi - np.arccos(omega_1I_pg_n/omega_1I_pg_d);\n",
    "if e_2I_pg[1] >= 0:\n",
    "    omega_2I_pg = np.arccos(omega_2I_pg_n/omega_2I_pg_d);\n",
    "else:\n",
    "    omega_2I_pg = np.pi - np.arccos(omega_2I_pg_n/omega_2I_pg_d);\n",
    "if e_E_pg[1] >= 0:\n",
    "    omega_E_pg = np.arccos(omega_E_pg_n/omega_E_pg_d);\n",
    "else:\n",
    "    omega_E_pg = np.pi - np.arccos(omega_E_pg_n/omega_E_pg_d);\n",
    "print(omega_1I_pg)\n",
    "print(omega_2I_pg)\n",
    "print(omega_E_pg)"
   ]
  },
  {
   "cell_type": "code",
   "execution_count": 109,
   "metadata": {},
   "outputs": [
    {
     "name": "stdout",
     "output_type": "stream",
     "text": [
      "115.26284357272402\n",
      "276.83598562528266\n",
      "-1.2520163119778915\n",
      "1.6429749052063125\n",
      "-1.6362604283875593e-07\n",
      "4.252240881374453e-07\n"
     ]
    }
   ],
   "source": [
    "#Retrograde arguments of perigee numerators and denominators\n",
    "omega_1I_rg_n = np.dot(N_1I_rg,e_1I_rg);\n",
    "omega_1I_rg_d = N_1IM_rg*e_1IM_rg;\n",
    "omega_2I_rg_n = np.dot(N_2I_rg,e_2I_rg);\n",
    "omega_2I_rg_d = N_2IM_rg*e_2IM_rg;\n",
    "omega_E_rg_n = np.dot(N_E_rg,e_E_rg);\n",
    "omega_E_rg_d = N_EM_rg*e_EM_rg;\n",
    "print(omega_1I_rg_n)\n",
    "print(omega_1I_rg_d)\n",
    "print(omega_2I_rg_n)\n",
    "print(omega_2I_rg_d)\n",
    "print(omega_E_rg_n)\n",
    "print(omega_E_rg_d)"
   ]
  },
  {
   "cell_type": "code",
   "execution_count": 110,
   "metadata": {},
   "outputs": [
    {
     "name": "stdout",
     "output_type": "stream",
     "text": [
      "2.000232105377246\n",
      "0.7043350996904869\n",
      "1.175805673371598\n"
     ]
    }
   ],
   "source": [
    "#Retrograde arguments of perigee\n",
    "if e_1I_rg[1] >= 0:\n",
    "    omega_1I_rg = np.arccos(omega_1I_rg_n/omega_1I_rg_d);\n",
    "else:\n",
    "    omega_1I_rg = np.pi - np.arccos(omega_1I_rg_n/omega_1I_rg_d);\n",
    "if e_2I_rg[1] >= 0:\n",
    "    omega_2I_rg = np.arccos(omega_2I_rg_n/omega_2I_rg_d);\n",
    "else:\n",
    "    omega_2I_rg = np.pi - np.arccos(omega_2I_rg_n/omega_2I_rg_d);\n",
    "if e_E_rg[1] >= 0:\n",
    "    omega_E_rg = np.arccos(omega_E_rg_n/omega_E_rg_d);\n",
    "else:\n",
    "    omega_E_rg = np.pi - np.arccos(omega_E_rg_n/omega_E_rg_d);\n",
    "print(omega_1I_rg)\n",
    "print(omega_2I_rg)\n",
    "print(omega_E_rg)"
   ]
  },
  {
   "cell_type": "code",
   "execution_count": 111,
   "metadata": {},
   "outputs": [
    {
     "name": "stdout",
     "output_type": "stream",
     "text": [
      "84.21545293159616\n",
      "85.30888685807358\n",
      "-13.319014569277302\n",
      "64.45133258816989\n",
      "-0.9008132890795655\n",
      "0.9331602487013115\n"
     ]
    }
   ],
   "source": [
    "#Prograde true anomalies numerators and denominators\n",
    "theta_1I_pg_n = np.dot(e_1I_pg,r_1I);\n",
    "theta_1I_pg_d = e_1IM_pg*r_1IM;\n",
    "theta_2I_pg_n = np.dot(e_2I_pg,r_2I);\n",
    "theta_2I_pg_d = e_2IM_pg*r_2IM;\n",
    "theta_E_pg_n = np.dot(e_E_pg,r_E);\n",
    "theta_E_pg_d = e_EM_pg*r_EM;\n",
    "print(theta_1I_pg_n)\n",
    "print(theta_1I_pg_d)\n",
    "print(theta_2I_pg_n)\n",
    "print(theta_2I_pg_d)\n",
    "print(theta_E_pg_n)\n",
    "print(theta_E_pg_d)"
   ]
  },
  {
   "cell_type": "code",
   "execution_count": 112,
   "metadata": {},
   "outputs": [
    {
     "name": "stdout",
     "output_type": "stream",
     "text": [
      "2197.9643086147908\n",
      "2239.815161234601\n",
      "99.35686337646257\n",
      "270.56261646492186\n",
      "-0.7351254488168874\n",
      "0.8316467199981876\n"
     ]
    }
   ],
   "source": [
    "#Retrograde true anomalies numerators and denominators\n",
    "theta_1I_rg_n = np.dot(e_1I_rg,r_1I);\n",
    "theta_1I_rg_d = e_1IM_rg*r_1IM;\n",
    "theta_2I_rg_n = np.dot(e_2I_rg,r_2I);\n",
    "theta_2I_rg_d = e_2IM_rg*r_2IM;\n",
    "theta_E_rg_n = np.dot(e_E_rg,r_E);\n",
    "theta_E_rg_d = e_EM_rg*r_EM;\n",
    "print(theta_1I_rg_n)\n",
    "print(theta_1I_rg_d)\n",
    "print(theta_2I_rg_n)\n",
    "print(theta_2I_rg_d)\n",
    "print(theta_E_rg_n)\n",
    "print(theta_E_rg_d)"
   ]
  },
  {
   "cell_type": "code",
   "execution_count": 113,
   "metadata": {},
   "outputs": [
    {
     "name": "stdout",
     "output_type": "stream",
     "text": [
      "2.98131273913825\n",
      "1.3626441916871237\n",
      "0.2640682536770158\n"
     ]
    }
   ],
   "source": [
    "#Prograde true anomalies\n",
    "if nu_r_1I >= 0:\n",
    "    theta_1I_pg = np.arccos(theta_1I_pg_n/theta_1I_pg_d);\n",
    "else:\n",
    "    theta_1I_pg = np.pi - np.arccos(theta_1I_pg_n/theta_1I_pg_d);\n",
    "if nu_r_2I >= 0:\n",
    "    theta_2I_pg = np.arccos(theta_2I_pg_n/theta_2I_pg_d);\n",
    "else:\n",
    "    theta_2I_pg = np.pi - np.arccos(theta_2I_pg_n/theta_2I_pg_d);\n",
    "if nu_r_E >= 0:\n",
    "    theta_E_pg = np.arccos(theta_E_pg_n/theta_E_pg_d);\n",
    "else:\n",
    "    theta_E_pg = np.pi - np.arccos(theta_E_pg_n/theta_E_pg_d);\n",
    "print(theta_1I_pg)\n",
    "print(theta_2I_pg)\n",
    "print(theta_E_pg)"
   ]
  },
  {
   "cell_type": "code",
   "execution_count": 114,
   "metadata": {},
   "outputs": [
    {
     "name": "stdout",
     "output_type": "stream",
     "text": [
      "2.9479773762604498\n",
      "1.946818176023479\n",
      "0.48657499628210843\n"
     ]
    }
   ],
   "source": [
    "#Retrograde true anomalies\n",
    "if nu_r_1I >= 0:\n",
    "    theta_1I_rg = np.arccos(theta_1I_rg_n/theta_1I_rg_d);\n",
    "else:\n",
    "    theta_1I_rg = np.pi - np.arccos(theta_1I_rg_n/theta_1I_rg_d);\n",
    "if nu_r_2I >= 0:\n",
    "    theta_2I_rg = np.arccos(theta_2I_rg_n/theta_2I_rg_d);\n",
    "else:\n",
    "    theta_2I_rg = np.pi - np.arccos(theta_2I_rg_n/theta_2I_rg_d);\n",
    "if nu_r_E >= 0:\n",
    "    theta_E_rg = np.arccos(theta_E_rg_n/theta_E_rg_d);\n",
    "else:\n",
    "    theta_E_rg = np.pi - np.arccos(theta_E_rg_n/theta_E_rg_d);\n",
    "print(theta_1I_rg)\n",
    "print(theta_2I_rg)\n",
    "print(theta_E_rg)"
   ]
  },
  {
   "cell_type": "code",
   "execution_count": 115,
   "metadata": {},
   "outputs": [
    {
     "name": "stdout",
     "output_type": "stream",
     "text": [
      "-1.304870503737988\n",
      "-0.8646334514626245\n",
      "0.49166915827575614\n"
     ]
    }
   ],
   "source": [
    "#Semi-major axis\n",
    "a_1I = 1/((2/r_1IM) - (nu_r_1I**2 / mu_S));\n",
    "a_2I = 1/((2/r_2IM) - (nu_r_2I**2 / mu_S));\n",
    "a_E = 1/((2/r_EM) - (nu_r_E**2 / mu_S));\n",
    "print(a_1I)\n",
    "print(a_2I)\n",
    "print(a_E)"
   ]
  }
 ],
 "metadata": {
  "kernelspec": {
   "display_name": "Python 3",
   "language": "python",
   "name": "python3"
  },
  "language_info": {
   "codemirror_mode": {
    "name": "ipython",
    "version": 3
   },
   "file_extension": ".py",
   "mimetype": "text/x-python",
   "name": "python",
   "nbconvert_exporter": "python",
   "pygments_lexer": "ipython3",
   "version": "3.8.3"
  }
 },
 "nbformat": 4,
 "nbformat_minor": 4
}

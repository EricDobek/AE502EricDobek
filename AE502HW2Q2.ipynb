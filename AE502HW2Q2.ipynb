{
 "cells": [
  {
   "cell_type": "code",
   "execution_count": 1,
   "metadata": {},
   "outputs": [],
   "source": [
    "import numpy as np\n",
    "import sympy as sp\n",
    "import math"
   ]
  },
  {
   "cell_type": "code",
   "execution_count": 2,
   "metadata": {},
   "outputs": [],
   "source": [
    "#Constants\n",
    "J2 = 0.00196; #Perturbation constant\n",
    "R = 3390; #Radius of big body (km)\n",
    "Mu = 4.282E4; #Gravitational parameter (km^3/s^2)\n",
    "T = 24*60*60 + 39*60 + 35; #Period (s)\n",
    "rp = 400; #Perigee altitude (km)"
   ]
  },
  {
   "cell_type": "code",
   "execution_count": 3,
   "metadata": {},
   "outputs": [
    {
     "name": "stdout",
     "output_type": "stream",
     "text": [
      "7.077651711832821e-05\n",
      "20446.67823912314\n",
      "0.9804369201039888\n"
     ]
    }
   ],
   "source": [
    "#Orbital Elements\n",
    "n = (2*np.pi)/T; #Mean motion (s^-1)\n",
    "a = (Mu/(n**2))**(1/3); #Semi-major axis (km)\n",
    "e = 1 - (rp/a); #Eccentricity\n",
    "print(n)\n",
    "print(a)\n",
    "print(e)"
   ]
  },
  {
   "cell_type": "code",
   "execution_count": 4,
   "metadata": {},
   "outputs": [
    {
     "name": "stdout",
     "output_type": "stream",
     "text": [
      "[1.10714871779409 2.03444393579570 4.24874137138388 5.17603658938550]\n"
     ]
    }
   ],
   "source": [
    "#Solving for the inclination\n",
    "inc = sp.Symbol('inc');\n",
    "inc = np.array(sp.solve(sp.cos(inc)**2 - 0.2,inc));\n",
    "print(inc)"
   ]
  },
  {
   "cell_type": "code",
   "execution_count": 5,
   "metadata": {},
   "outputs": [
    {
     "name": "stdout",
     "output_type": "stream",
     "text": [
      "1.7041542473950941e-06\n"
     ]
    }
   ],
   "source": [
    "#Finding the minimum omega\n",
    "Omegamin1 = -1.5*n*J2*((R/a)**2)*((math.cos(inc[0])) / (1 - e**2)**2);\n",
    "Omegamin2 = -1.5*n*J2*((R/a)**2)*((math.cos(inc[1])) / (1 - e**2)**2);\n",
    "Omegamin3 = -1.5*n*J2*((R/a)**2)*((math.cos(inc[2])) / (1 - e**2)**2);\n",
    "Omegamin4 = -1.5*n*J2*((R/a)**2)*((math.cos(inc[3])) / (1 - e**2)**2);\n",
    "Omegamin = np.array([Omegamin1,Omegamin2,Omegamin3,Omegamin4]);\n",
    "Omegamin = Omegamin[1];\n",
    "print(Omegamin)"
   ]
  },
  {
   "cell_type": "code",
   "execution_count": 6,
   "metadata": {},
   "outputs": [
    {
     "name": "stdout",
     "output_type": "stream",
     "text": [
      "2.5580285457079526e-09\n"
     ]
    }
   ],
   "source": [
    "#Finding the minimum omega with a circular orbit\n",
    "rp = a; #Perigee altitude (km)\n",
    "e = 1 - (rp/a); #Eccentricity\n",
    "Omegamin1 = -1.5*n*J2*((R/a)**2)*((math.cos(inc[0])) / (1 - e**2)**2);\n",
    "Omegamin2 = -1.5*n*J2*((R/a)**2)*((math.cos(inc[1])) / (1 - e**2)**2);\n",
    "Omegamin3 = -1.5*n*J2*((R/a)**2)*((math.cos(inc[2])) / (1 - e**2)**2);\n",
    "Omegamin4 = -1.5*n*J2*((R/a)**2)*((math.cos(inc[3])) / (1 - e**2)**2);\n",
    "Omegamin = np.array([Omegamin1,Omegamin2,Omegamin3,Omegamin4]);\n",
    "Omegamin = Omegamin[1];\n",
    "print(Omegamin)"
   ]
  }
 ],
 "metadata": {
  "kernelspec": {
   "display_name": "Python 3",
   "language": "python",
   "name": "python3"
  },
  "language_info": {
   "codemirror_mode": {
    "name": "ipython",
    "version": 3
   },
   "file_extension": ".py",
   "mimetype": "text/x-python",
   "name": "python",
   "nbconvert_exporter": "python",
   "pygments_lexer": "ipython3",
   "version": "3.8.3"
  }
 },
 "nbformat": 4,
 "nbformat_minor": 4
}

{
 "cells": [
  {
   "cell_type": "code",
   "execution_count": 1,
   "metadata": {},
   "outputs": [],
   "source": [
    "#Importing all necessary modules\n",
    "import numpy as np\n",
    "import sympy as sym\n",
    "import math\n",
    "import matplotlib.pyplot as plt\n",
    "from mpl_toolkits import mplot3d"
   ]
  },
  {
   "cell_type": "code",
   "execution_count": 2,
   "metadata": {},
   "outputs": [
    {
     "name": "stdout",
     "output_type": "stream",
     "text": [
      "0.00029591220821316525\n",
      "1600\n"
     ]
    }
   ],
   "source": [
    "#Constants\n",
    "Tol = 1.0E-8; #Tolerance\n",
    "mu_S = 1.32712440042E20; #m^3/s^2\n",
    "mu_day = 2.22972472E-24;\n",
    "mu_S = mu_S*mu_day; #AU^3/day^2\n",
    "dt = 1600;\n",
    "Iter_1I = 0;\n",
    "Iter_2I = 0;\n",
    "Iter_E = 0;\n",
    "Iter_1I_pg = 0;\n",
    "Iter_2I_pg = 0;\n",
    "Iter_E_pg = 0;\n",
    "Iter_1I_rg = 0;\n",
    "Iter_2I_rg = 0;\n",
    "Iter_E_rg = 0;\n",
    "z_1I_pg = 0.0;\n",
    "z_2I_pg = z_1I_pg;\n",
    "z_E_pg = z_1I_pg;\n",
    "z_1I_rg = z_1I_pg;\n",
    "z_2I_rg = z_1I_rg;\n",
    "z_E_rg = z_1I_rg;\n",
    "print(mu_S)\n",
    "print(dt)"
   ]
  },
  {
   "cell_type": "code",
   "execution_count": 3,
   "metadata": {},
   "outputs": [
    {
     "name": "stdout",
     "output_type": "stream",
     "text": [
      "[ 0.03515869 -3.16204639  4.49398311]\n",
      "[-0.00231758  0.00984336 -0.01541857]\n",
      "[ 7.24947203 14.61063038 14.24274452]\n",
      "[-0.00824171 -0.01156219 -0.01317136]\n",
      "[-1.79613651e-01  9.66794921e-01 -3.66868102e-05]\n",
      "[-1.72003836e-02 -3.21118620e-03  7.92773674e-07]\n"
     ]
    }
   ],
   "source": [
    "#Problem 5\n",
    "#Initial vectors (AU and AU/day)\n",
    "r_1I = np.array([3.515868886595499E-2,-3.162046390773074,4.493983111703389]);\n",
    "v_1I = np.array([-2.317577766980901E-3,9.843360903693031E-3,-1.541856855538041E-2]);\n",
    "r_2I = np.array([7.249472033259724,14.61063037906177,14.24274452216359]);\n",
    "v_2I = np.array([-8.241709369476881E-3,-1.156219024581502E-2,-1.317135977481448E-2]);\n",
    "r_E = np.array([-1.796136509111975E-1,9.667949206859814E-1,-3.668681017942158E-5]);\n",
    "v_E = np.array([-1.720038360888334E-2,-3.211186197806460E-3,7.927736735960840E-7]);\n",
    "print(r_1I)\n",
    "print(v_1I)\n",
    "print(r_2I)\n",
    "print(v_2I)\n",
    "print(r_E)\n",
    "print(v_E)"
   ]
  },
  {
   "cell_type": "code",
   "execution_count": 4,
   "metadata": {},
   "outputs": [
    {
     "name": "stdout",
     "output_type": "stream",
     "text": [
      "5.495057571953097\n",
      "0.018438958129008327\n",
      "21.653663347299887\n",
      "0.01936736262192\n",
      "0.9833379295053073\n",
      "0.017497568794498722\n"
     ]
    }
   ],
   "source": [
    "#Initial Magnitudes (AU and AU/day)\n",
    "r_1IM = np.sqrt(np.dot(r_1I,r_1I));\n",
    "v_1IM = np.sqrt(np.dot(v_1I,v_1I));\n",
    "r_2IM = np.sqrt(np.dot(r_2I,r_2I));\n",
    "v_2IM = np.sqrt(np.dot(v_2I,v_2I));\n",
    "r_EM = np.sqrt(np.dot(r_E,r_E));\n",
    "v_EM = np.sqrt(np.dot(v_E,v_E));\n",
    "print(r_1IM)\n",
    "print(v_1IM)\n",
    "print(r_2IM)\n",
    "print(v_2IM)\n",
    "print(r_EM)\n",
    "print(v_EM)"
   ]
  },
  {
   "cell_type": "code",
   "execution_count": 5,
   "metadata": {},
   "outputs": [
    {
     "name": "stdout",
     "output_type": "stream",
     "text": [
      "-0.01828869528532203\n",
      "-0.019224240962828414\n",
      "-1.539128816429416e-05\n"
     ]
    }
   ],
   "source": [
    "#Radial component velocities (AU/day)\n",
    "nu_r_1I = (np.dot(r_1I,v_1I))/r_1IM;\n",
    "nu_r_2I = (np.dot(r_2I,v_2I))/r_2IM;\n",
    "nu_r_E = (np.dot(r_E,v_E))/r_EM;\n",
    "print(nu_r_1I)\n",
    "print(nu_r_2I)\n",
    "print(nu_r_E)"
   ]
  },
  {
   "cell_type": "code",
   "execution_count": 6,
   "metadata": {},
   "outputs": [
    {
     "name": "stdout",
     "output_type": "stream",
     "text": [
      "[ 0.00451833 -0.00987306 -0.00698221]\n",
      "[-0.02776455 -0.02189916  0.03659679]\n",
      "[6.48641382e-07 7.73420182e-07 1.72060164e-02]\n"
     ]
    }
   ],
   "source": [
    "#Specific angular momentums (AU^2/day)\n",
    "h_1I = np.cross(r_1I,v_1I);\n",
    "h_2I = np.cross(r_2I,v_2I);\n",
    "h_E = np.cross(r_E,v_E);\n",
    "print(h_1I)\n",
    "print(h_2I)\n",
    "print(h_E)"
   ]
  },
  {
   "cell_type": "code",
   "execution_count": 7,
   "metadata": {},
   "outputs": [
    {
     "name": "stdout",
     "output_type": "stream",
     "text": [
      "0.012909060595588018\n",
      "0.050889768351352296\n",
      "0.017206016413271734\n"
     ]
    }
   ],
   "source": [
    "#Specific angular momentum magnitudes (AU^2/day)\n",
    "h_1IM = np.sqrt(np.dot(h_1I,h_1I));\n",
    "h_2IM = np.sqrt(np.dot(h_2I,h_2I));\n",
    "h_EM = np.sqrt(np.dot(h_E,h_E));\n",
    "print(h_1IM)\n",
    "print(h_2IM)\n",
    "print(h_EM)"
   ]
  },
  {
   "cell_type": "code",
   "execution_count": 8,
   "metadata": {},
   "outputs": [
    {
     "name": "stdout",
     "output_type": "stream",
     "text": [
      "2.1422752865992707\n",
      "0.7682345319822067\n",
      "5.866627661176234e-05\n"
     ]
    }
   ],
   "source": [
    "#Inclinations (Rad)\n",
    "i_1I = np.arccos(h_1I[2]/h_1IM);\n",
    "i_2I = np.arccos(h_2I[2]/h_2IM);\n",
    "i_E = np.arccos(h_E[2]/h_EM);\n",
    "print(i_1I)\n",
    "print(i_2I)\n",
    "print(i_E)"
   ]
  },
  {
   "cell_type": "code",
   "execution_count": 9,
   "metadata": {},
   "outputs": [
    {
     "name": "stdout",
     "output_type": "stream",
     "text": [
      "[ 0.00987306  0.00451833 -0.        ]\n",
      "[ 0.02189916 -0.02776455  0.        ]\n",
      "[-7.73420182e-07  6.48641382e-07  0.00000000e+00]\n"
     ]
    }
   ],
   "source": [
    "#Node line (AU^2/day)\n",
    "K_vector = np.array([0,0,1]);\n",
    "N_1I = np.cross(K_vector,h_1I);\n",
    "N_2I = np.cross(K_vector,h_2I);\n",
    "N_E = np.cross(K_vector,h_E);\n",
    "print(N_1I)\n",
    "print(N_2I)\n",
    "print(N_E)"
   ]
  },
  {
   "cell_type": "code",
   "execution_count": 10,
   "metadata": {},
   "outputs": [
    {
     "name": "stdout",
     "output_type": "stream",
     "text": [
      "0.010857836176322253\n",
      "0.0353616057072317\n",
      "1.0094129092683798e-06\n"
     ]
    }
   ],
   "source": [
    "#Node line magnitudes\n",
    "N_1IM = np.sqrt(np.dot(N_1I,N_1I));\n",
    "N_2IM = np.sqrt(np.dot(N_2I,N_2I));\n",
    "N_EM = np.sqrt(np.dot(N_E,N_E));\n",
    "print(N_1IM)\n",
    "print(N_2IM)\n",
    "print(N_EM)"
   ]
  },
  {
   "cell_type": "code",
   "execution_count": 11,
   "metadata": {},
   "outputs": [
    {
     "name": "stdout",
     "output_type": "stream",
     "text": [
      "0.42919123642669793\n",
      "2.2386368793087956\n",
      "2.443715341975923\n"
     ]
    }
   ],
   "source": [
    "#Right ascensions\n",
    "if N_1I[1] >= 0:\n",
    "    RA_1I = np.arccos(N_1I[0]/N_1IM);\n",
    "else:\n",
    "    RA_1I_pg = np.pi - np.arccos(N_1I[0]/N_1IM);\n",
    "if N_2I[1] >= 0:\n",
    "    RA_2I = np.arccos(N_2I[0]/N_2IM);\n",
    "else:\n",
    "    RA_2I = np.pi - np.arccos(N_2I[0]/N_2IM);\n",
    "if N_E[1] >= 0:\n",
    "    RA_E = np.arccos(N_E[0]/N_EM);\n",
    "else:\n",
    "    RA_E = np.pi - np.arccos(N_E[0]/N_EM);\n",
    "print(RA_1I)\n",
    "print(RA_2I)\n",
    "print(RA_E)"
   ]
  },
  {
   "cell_type": "code",
   "execution_count": 12,
   "metadata": {},
   "outputs": [
    {
     "name": "stdout",
     "output_type": "stream",
     "text": [
      "[-0.75309549  0.2853215  -0.89079705]\n",
      "[-2.73949425  1.5803764  -1.13266499]\n",
      "[-4.05950884e-03  1.69513125e-02 -6.08933614e-07]\n"
     ]
    }
   ],
   "source": [
    "#Eccentricities\n",
    "e_1I = (1/mu_S)*(np.cross(v_1I,h_1I) - mu_S*(r_1I/r_1IM));\n",
    "e_2I = (1/mu_S)*(np.cross(v_2I,h_2I) - mu_S*(r_2I/r_2IM));\n",
    "e_E = (1/mu_S)*(np.cross(v_E,h_E) - mu_S*(r_E/r_EM));\n",
    "print(e_1I)\n",
    "print(e_2I)\n",
    "print(e_E)"
   ]
  },
  {
   "cell_type": "code",
   "execution_count": 13,
   "metadata": {},
   "outputs": [
    {
     "name": "stdout",
     "output_type": "stream",
     "text": [
      "1.2008665883995984\n",
      "3.3593672502599703\n",
      "0.017430622659287243\n"
     ]
    }
   ],
   "source": [
    "#Eccentricity magnitudes\n",
    "e_1IM = np.sqrt(np.dot(e_1I,e_1I));\n",
    "e_2IM = np.sqrt(np.dot(e_2I,e_2I));\n",
    "e_EM = np.sqrt(np.dot(e_E,e_E));\n",
    "print(e_1IM)\n",
    "print(e_2IM)\n",
    "print(e_EM)"
   ]
  },
  {
   "cell_type": "code",
   "execution_count": 14,
   "metadata": {},
   "outputs": [
    {
     "name": "stdout",
     "output_type": "stream",
     "text": [
      "-0.006146178874600533\n",
      "0.013038812686461844\n",
      "-0.10387104942424198\n",
      "0.11879262012948023\n",
      "1.413502880779726e-08\n",
      "1.759469552887048e-08\n"
     ]
    }
   ],
   "source": [
    "#Arguments of perigee numerators and denominators\n",
    "omega_1I_n = np.dot(N_1I,e_1I);\n",
    "omega_1I_d = N_1IM*e_1IM;\n",
    "omega_2I_n = np.dot(N_2I,e_2I);\n",
    "omega_2I_d = N_2IM*e_2IM;\n",
    "omega_E_n = np.dot(N_E,e_E);\n",
    "omega_E_d = N_EM*e_EM;\n",
    "print(omega_1I_n)\n",
    "print(omega_1I_d)\n",
    "print(omega_2I_n)\n",
    "print(omega_2I_d)\n",
    "print(omega_E_n)\n",
    "print(omega_E_d)"
   ]
  },
  {
   "cell_type": "code",
   "execution_count": 15,
   "metadata": {},
   "outputs": [
    {
     "name": "stdout",
     "output_type": "stream",
     "text": [
      "2.061646274996333\n",
      "2.6349730487680314\n",
      "0.6378652966895136\n"
     ]
    }
   ],
   "source": [
    "#Arguments of perigee\n",
    "if e_1I[1] >= 0:\n",
    "    omega_1I = np.arccos(omega_1I_n/omega_1I_d);\n",
    "else:\n",
    "    omega_1I = np.pi - np.arccos(omega_1I_n/omega_1I_d);\n",
    "if e_2I[1] >= 0:\n",
    "    omega_2I = np.arccos(omega_2I_n/omega_2I_d);\n",
    "else:\n",
    "    omega_2I = np.pi - np.arccos(omega_2I_n/omega_2I_d);\n",
    "if e_E[1] >= 0:\n",
    "    omega_E = np.arccos(omega_E_n/omega_E_d);\n",
    "else:\n",
    "    omega_E = np.pi - np.arccos(omega_E_n/omega_E_d);\n",
    "print(omega_1I)\n",
    "print(omega_2I)\n",
    "print(omega_E)"
   ]
  },
  {
   "cell_type": "code",
   "execution_count": 16,
   "metadata": {},
   "outputs": [
    {
     "name": "stdout",
     "output_type": "stream",
     "text": [
      "-4.931904579831467\n",
      "6.598831039490697\n",
      "-12.90184963034531\n",
      "72.74260749707392\n",
      "0.01711758600527277\n",
      "6.598831039490697\n"
     ]
    }
   ],
   "source": [
    "#True anomalies numerators and denominators\n",
    "theta_1I_n = np.dot(e_1I,r_1I);\n",
    "theta_1I_d = e_1IM*r_1IM;\n",
    "theta_2I_n = np.dot(e_2I,r_2I);\n",
    "theta_2I_d = e_2IM*r_2IM;\n",
    "theta_E_n = np.dot(e_E,r_E);\n",
    "theta_E_d = e_1IM*r_1IM;\n",
    "print(theta_1I_n)\n",
    "print(theta_1I_d)\n",
    "print(theta_2I_n)\n",
    "print(theta_2I_d)\n",
    "print(theta_E_n)\n",
    "print(theta_E_d)"
   ]
  },
  {
   "cell_type": "code",
   "execution_count": 17,
   "metadata": {},
   "outputs": [
    {
     "name": "stdout",
     "output_type": "stream",
     "text": [
      "0.726670449454442\n",
      "1.3924899724350381\n",
      "1.5733903627840415\n"
     ]
    }
   ],
   "source": [
    "#True anomalies\n",
    "if nu_r_1I >= 0:\n",
    "    theta_1I = np.arccos(theta_1I_n/theta_1I_d);\n",
    "else:\n",
    "    theta_1I = np.pi - np.arccos(theta_1I_n/theta_1I_d);\n",
    "if nu_r_2I >= 0:\n",
    "    theta_2I = np.arccos(theta_2I_n/theta_2I_d);\n",
    "else:\n",
    "    theta_2I = np.pi - np.arccos(theta_2I_n/theta_2I_d);\n",
    "if nu_r_E >= 0:\n",
    "    theta_E = np.arccos(theta_E_n/theta_E_d);\n",
    "else:\n",
    "    theta_E = np.pi - np.arccos(theta_E_n/theta_E_d);\n",
    "print(theta_1I)\n",
    "print(theta_2I)\n",
    "print(theta_E)"
   ]
  },
  {
   "cell_type": "code",
   "execution_count": 18,
   "metadata": {},
   "outputs": [
    {
     "name": "stdout",
     "output_type": "stream",
     "text": [
      "-1.304870503737988\n",
      "-0.8646334514626245\n",
      "0.49166915827575614\n"
     ]
    }
   ],
   "source": [
    "#Semi-major axis\n",
    "a_1I = 1/((2/r_1IM) - (nu_r_1I**2 / mu_S));\n",
    "a_2I = 1/((2/r_2IM) - (nu_r_2I**2 / mu_S));\n",
    "a_E = 1/((2/r_EM) - (nu_r_E**2 / mu_S));\n",
    "print(a_1I)\n",
    "print(a_2I)\n",
    "print(a_E)"
   ]
  }
 ],
 "metadata": {
  "kernelspec": {
   "display_name": "Python 3",
   "language": "python",
   "name": "python3"
  },
  "language_info": {
   "codemirror_mode": {
    "name": "ipython",
    "version": 3
   },
   "file_extension": ".py",
   "mimetype": "text/x-python",
   "name": "python",
   "nbconvert_exporter": "python",
   "pygments_lexer": "ipython3",
   "version": "3.8.3"
  }
 },
 "nbformat": 4,
 "nbformat_minor": 4
}
